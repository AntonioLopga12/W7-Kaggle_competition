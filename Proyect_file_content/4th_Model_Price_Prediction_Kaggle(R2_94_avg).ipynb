{
 "cells": [
  {
   "cell_type": "code",
   "execution_count": 1,
   "id": "5f4d005a56c6483197dbcfcd2cc090dd",
   "metadata": {},
   "outputs": [],
   "source": [
    "import time                                                 # para tiempo\n",
    "inicio=time.time()                                          # momento inicial\n",
    "\n",
    "import pandas as pd                                         # dataframe\n",
    "import numpy as np                                          # numerical python, algebra lineal\n",
    "pd.set_option('display.max_columns', None)\n",
    "import matplotlib.pyplot as plt                             # plots, graficos\n",
    "import seaborn as sns                                       # plots\n",
    "\n",
    "import warnings                                             # avisos\n",
    "warnings.filterwarnings('ignore', category=RuntimeWarning)"
   ]
  },
  {
   "cell_type": "code",
   "execution_count": 2,
   "id": "5ec3e4eae2be4466867a3d2c2b879adf",
   "metadata": {},
   "outputs": [],
   "source": [
    "from sklearn.model_selection import train_test_split as tts"
   ]
  },
  {
   "cell_type": "code",
   "execution_count": 3,
   "id": "f5a4d832b55e41838ec50978894eb7bb",
   "metadata": {},
   "outputs": [],
   "source": [
    "from sklearn.linear_model import LinearRegression as LinReg"
   ]
  },
  {
   "cell_type": "code",
   "execution_count": 4,
   "id": "3b6285d21f8a47f18d40e75a7d2daf01",
   "metadata": {},
   "outputs": [],
   "source": [
    "from sklearn.ensemble import RandomForestRegressor as RFR\n",
    "from sklearn.linear_model import SGDClassifier as SGDC\n",
    "from sklearn.naive_bayes import GaussianNB as GNB\n",
    "from sklearn.naive_bayes import MultinomialNB as MNB\n",
    "from sklearn.naive_bayes import ComplementNB as CNB"
   ]
  },
  {
   "cell_type": "code",
   "execution_count": 5,
   "id": "61685a061478408c8b0b8cb9a73f7d8c",
   "metadata": {},
   "outputs": [],
   "source": [
    "from sklearn.metrics import mean_squared_error as mse"
   ]
  },
  {
   "cell_type": "code",
   "execution_count": 6,
   "id": "7dc81439cd804134b4250a9b82738c8b",
   "metadata": {},
   "outputs": [],
   "source": [
    "from sklearn.datasets import make_classification\n",
    "from sklearn.model_selection import train_test_split"
   ]
  },
  {
   "cell_type": "code",
   "execution_count": 7,
   "id": "920ef30d0db246c6883dde500346bd6c",
   "metadata": {},
   "outputs": [],
   "source": [
    "from sklearn.ensemble import RandomForestClassifier\n",
    "\n",
    "from sklearn.linear_model import *"
   ]
  },
  {
   "cell_type": "markdown",
   "id": "66c92430699a49fc810aefbebf000955",
   "metadata": {},
   "source": [
    "**Funciones**\n"
   ]
  },
  {
   "cell_type": "code",
   "execution_count": 8,
   "id": "17d90061a6244ea79c3c906d223c352e",
   "metadata": {},
   "outputs": [],
   "source": [
    "def trash_d(df):\n",
    "    df_col = df.columns\n",
    "    trash = []\n",
    "    for i in df_col:\n",
    "        if 'url' in i:\n",
    "\n",
    "            trash.append(i)\n",
    "        elif 'id' in i:\n",
    "\n",
    "            trash.append(i)\n",
    "        elif 'name' in i:\n",
    "\n",
    "            trash.append(i)\n",
    "        elif 'scrape' in i:\n",
    "\n",
    "            trash.append(i)\n",
    "        elif 'license' in i: #is it relevant??\n",
    "\n",
    "            trash.append(i)\n",
    "        elif 'latitude' in i:\n",
    "\n",
    "            trash.append(i)\n",
    "        elif 'longitude' in i:\n",
    "\n",
    "            trash.append(i)\n",
    "\n",
    "    print(trash)\n",
    "    return df.drop(trash,axis=1,inplace=True)"
   ]
  },
  {
   "cell_type": "code",
   "execution_count": 9,
   "id": "90187d8645f24771ada67f1c69979f7d",
   "metadata": {},
   "outputs": [],
   "source": [
    "def delete_nan(df):\n",
    "    data_1 = df.loc[:, df.isnull().mean() >= .5]\n",
    "    print(data_1.columns)\n",
    "    return df.drop(data_1,axis=1,inplace=True)"
   ]
  },
  {
   "cell_type": "code",
   "execution_count": 10,
   "id": "da5d29862535408d9ecf15566d90bb23",
   "metadata": {},
   "outputs": [],
   "source": [
    "def bin_corr_col(x):\n",
    "                                        \n",
    "    corr_matrix = x.corr().abs()# Create correlation matrix\n",
    "                                        \n",
    "    upper = corr_matrix.where(np.triu(np.ones(corr_matrix.shape), k=1).astype(bool)) # Select upper triangle of correlation matrix\n",
    "    \n",
    "    to_drop = [column for column in upper.columns if any(upper[column] > 0.90)]# Find features with correlation greater than 0.90\n",
    "    print(to_drop)\n",
    "\n",
    "    return x.drop(to_drop, axis=1, inplace=True) # Drop features"
   ]
  },
  {
   "cell_type": "code",
   "execution_count": 11,
   "id": "7870a15685174db8bb7c1ac680394bfa",
   "metadata": {},
   "outputs": [],
   "source": [
    "def fill_nan(df):\n",
    "    \n",
    "    for i in df.columns:\n",
    "        \n",
    "        df.fillna(0, inplace=True)\n",
    "     #round(df[i].mean(),3)\n",
    "\n",
    "    print(df.isna().sum())"
   ]
  },
  {
   "cell_type": "code",
   "execution_count": 12,
   "id": "f8524d2e586d4f298eb097800c63a5ba",
   "metadata": {},
   "outputs": [],
   "source": [
    "import re\n",
    "\n",
    "patron='[0-9]+'\n",
    "\n",
    "def limpieza_ba(x):\n",
    "    n_ba=0\n",
    "    \n",
    "    try:\n",
    "        n_ba=int(re.findall(patron, x)[0])\n",
    "    except:\n",
    "        n_ba=0\n",
    "        \n",
    "    return n_ba"
   ]
  },
  {
   "cell_type": "code",
   "execution_count": 13,
   "id": "0e0826a5ac864de188704988d17e5387",
   "metadata": {},
   "outputs": [],
   "source": [
    "def prueba_modelo(modelo):\n",
    "\n",
    "    modelo.fit(X_train, y_train)\n",
    "\n",
    "    y_pred=modelo.predict(X_test)\n",
    "\n",
    "    train_score=modelo.score(X_train, y_train)  \n",
    "    test_score=modelo.score(X_test, y_test)\n",
    "    \n",
    "    print(modelo)\n",
    "    print('Train:', train_score)\n",
    "    print('Test:', test_score) \n",
    "    print('\\n')"
   ]
  },
  {
   "cell_type": "code",
   "execution_count": 14,
   "id": "201d7a7b41224be4bae9f5b2c840a715",
   "metadata": {},
   "outputs": [],
   "source": [
    "def review_scores(df):\n",
    "    df_NAN_1 = df.copy()\n",
    "    df_NAN_2=df_NAN_1[['review_scores_rating','review_scores_checkin','review_scores_location']]\n",
    "    df_NAN_3 = df_NAN_2.apply(fill_nan)\n",
    "    df.assign(RER=df_NAN_3.review_scores_rating.values,\n",
    "              RSC=df_NAN_3.review_scores_checkin.values,\n",
    "              RSL=df_NAN_3.review_scores_location.values)\n",
    "    \n",
    "    "
   ]
  },
  {
   "cell_type": "markdown",
   "id": "073a5ba916844a078c1e041a4843b523",
   "metadata": {},
   "source": [
    "## 1.Train CSV:\n",
    "\n",
    "**Import Train Data:**"
   ]
  },
  {
   "cell_type": "code",
   "execution_count": 15,
   "id": "4c62f5c7b42141b180b5dd90d0db1a71",
   "metadata": {},
   "outputs": [],
   "source": [
    "df_train = pd.read_csv('data/train.csv')"
   ]
  },
  {
   "cell_type": "code",
   "execution_count": 16,
   "id": "80514e9833e3425091f78b2609796902",
   "metadata": {},
   "outputs": [],
   "source": [
    "df_TN = df_train._get_numeric_data()"
   ]
  },
  {
   "cell_type": "code",
   "execution_count": 17,
   "id": "933efe325d4a4dddad28e7101d69c92d",
   "metadata": {},
   "outputs": [
    {
     "name": "stdout",
     "output_type": "stream",
     "text": [
      "['id', 'scrape_id', 'host_id', 'latitude', 'longitude']\n"
     ]
    }
   ],
   "source": [
    "trash_d(df_TN)"
   ]
  },
  {
   "cell_type": "code",
   "execution_count": 18,
   "id": "b7637909229e4c92a46817d30861d757",
   "metadata": {},
   "outputs": [
    {
     "name": "stdout",
     "output_type": "stream",
     "text": [
      "['host_total_listings_count', 'minimum_minimum_nights', 'maximum_minimum_nights', 'minimum_nights_avg_ntm', 'maximum_nights_avg_ntm', 'availability_60', 'availability_90']\n"
     ]
    }
   ],
   "source": [
    "bin_corr_col(df_TN)"
   ]
  },
  {
   "cell_type": "code",
   "execution_count": 19,
   "id": "d42ec602f03b4f3fbdeed0098d6c9ea8",
   "metadata": {},
   "outputs": [
    {
     "name": "stdout",
     "output_type": "stream",
     "text": [
      "host_listings_count                             0\n",
      "neighbourhood_group_cleansed                    0\n",
      "accommodates                                    0\n",
      "bathrooms                                       0\n",
      "bedrooms                                        0\n",
      "beds                                            0\n",
      "price                                           0\n",
      "minimum_nights                                  0\n",
      "maximum_nights                                  0\n",
      "minimum_maximum_nights                          0\n",
      "maximum_maximum_nights                          0\n",
      "calendar_updated                                0\n",
      "availability_30                                 0\n",
      "availability_365                                0\n",
      "number_of_reviews                               0\n",
      "number_of_reviews_ltm                           0\n",
      "number_of_reviews_l30d                          0\n",
      "review_scores_rating                            0\n",
      "review_scores_accuracy                          0\n",
      "review_scores_cleanliness                       0\n",
      "review_scores_checkin                           0\n",
      "review_scores_communication                     0\n",
      "review_scores_location                          0\n",
      "review_scores_value                             0\n",
      "calculated_host_listings_count                  0\n",
      "calculated_host_listings_count_entire_homes     0\n",
      "calculated_host_listings_count_private_rooms    0\n",
      "calculated_host_listings_count_shared_rooms     0\n",
      "reviews_per_month                               0\n",
      "dtype: int64\n"
     ]
    }
   ],
   "source": [
    "fill_nan(df_TN)"
   ]
  },
  {
   "cell_type": "markdown",
   "id": "25fcd6d725fc4a0d8833b31189347e25",
   "metadata": {},
   "source": [
    "### Definicion de Modelo con Train: \n",
    "\n",
    "- De aqui sacamos la variabl modelo, para hacer la prediccion con el TEST!!\n",
    "\n",
    "### 1. LinReg"
   ]
  },
  {
   "cell_type": "code",
   "execution_count": 20,
   "id": "9f0f5f3f8c2a4043b39ede3f70dcd654",
   "metadata": {},
   "outputs": [],
   "source": [
    "X_train_lr, X_test_lr, y_train_lr, y_test_lr = tts(df_TN.drop('price',axis=1), \n",
    "                                               df_TN.price)"
   ]
  },
  {
   "cell_type": "code",
   "execution_count": 21,
   "id": "356bf9efd3d841fd8431334a8dbb7807",
   "metadata": {},
   "outputs": [
    {
     "data": {
      "text/plain": [
       "LinearRegression()"
      ]
     },
     "execution_count": 21,
     "metadata": {},
     "output_type": "execute_result"
    }
   ],
   "source": [
    "modelo_LR=LinReg()\n",
    "\n",
    "modelo_LR.fit(X_train_lr, y_train_lr)"
   ]
  },
  {
   "cell_type": "code",
   "execution_count": 22,
   "id": "876195eea1be4d4c916422924720f124",
   "metadata": {},
   "outputs": [],
   "source": [
    "### 1.3.1 R2"
   ]
  },
  {
   "cell_type": "code",
   "execution_count": 23,
   "id": "5f68267b0f204d63bad8eee7b8df6b5a",
   "metadata": {
    "scrolled": true
   },
   "outputs": [
    {
     "data": {
      "text/plain": [
       "0.04878944720865819"
      ]
     },
     "execution_count": 23,
     "metadata": {},
     "output_type": "execute_result"
    }
   ],
   "source": [
    "modelo_LR.score(X_test_lr, y_test_lr)# R2 cuanto mas cercano a 1 mejor "
   ]
  },
  {
   "cell_type": "code",
   "execution_count": 24,
   "id": "8f11f67544fc42278e4c6b50c5b3986c",
   "metadata": {},
   "outputs": [
    {
     "data": {
      "text/plain": [
       "(1042,)"
      ]
     },
     "execution_count": 24,
     "metadata": {},
     "output_type": "execute_result"
    }
   ],
   "source": [
    "y_pred_LR=modelo_LR.predict(X_test_lr)\n",
    "y_pred_LR.shape"
   ]
  },
  {
   "cell_type": "markdown",
   "id": "10590a739614478d9ca14b62199b1b02",
   "metadata": {},
   "source": [
    "### 1.3.2 MSE (Mean Squared Error)"
   ]
  },
  {
   "cell_type": "code",
   "execution_count": 25,
   "id": "95366038209f43f1a7b5b12a8841319c",
   "metadata": {
    "scrolled": true
   },
   "outputs": [
    {
     "data": {
      "text/plain": [
       "287.02568887859434"
      ]
     },
     "execution_count": 25,
     "metadata": {},
     "output_type": "execute_result"
    }
   ],
   "source": [
    "mse(y_pred_LR, y_test_lr, squared=False)"
   ]
  },
  {
   "cell_type": "markdown",
   "id": "b26fae69",
   "metadata": {},
   "source": [
    "### Lasso"
   ]
  },
  {
   "cell_type": "code",
   "execution_count": 26,
   "id": "4b3447ca",
   "metadata": {},
   "outputs": [],
   "source": [
    "X_train_lss, X_test_lss, y_train_lss, y_test_lss = tts(df_TN.drop('price',axis=1), \n",
    "                                               df_TN.price)"
   ]
  },
  {
   "cell_type": "code",
   "execution_count": 27,
   "id": "10aee27e",
   "metadata": {},
   "outputs": [
    {
     "data": {
      "text/plain": [
       "Lasso()"
      ]
     },
     "execution_count": 27,
     "metadata": {},
     "output_type": "execute_result"
    }
   ],
   "source": [
    "modelo_LSS=Lasso()\n",
    "\n",
    "modelo_LSS.fit(X_train_lss, y_train_lss)"
   ]
  },
  {
   "cell_type": "code",
   "execution_count": 28,
   "id": "e87e3fe2",
   "metadata": {},
   "outputs": [],
   "source": [
    "### 1.3.1 R2"
   ]
  },
  {
   "cell_type": "code",
   "execution_count": 29,
   "id": "f354cca2",
   "metadata": {
    "scrolled": true
   },
   "outputs": [
    {
     "data": {
      "text/plain": [
       "0.0017432795418576008"
      ]
     },
     "execution_count": 29,
     "metadata": {},
     "output_type": "execute_result"
    }
   ],
   "source": [
    "modelo_LSS.score(X_test_lss, y_test_lss)# R2 cuanto mas cercano a 1 mejor "
   ]
  },
  {
   "cell_type": "code",
   "execution_count": 30,
   "id": "8f11f67544fc42278e4c6b50c5b3986c",
   "metadata": {},
   "outputs": [
    {
     "data": {
      "text/plain": [
       "(1042,)"
      ]
     },
     "execution_count": 30,
     "metadata": {},
     "output_type": "execute_result"
    }
   ],
   "source": [
    "y_pred_LSS=modelo_LSS.predict(X_test_lss)\n",
    "y_pred_LSS.shape"
   ]
  },
  {
   "cell_type": "markdown",
   "id": "10590a739614478d9ca14b62199b1b02",
   "metadata": {},
   "source": [
    "### 1.3.2 MSE (Mean Squared Error)"
   ]
  },
  {
   "cell_type": "code",
   "execution_count": 31,
   "id": "95366038209f43f1a7b5b12a8841319c",
   "metadata": {
    "scrolled": true
   },
   "outputs": [
    {
     "data": {
      "text/plain": [
       "298.6547405920676"
      ]
     },
     "execution_count": 31,
     "metadata": {},
     "output_type": "execute_result"
    }
   ],
   "source": [
    "mse(y_pred_LSS, y_test_lss, squared=False)"
   ]
  },
  {
   "cell_type": "markdown",
   "id": "66e281329b654dbfae44cb3fd20d2170",
   "metadata": {},
   "source": [
    "### RFR"
   ]
  },
  {
   "cell_type": "code",
   "execution_count": 32,
   "id": "a226ccbb91ea47e18ae40c46ecf080b3",
   "metadata": {},
   "outputs": [],
   "source": [
    "X_train, X_test, y_train, y_test = tts(df_TN.drop('price',axis=1), \n",
    "                                               df_TN.price)"
   ]
  },
  {
   "cell_type": "code",
   "execution_count": 33,
   "id": "e4d2677754014ffab344971d461f99ca",
   "metadata": {},
   "outputs": [
    {
     "data": {
      "text/plain": [
       "RandomForestRegressor()"
      ]
     },
     "execution_count": 33,
     "metadata": {},
     "output_type": "execute_result"
    }
   ],
   "source": [
    "modelo_RFR=RFR()\n",
    "\n",
    "modelo_RFR.fit(X_train, y_train)"
   ]
  },
  {
   "cell_type": "code",
   "execution_count": 34,
   "id": "0df672f828a1490ca43447ff3410e461",
   "metadata": {},
   "outputs": [],
   "source": [
    "### 1.3.1 R2"
   ]
  },
  {
   "cell_type": "code",
   "execution_count": 35,
   "id": "85d7ab816fb14097a681b4086ae8b578",
   "metadata": {
    "scrolled": true
   },
   "outputs": [
    {
     "data": {
      "text/plain": [
       "0.22215525316921314"
      ]
     },
     "execution_count": 35,
     "metadata": {},
     "output_type": "execute_result"
    }
   ],
   "source": [
    "modelo_RFR.score(X_test, y_test)# R2 cuanto mas cercano a 1 mejor "
   ]
  },
  {
   "cell_type": "code",
   "execution_count": 36,
   "id": "dac79bbc73e843279e3570c49affbe91",
   "metadata": {},
   "outputs": [
    {
     "data": {
      "text/plain": [
       "(1042,)"
      ]
     },
     "execution_count": 36,
     "metadata": {},
     "output_type": "execute_result"
    }
   ],
   "source": [
    "y_pred=modelo_RFR.predict(X_test)\n",
    "y_pred.shape"
   ]
  },
  {
   "cell_type": "markdown",
   "id": "fb06eb115e3b42c38f3f89d0cfa160dd",
   "metadata": {},
   "source": [
    "### 1.3.2 MSE (Mean Squared Error)"
   ]
  },
  {
   "cell_type": "code",
   "execution_count": 37,
   "id": "3c1856c9a1594be2ae2bd5cb2530c232",
   "metadata": {
    "scrolled": true
   },
   "outputs": [
    {
     "data": {
      "text/plain": [
       "203.57979798128434"
      ]
     },
     "execution_count": 37,
     "metadata": {},
     "output_type": "execute_result"
    }
   ],
   "source": [
    "mse(y_pred, y_test, squared=False)"
   ]
  },
  {
   "cell_type": "markdown",
   "id": "51e78355b8c34617811bd905845a6ba9",
   "metadata": {},
   "source": [
    "### Feature importances with a forest of trees"
   ]
  },
  {
   "cell_type": "code",
   "execution_count": 38,
   "id": "8ae808e570334c2595dc8b738d619e8a",
   "metadata": {},
   "outputs": [],
   "source": [
    "X, y = make_classification(\n",
    "    n_samples=1000,\n",
    "    n_features=28,\n",
    "    n_informative=3,\n",
    "    n_redundant=0,\n",
    "    n_repeated=0,\n",
    "    n_classes=2,\n",
    "    random_state=0,\n",
    "    shuffle=False,)\n",
    "X_train, X_test, y_train, y_test = train_test_split(X, y, stratify=y, random_state=42)"
   ]
  },
  {
   "cell_type": "code",
   "execution_count": 39,
   "id": "937cbd4aae0e43f983170629c0d1b5b1",
   "metadata": {},
   "outputs": [
    {
     "data": {
      "text/plain": [
       "RandomForestClassifier(random_state=0)"
      ]
     },
     "execution_count": 39,
     "metadata": {},
     "output_type": "execute_result"
    }
   ],
   "source": [
    "\n",
    "\n",
    "feature_names = [f\"feature {i}\" for i in range(X.shape[1])]\n",
    "forest = RandomForestClassifier(random_state=0)\n",
    "forest.fit(X_train, y_train)"
   ]
  },
  {
   "cell_type": "code",
   "execution_count": 40,
   "id": "8cced2ea2f5449adbb52411ecdea4cb6",
   "metadata": {},
   "outputs": [],
   "source": [
    "start_time = time.time()\n",
    "importances = forest.feature_importances_\n",
    "std = np.std([tree.feature_importances_ for tree in forest.estimators_], axis=0)\n",
    "elapsed_time = time.time() - start_time"
   ]
  },
  {
   "cell_type": "code",
   "execution_count": 41,
   "id": "2f894ad57bb84ca88940580cb886422a",
   "metadata": {
    "scrolled": true
   },
   "outputs": [
    {
     "data": {
      "image/png": "[encoded data removed]",
      "text/plain": [
       "<Figure size 432x288 with 1 Axes>"
      ]
     },
     "metadata": {
      "needs_background": "light"
     },
     "output_type": "display_data"
    }
   ],
   "source": [
    "forest_importances = pd.Series(importances, index=feature_names)\n",
    "\n",
    "fig, ax = plt.subplots()\n",
    "forest_importances.plot.bar(yerr=std, ax=ax)\n",
    "ax.set_title(\"Feature importances using MDI\")\n",
    "ax.set_ylabel(\"Mean decrease in impurity\")\n",
    "fig.tight_layout()"
   ]
  },
  {
   "cell_type": "code",
   "execution_count": 42,
   "id": "46c853db27444c66a5baffe6ec30629e",
   "metadata": {},
   "outputs": [
    {
     "data": {
      "image/png": "[encoded data removed]",
      "text/plain": [
       "<Figure size 432x288 with 2 Axes>"
      ]
     },
     "metadata": {
      "needs_background": "light"
     },
     "output_type": "display_data"
    }
   ],
   "source": [
    "sns.heatmap(df_TN.corr());"
   ]
  },
  {
   "cell_type": "markdown",
   "id": "555038c7902b43298635edbac4f15965",
   "metadata": {},
   "source": [
    "## 2. Test CSV:"
   ]
  },
  {
   "cell_type": "code",
   "execution_count": 43,
   "id": "ef9193b026a7436cb1c4fe3d24ee6b14",
   "metadata": {},
   "outputs": [],
   "source": [
    "df_ts=pd.read_csv('data/test.csv')"
   ]
  },
  {
   "cell_type": "code",
   "execution_count": 44,
   "id": "3343255fed12448c8344e86f9853a8df",
   "metadata": {},
   "outputs": [],
   "source": [
    "df_test= df_ts._get_numeric_data()"
   ]
  },
  {
   "cell_type": "code",
   "execution_count": 45,
   "id": "1f26168a4d6545dd9cf98425f58d8174",
   "metadata": {},
   "outputs": [
    {
     "name": "stdout",
     "output_type": "stream",
     "text": [
      "['id', 'scrape_id', 'host_id', 'latitude', 'longitude']\n"
     ]
    }
   ],
   "source": [
    "trash_d(df_test)"
   ]
  },
  {
   "cell_type": "code",
   "execution_count": 46,
   "id": "9feef0983baa4e8bbc0aa1deaac477ae",
   "metadata": {},
   "outputs": [
    {
     "name": "stdout",
     "output_type": "stream",
     "text": [
      "['host_total_listings_count', 'minimum_minimum_nights', 'maximum_minimum_nights', 'minimum_nights_avg_ntm', 'maximum_nights_avg_ntm', 'availability_60', 'availability_90']\n"
     ]
    }
   ],
   "source": [
    "bin_corr_col(df_test)"
   ]
  },
  {
   "cell_type": "code",
   "execution_count": 47,
   "id": "3aadf94bdc894f848436cbd020a18dbe",
   "metadata": {},
   "outputs": [
    {
     "name": "stdout",
     "output_type": "stream",
     "text": [
      "host_listings_count                             0\n",
      "neighbourhood_group_cleansed                    0\n",
      "accommodates                                    0\n",
      "bathrooms                                       0\n",
      "bedrooms                                        0\n",
      "beds                                            0\n",
      "minimum_nights                                  0\n",
      "maximum_nights                                  0\n",
      "minimum_maximum_nights                          0\n",
      "maximum_maximum_nights                          0\n",
      "calendar_updated                                0\n",
      "availability_30                                 0\n",
      "availability_365                                0\n",
      "number_of_reviews                               0\n",
      "number_of_reviews_ltm                           0\n",
      "number_of_reviews_l30d                          0\n",
      "review_scores_rating                            0\n",
      "review_scores_accuracy                          0\n",
      "review_scores_cleanliness                       0\n",
      "review_scores_checkin                           0\n",
      "review_scores_communication                     0\n",
      "review_scores_location                          0\n",
      "review_scores_value                             0\n",
      "calculated_host_listings_count                  0\n",
      "calculated_host_listings_count_entire_homes     0\n",
      "calculated_host_listings_count_private_rooms    0\n",
      "calculated_host_listings_count_shared_rooms     0\n",
      "reviews_per_month                               0\n",
      "dtype: int64\n"
     ]
    }
   ],
   "source": [
    "fill_nan(df_test)"
   ]
  },
  {
   "cell_type": "markdown",
   "id": "6d1b74ac",
   "metadata": {},
   "source": [
    "### Prediction on Test DF LinReG"
   ]
  },
  {
   "cell_type": "markdown",
   "id": "a95d67e7",
   "metadata": {},
   "source": [
    "Here we place the **Test DF** into the model we have trained. \n",
    "\n"
   ]
  },
  {
   "cell_type": "code",
   "execution_count": 48,
   "id": "65176701",
   "metadata": {},
   "outputs": [],
   "source": [
    "y_pred_LR=modelo_LR.predict(df_test)"
   ]
  },
  {
   "cell_type": "code",
   "execution_count": 49,
   "id": "0d399775",
   "metadata": {},
   "outputs": [
    {
     "data": {
      "text/plain": [
       "(1389,)"
      ]
     },
     "execution_count": 49,
     "metadata": {},
     "output_type": "execute_result"
    }
   ],
   "source": [
    "y_pred_LR.shape"
   ]
  },
  {
   "cell_type": "code",
   "execution_count": 50,
   "id": "ba71ca4a",
   "metadata": {},
   "outputs": [
    {
     "data": {
      "text/plain": [
       "'Train : 0.37721033363694256 Test: 0.04878944720865819'"
      ]
     },
     "execution_count": 50,
     "metadata": {},
     "output_type": "execute_result"
    }
   ],
   "source": [
    "f\"Train : {modelo_LR.score(X_train_lr, y_train_lr)} Test: {modelo_LR.score(X_test_lr, y_test_lr)}\"\n"
   ]
  },
  {
   "cell_type": "code",
   "execution_count": 51,
   "id": "6fa501b6",
   "metadata": {},
   "outputs": [
    {
     "data": {
      "text/plain": [
       "LinearRegression()"
      ]
     },
     "execution_count": 51,
     "metadata": {},
     "output_type": "execute_result"
    }
   ],
   "source": [
    "modelo_LR.fit(X_train_lr, y_train_lr)"
   ]
  },
  {
   "cell_type": "code",
   "execution_count": 52,
   "id": "bd90d031",
   "metadata": {
    "scrolled": true
   },
   "outputs": [
    {
     "name": "stdout",
     "output_type": "stream",
     "text": [
      "LinearRegression()\n",
      "Train: 0.37721033363694256\n",
      "Test: 0.04878944720865819\n",
      "\n",
      "\n"
     ]
    }
   ],
   "source": [
    "train_score=modelo_LR.score(X_train_lr, y_train_lr)  \n",
    "test_score=modelo_LR.score(X_test_lr, y_test_lr)\n",
    "    \n",
    "print(modelo_LR)\n",
    "print('Train:', train_score)\n",
    "print('Test:', test_score) \n",
    "print('\\n')"
   ]
  },
  {
   "cell_type": "markdown",
   "id": "dede014f",
   "metadata": {},
   "source": [
    "Submition 5:\n",
    "\n",
    "    *LinearRegression()\n",
    "    Train: 0.14651660992370874\n",
    "    Test: 0.3820126818795656\n",
    "\n",
    "R2 = 100.87018"
   ]
  },
  {
   "cell_type": "code",
   "execution_count": 53,
   "id": "05657fcf",
   "metadata": {},
   "outputs": [
    {
     "data": {
      "text/plain": [
       "(1389,)"
      ]
     },
     "execution_count": 53,
     "metadata": {},
     "output_type": "execute_result"
    }
   ],
   "source": [
    "y_pred_LR.shape"
   ]
  },
  {
   "cell_type": "markdown",
   "id": "6d1b74ac",
   "metadata": {},
   "source": [
    "### Prediction on Test DF RFR"
   ]
  },
  {
   "cell_type": "markdown",
   "id": "a95d67e7",
   "metadata": {},
   "source": [
    "Here we place the **Test DF** into the model we have trained. \n",
    "\n"
   ]
  },
  {
   "cell_type": "code",
   "execution_count": 54,
   "id": "65176701",
   "metadata": {},
   "outputs": [],
   "source": [
    "y_pred_LSS=modelo_LSS.predict(df_test)"
   ]
  },
  {
   "cell_type": "code",
   "execution_count": 55,
   "id": "0d399775",
   "metadata": {},
   "outputs": [
    {
     "data": {
      "text/plain": [
       "(1389,)"
      ]
     },
     "execution_count": 55,
     "metadata": {},
     "output_type": "execute_result"
    }
   ],
   "source": [
    "y_pred_LSS.shape"
   ]
  },
  {
   "cell_type": "code",
   "execution_count": 56,
   "id": "6fa501b6",
   "metadata": {},
   "outputs": [
    {
     "data": {
      "text/plain": [
       "Lasso()"
      ]
     },
     "execution_count": 56,
     "metadata": {},
     "output_type": "execute_result"
    }
   ],
   "source": [
    "modelo_LSS.fit(X_train_lss, y_train_lss)"
   ]
  },
  {
   "cell_type": "code",
   "execution_count": 57,
   "id": "bd90d031",
   "metadata": {
    "scrolled": false
   },
   "outputs": [
    {
     "name": "stdout",
     "output_type": "stream",
     "text": [
      "Lasso()\n",
      "Train: 0.3738199888371728\n",
      "Test: 0.0017432795418576008\n",
      "\n",
      "\n"
     ]
    }
   ],
   "source": [
    "train_score=modelo_LSS.score(X_train_lss, y_train_lss)  \n",
    "test_score=modelo_LSS.score(X_test_lss, y_test_lss)\n",
    "    \n",
    "print(modelo_LSS)\n",
    "print('Train:', train_score)\n",
    "print('Test:', test_score) \n",
    "print('\\n')"
   ]
  },
  {
   "cell_type": "markdown",
   "id": "76dcec50",
   "metadata": {},
   "source": [
    "**MODELOS VARIOS:**"
   ]
  },
  {
   "cell_type": "code",
   "execution_count": 58,
   "id": "ff28e75e",
   "metadata": {},
   "outputs": [
    {
     "data": {
      "text/html": [
       "<div>\n",
       "<style scoped>\n",
       "    .dataframe tbody tr th:only-of-type {\n",
       "        vertical-align: middle;\n",
       "    }\n",
       "\n",
       "    .dataframe tbody tr th {\n",
       "        vertical-align: top;\n",
       "    }\n",
       "\n",
       "    .dataframe thead th {\n",
       "        text-align: right;\n",
       "    }\n",
       "</style>\n",
       "<table border=\"1\" class=\"dataframe\">\n",
       "  <thead>\n",
       "    <tr style=\"text-align: right;\">\n",
       "      <th></th>\n",
       "      <th>host_listings_count</th>\n",
       "      <th>neighbourhood_group_cleansed</th>\n",
       "      <th>accommodates</th>\n",
       "      <th>bathrooms</th>\n",
       "      <th>bedrooms</th>\n",
       "      <th>beds</th>\n",
       "      <th>price</th>\n",
       "      <th>minimum_nights</th>\n",
       "      <th>maximum_nights</th>\n",
       "      <th>minimum_maximum_nights</th>\n",
       "      <th>maximum_maximum_nights</th>\n",
       "      <th>calendar_updated</th>\n",
       "      <th>availability_30</th>\n",
       "      <th>availability_365</th>\n",
       "      <th>number_of_reviews</th>\n",
       "      <th>number_of_reviews_ltm</th>\n",
       "      <th>number_of_reviews_l30d</th>\n",
       "      <th>review_scores_rating</th>\n",
       "      <th>review_scores_accuracy</th>\n",
       "      <th>review_scores_cleanliness</th>\n",
       "      <th>review_scores_checkin</th>\n",
       "      <th>review_scores_communication</th>\n",
       "      <th>review_scores_location</th>\n",
       "      <th>review_scores_value</th>\n",
       "      <th>calculated_host_listings_count</th>\n",
       "      <th>calculated_host_listings_count_entire_homes</th>\n",
       "      <th>calculated_host_listings_count_private_rooms</th>\n",
       "      <th>calculated_host_listings_count_shared_rooms</th>\n",
       "      <th>reviews_per_month</th>\n",
       "    </tr>\n",
       "  </thead>\n",
       "  <tbody>\n",
       "    <tr>\n",
       "      <th>0</th>\n",
       "      <td>13</td>\n",
       "      <td>0.0</td>\n",
       "      <td>3</td>\n",
       "      <td>0.0</td>\n",
       "      <td>1.0</td>\n",
       "      <td>0.0</td>\n",
       "      <td>87.0</td>\n",
       "      <td>2</td>\n",
       "      <td>1125</td>\n",
       "      <td>1125.0</td>\n",
       "      <td>1125.0</td>\n",
       "      <td>0.0</td>\n",
       "      <td>0</td>\n",
       "      <td>249</td>\n",
       "      <td>81</td>\n",
       "      <td>0</td>\n",
       "      <td>0</td>\n",
       "      <td>4.62</td>\n",
       "      <td>4.56</td>\n",
       "      <td>4.29</td>\n",
       "      <td>4.57</td>\n",
       "      <td>4.75</td>\n",
       "      <td>4.69</td>\n",
       "      <td>4.49</td>\n",
       "      <td>10</td>\n",
       "      <td>0</td>\n",
       "      <td>10</td>\n",
       "      <td>0</td>\n",
       "      <td>0.91</td>\n",
       "    </tr>\n",
       "    <tr>\n",
       "      <th>1</th>\n",
       "      <td>0</td>\n",
       "      <td>0.0</td>\n",
       "      <td>4</td>\n",
       "      <td>0.0</td>\n",
       "      <td>2.0</td>\n",
       "      <td>2.0</td>\n",
       "      <td>250.0</td>\n",
       "      <td>2</td>\n",
       "      <td>1125</td>\n",
       "      <td>1125.0</td>\n",
       "      <td>1125.0</td>\n",
       "      <td>0.0</td>\n",
       "      <td>3</td>\n",
       "      <td>3</td>\n",
       "      <td>9</td>\n",
       "      <td>4</td>\n",
       "      <td>1</td>\n",
       "      <td>5.00</td>\n",
       "      <td>5.00</td>\n",
       "      <td>5.00</td>\n",
       "      <td>4.89</td>\n",
       "      <td>5.00</td>\n",
       "      <td>5.00</td>\n",
       "      <td>4.89</td>\n",
       "      <td>1</td>\n",
       "      <td>1</td>\n",
       "      <td>0</td>\n",
       "      <td>0</td>\n",
       "      <td>0.40</td>\n",
       "    </tr>\n",
       "    <tr>\n",
       "      <th>2</th>\n",
       "      <td>20</td>\n",
       "      <td>0.0</td>\n",
       "      <td>2</td>\n",
       "      <td>0.0</td>\n",
       "      <td>1.0</td>\n",
       "      <td>1.0</td>\n",
       "      <td>151.0</td>\n",
       "      <td>1</td>\n",
       "      <td>1125</td>\n",
       "      <td>99.0</td>\n",
       "      <td>99.0</td>\n",
       "      <td>0.0</td>\n",
       "      <td>25</td>\n",
       "      <td>267</td>\n",
       "      <td>47</td>\n",
       "      <td>3</td>\n",
       "      <td>1</td>\n",
       "      <td>4.79</td>\n",
       "      <td>4.83</td>\n",
       "      <td>4.91</td>\n",
       "      <td>4.62</td>\n",
       "      <td>4.87</td>\n",
       "      <td>4.87</td>\n",
       "      <td>4.40</td>\n",
       "      <td>20</td>\n",
       "      <td>4</td>\n",
       "      <td>0</td>\n",
       "      <td>0</td>\n",
       "      <td>1.25</td>\n",
       "    </tr>\n",
       "    <tr>\n",
       "      <th>3</th>\n",
       "      <td>1</td>\n",
       "      <td>0.0</td>\n",
       "      <td>2</td>\n",
       "      <td>0.0</td>\n",
       "      <td>1.0</td>\n",
       "      <td>1.0</td>\n",
       "      <td>139.0</td>\n",
       "      <td>2</td>\n",
       "      <td>30</td>\n",
       "      <td>1125.0</td>\n",
       "      <td>1125.0</td>\n",
       "      <td>0.0</td>\n",
       "      <td>0</td>\n",
       "      <td>0</td>\n",
       "      <td>10</td>\n",
       "      <td>3</td>\n",
       "      <td>0</td>\n",
       "      <td>5.00</td>\n",
       "      <td>5.00</td>\n",
       "      <td>4.80</td>\n",
       "      <td>5.00</td>\n",
       "      <td>5.00</td>\n",
       "      <td>4.90</td>\n",
       "      <td>4.70</td>\n",
       "      <td>1</td>\n",
       "      <td>1</td>\n",
       "      <td>0</td>\n",
       "      <td>0</td>\n",
       "      <td>0.31</td>\n",
       "    </tr>\n",
       "    <tr>\n",
       "      <th>4</th>\n",
       "      <td>1</td>\n",
       "      <td>0.0</td>\n",
       "      <td>2</td>\n",
       "      <td>0.0</td>\n",
       "      <td>1.0</td>\n",
       "      <td>2.0</td>\n",
       "      <td>95.0</td>\n",
       "      <td>2</td>\n",
       "      <td>7</td>\n",
       "      <td>7.0</td>\n",
       "      <td>7.0</td>\n",
       "      <td>0.0</td>\n",
       "      <td>18</td>\n",
       "      <td>349</td>\n",
       "      <td>166</td>\n",
       "      <td>1</td>\n",
       "      <td>0</td>\n",
       "      <td>4.67</td>\n",
       "      <td>4.76</td>\n",
       "      <td>4.81</td>\n",
       "      <td>4.95</td>\n",
       "      <td>4.89</td>\n",
       "      <td>4.49</td>\n",
       "      <td>4.57</td>\n",
       "      <td>1</td>\n",
       "      <td>0</td>\n",
       "      <td>1</td>\n",
       "      <td>0</td>\n",
       "      <td>1.78</td>\n",
       "    </tr>\n",
       "  </tbody>\n",
       "</table>\n",
       "</div>"
      ],
      "text/plain": [
       "   host_listings_count  neighbourhood_group_cleansed  accommodates  bathrooms  \\\n",
       "0                   13                           0.0             3        0.0   \n",
       "1                    0                           0.0             4        0.0   \n",
       "2                   20                           0.0             2        0.0   \n",
       "3                    1                           0.0             2        0.0   \n",
       "4                    1                           0.0             2        0.0   \n",
       "\n",
       "   bedrooms  beds  price  minimum_nights  maximum_nights  \\\n",
       "0       1.0   0.0   87.0               2            1125   \n",
       "1       2.0   2.0  250.0               2            1125   \n",
       "2       1.0   1.0  151.0               1            1125   \n",
       "3       1.0   1.0  139.0               2              30   \n",
       "4       1.0   2.0   95.0               2               7   \n",
       "\n",
       "   minimum_maximum_nights  maximum_maximum_nights  calendar_updated  \\\n",
       "0                  1125.0                  1125.0               0.0   \n",
       "1                  1125.0                  1125.0               0.0   \n",
       "2                    99.0                    99.0               0.0   \n",
       "3                  1125.0                  1125.0               0.0   \n",
       "4                     7.0                     7.0               0.0   \n",
       "\n",
       "   availability_30  availability_365  number_of_reviews  \\\n",
       "0                0               249                 81   \n",
       "1                3                 3                  9   \n",
       "2               25               267                 47   \n",
       "3                0                 0                 10   \n",
       "4               18               349                166   \n",
       "\n",
       "   number_of_reviews_ltm  number_of_reviews_l30d  review_scores_rating  \\\n",
       "0                      0                       0                  4.62   \n",
       "1                      4                       1                  5.00   \n",
       "2                      3                       1                  4.79   \n",
       "3                      3                       0                  5.00   \n",
       "4                      1                       0                  4.67   \n",
       "\n",
       "   review_scores_accuracy  review_scores_cleanliness  review_scores_checkin  \\\n",
       "0                    4.56                       4.29                   4.57   \n",
       "1                    5.00                       5.00                   4.89   \n",
       "2                    4.83                       4.91                   4.62   \n",
       "3                    5.00                       4.80                   5.00   \n",
       "4                    4.76                       4.81                   4.95   \n",
       "\n",
       "   review_scores_communication  review_scores_location  review_scores_value  \\\n",
       "0                         4.75                    4.69                 4.49   \n",
       "1                         5.00                    5.00                 4.89   \n",
       "2                         4.87                    4.87                 4.40   \n",
       "3                         5.00                    4.90                 4.70   \n",
       "4                         4.89                    4.49                 4.57   \n",
       "\n",
       "   calculated_host_listings_count  \\\n",
       "0                              10   \n",
       "1                               1   \n",
       "2                              20   \n",
       "3                               1   \n",
       "4                               1   \n",
       "\n",
       "   calculated_host_listings_count_entire_homes  \\\n",
       "0                                            0   \n",
       "1                                            1   \n",
       "2                                            4   \n",
       "3                                            1   \n",
       "4                                            0   \n",
       "\n",
       "   calculated_host_listings_count_private_rooms  \\\n",
       "0                                            10   \n",
       "1                                             0   \n",
       "2                                             0   \n",
       "3                                             0   \n",
       "4                                             1   \n",
       "\n",
       "   calculated_host_listings_count_shared_rooms  reviews_per_month  \n",
       "0                                            0               0.91  \n",
       "1                                            0               0.40  \n",
       "2                                            0               1.25  \n",
       "3                                            0               0.31  \n",
       "4                                            0               1.78  "
      ]
     },
     "execution_count": 58,
     "metadata": {},
     "output_type": "execute_result"
    }
   ],
   "source": [
    "df_TN.head()"
   ]
  },
  {
   "cell_type": "code",
   "execution_count": 59,
   "id": "34dad530",
   "metadata": {},
   "outputs": [],
   "source": [
    "X=df_TN.drop('price', axis=1)\n",
    "y=df_TN.price"
   ]
  },
  {
   "cell_type": "code",
   "execution_count": 60,
   "id": "f1a76b71",
   "metadata": {},
   "outputs": [],
   "source": [
    "X_train, X_test, y_train, y_test = tts(X, y, \n",
    "                                       test_size=0.15, random_state=42)"
   ]
  },
  {
   "cell_type": "code",
   "execution_count": 61,
   "id": "3609646f",
   "metadata": {
    "scrolled": true
   },
   "outputs": [
    {
     "name": "stdout",
     "output_type": "stream",
     "text": [
      "LinearRegression()\n",
      "Train: 0.15079392098382138\n",
      "Test: 0.3669937014652208\n",
      "\n",
      "\n",
      "Lasso()\n",
      "Train: 0.14630146288014012\n",
      "Test: 0.36732441984262476\n",
      "\n",
      "\n",
      "RandomForestRegressor()\n",
      "Train: 0.8973628105684543\n",
      "Test: 0.4317148599565501\n",
      "\n",
      "\n"
     ]
    },
    {
     "name": "stderr",
     "output_type": "stream",
     "text": [
      "/opt/homebrew/Caskroom/miniconda/base/envs/ironhack_2/lib/python3.8/site-packages/sklearn/linear_model/_stochastic_gradient.py:696: ConvergenceWarning: Maximum number of iteration reached before convergence. Consider increasing max_iter to improve the fit.\n",
      "  warnings.warn(\n"
     ]
    },
    {
     "name": "stdout",
     "output_type": "stream",
     "text": [
      "SGDClassifier()\n",
      "Train: 0.0008472182999152782\n",
      "Test: 0.0\n",
      "\n",
      "\n",
      "GaussianNB()\n",
      "Train: 0.04207850889579215\n",
      "Test: 0.04472843450479233\n",
      "\n",
      "\n",
      "MultinomialNB()\n",
      "Train: 0.04631460039536854\n",
      "Test: 0.004792332268370607\n",
      "\n",
      "\n",
      "ComplementNB()\n",
      "Train: 0.042925727195707426\n",
      "Test: 0.04792332268370607\n",
      "\n",
      "\n"
     ]
    }
   ],
   "source": [
    "modelos=[LinReg(), Lasso(),RFR(),SGDC(),GNB(),MNB(),CNB()]\n",
    "\n",
    "for m in modelos:\n",
    "    prueba_modelo(m)"
   ]
  },
  {
   "cell_type": "markdown",
   "id": "319f3bc5",
   "metadata": {},
   "source": [
    "Submition 5:\n",
    "\n",
    "    *LinearRegression()\n",
    "    Train: 0.14651660992370874\n",
    "    Test: 0.3820126818795656\n",
    "\n",
    "R2_Kaggle = 100.87018\n",
    "\n",
    "Submition 7:\n",
    "\n",
    "    *RandomForestRegressor()\n",
    "    Train: 0.9611092937754674\n",
    "    Test: 0.6794674859190988\n",
    "    \n",
    "R2_Kaggle = 97.74893\n",
    "\n",
    "Submition 8: (Thisone ot LinReg)\n",
    "\n",
    "    *RandomForestRegressor()\n",
    "    Train: 0.9613236998741297\n",
    "    Test: 0.6987391193036354\n",
    "  \n",
    "R2_Kaggle = 93.99070\n"
   ]
  },
  {
   "cell_type": "code",
   "execution_count": 62,
   "id": "05657fcf",
   "metadata": {},
   "outputs": [],
   "source": [
    "#y_pred_lr.shape"
   ]
  },
  {
   "cell_type": "code",
   "execution_count": null,
   "id": "cda47764",
   "metadata": {},
   "outputs": [],
   "source": []
  },
  {
   "cell_type": "markdown",
   "id": "582f1bf4",
   "metadata": {},
   "source": [
    "### Guardar modelo:"
   ]
  },
  {
   "cell_type": "markdown",
   "id": "06a8257e",
   "metadata": {},
   "source": [
    "Here we place the "
   ]
  },
  {
   "cell_type": "code",
   "execution_count": 63,
   "id": "4e1b8ad2",
   "metadata": {},
   "outputs": [
    {
     "ename": "NameError",
     "evalue": "name 'y_pred_lr' is not defined",
     "output_type": "error",
     "traceback": [
      "\u001b[0;31m---------------------------------------------------------------------------\u001b[0m",
      "\u001b[0;31mNameError\u001b[0m                                 Traceback (most recent call last)",
      "\u001b[0;32m/var/folders/xt/vx2zkv116hb1jvz92s1nlr2r0000gn/T/ipykernel_57234/2906868001.py\u001b[0m in \u001b[0;36m<module>\u001b[0;34m\u001b[0m\n\u001b[1;32m      2\u001b[0m \u001b[0;34m\u001b[0m\u001b[0m\n\u001b[1;32m      3\u001b[0m \u001b[0;34m\u001b[0m\u001b[0m\n\u001b[0;32m----> 4\u001b[0;31m \u001b[0msample_df_9\u001b[0m\u001b[0;34m[\u001b[0m\u001b[0;34m'id'\u001b[0m\u001b[0;34m]\u001b[0m\u001b[0;34m=\u001b[0m\u001b[0;34m[\u001b[0m\u001b[0mstr\u001b[0m\u001b[0;34m(\u001b[0m\u001b[0mi\u001b[0m\u001b[0;34m)\u001b[0m \u001b[0;32mfor\u001b[0m \u001b[0mi\u001b[0m \u001b[0;32min\u001b[0m \u001b[0mrange\u001b[0m\u001b[0;34m(\u001b[0m\u001b[0mlen\u001b[0m\u001b[0;34m(\u001b[0m\u001b[0my_pred_lr\u001b[0m\u001b[0;34m)\u001b[0m\u001b[0;34m)\u001b[0m\u001b[0;34m]\u001b[0m\u001b[0;34m\u001b[0m\u001b[0;34m\u001b[0m\u001b[0m\n\u001b[0m\u001b[1;32m      5\u001b[0m \u001b[0msample_df_9\u001b[0m\u001b[0;34m[\u001b[0m\u001b[0;34m'price'\u001b[0m\u001b[0;34m]\u001b[0m\u001b[0;34m=\u001b[0m\u001b[0my_pred_lr\u001b[0m\u001b[0;34m\u001b[0m\u001b[0;34m\u001b[0m\u001b[0m\n\u001b[1;32m      6\u001b[0m \u001b[0;34m\u001b[0m\u001b[0m\n",
      "\u001b[0;31mNameError\u001b[0m: name 'y_pred_lr' is not defined"
     ]
    }
   ],
   "source": [
    "sample_df_9=pd.DataFrame()\n",
    "\n",
    "\n",
    "sample_df_9['id']=[str(i) for i in range(len(y_pred_lr))]\n",
    "sample_df_9['price']=y_pred_lr\n",
    "\n",
    "sample_df_9.shape"
   ]
  },
  {
   "cell_type": "code",
   "execution_count": null,
   "id": "6545c1c6",
   "metadata": {},
   "outputs": [],
   "source": [
    "sample_df_8.head()"
   ]
  },
  {
   "cell_type": "code",
   "execution_count": null,
   "id": "f5b3d7c4",
   "metadata": {},
   "outputs": [],
   "source": [
    "#sample_df_9.to_csv('data/sample_df_8.csv',index=False)"
   ]
  },
  {
   "cell_type": "code",
   "execution_count": null,
   "id": "1f0e3bb8",
   "metadata": {},
   "outputs": [],
   "source": []
  }
 ],
 "metadata": {
  "kernelspec": {
   "display_name": "Python3 (ironhack_2)",
   "language": "python",
   "name": "condaenv"
  },
  "language_info": {
   "codemirror_mode": {
    "name": "ipython",
    "version": 3
   },
   "file_extension": ".py",
   "mimetype": "text/x-python",
   "name": "python",
   "nbconvert_exporter": "python",
   "pygments_lexer": "ipython3",
   "version": "3.8.11"
  }
 },
 "nbformat": 4,
 "nbformat_minor": 5
}
