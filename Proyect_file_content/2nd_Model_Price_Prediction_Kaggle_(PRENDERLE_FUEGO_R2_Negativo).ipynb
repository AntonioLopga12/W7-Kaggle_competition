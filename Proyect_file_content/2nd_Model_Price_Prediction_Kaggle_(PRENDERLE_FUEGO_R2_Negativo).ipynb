{
 "cells": [
  {
   "cell_type": "code",
   "execution_count": 1,
   "id": "e6209222",
   "metadata": {},
   "outputs": [],
   "source": [
    "import time                                                 \n",
    "inicio=time.time()                                          \n",
    "\n",
    "   \n",
    "import pandas as pd                                      \n",
    "import numpy as np\n",
    "# Display all columns \n",
    "pd.set_option('display.max_columns', None)\n",
    "\n",
    "import matplotlib.pyplot as plt       \n",
    "import seaborn as sns         \n",
    "\n",
    "#from sklearn.metrics import confusion_matrix                # metricas, matriz de confusion\n",
    "#from scipy.optimize import minimize                         # minimizar, opt\n",
    "\n",
    "\n",
    "import warnings                                             # avisos\n",
    "warnings.filterwarnings('ignore', category=RuntimeWarning)"
   ]
  },
  {
   "cell_type": "code",
   "execution_count": 1,
   "id": "7bad82dd",
   "metadata": {},
   "outputs": [],
   "source": [
    "from sklearn.model_selection import train_test_split as tts\n",
    "from sklearn.decomposition import PCA\n",
    "\n",
    "from sklearn.svm import SVR\n",
    "from sklearn.ensemble import RandomForestRegressor as RFR\n",
    "from sklearn.metrics import mean_squared_error as mse\n",
    "from sklearn.linear_model import SGDClassifier as SGDC\n",
    "from sklearn.naive_bayes import GaussianNB as GNB\n",
    "from sklearn.naive_bayes import MultinomialNB as MNB\n",
    "from sklearn.naive_bayes import ComplementNB as CNB\n",
    "from sklearn.linear_model import LinearRegression as LinReg\n"
   ]
  },
  {
   "cell_type": "code",
   "execution_count": 3,
   "id": "c81221c8",
   "metadata": {},
   "outputs": [],
   "source": [
    "from sklearn.linear_model import *"
   ]
  },
  {
   "cell_type": "code",
   "execution_count": 4,
   "id": "9cf94fae",
   "metadata": {},
   "outputs": [],
   "source": [
    "#import xgboost as xgb"
   ]
  },
  {
   "cell_type": "markdown",
   "id": "4edbd358",
   "metadata": {},
   "source": [
    "### Limpieza de Nans"
   ]
  },
  {
   "cell_type": "code",
   "execution_count": 5,
   "id": "af89a4eb",
   "metadata": {},
   "outputs": [],
   "source": [
    "#data.dropna(thresh=len(data)//2,axis=1, inplace=True)\n",
    "#trash_1 = list(data.loc[:, data.isna().sum() >= 1000])\n",
    "def delete_nan(df):\n",
    "    data_1 = df.loc[:, df.isnull().mean() >= .5]\n",
    "    print(data_1.columns)\n",
    "    return df.drop(data_1,axis=1,inplace=True)"
   ]
  },
  {
   "cell_type": "markdown",
   "id": "414889cc",
   "metadata": {},
   "source": [
    "### Limpieza de columnas:"
   ]
  },
  {
   "cell_type": "code",
   "execution_count": 6,
   "id": "0f9d0494",
   "metadata": {},
   "outputs": [],
   "source": [
    "def trash_d(df):\n",
    "    df_col = df.columns\n",
    "    trash = []\n",
    "    for i in df_col:\n",
    "        if 'url' in i:\n",
    "\n",
    "            trash.append(i)\n",
    "        elif 'id' in i:\n",
    "\n",
    "            trash.append(i)\n",
    "        elif 'name' in i:\n",
    "\n",
    "            trash.append(i)\n",
    "        elif 'scrape' in i:\n",
    "\n",
    "            trash.append(i)\n",
    "        elif 'license' in i: #is it relevant??\n",
    "\n",
    "            trash.append(i)\n",
    "        elif 'latitude' in i:\n",
    "\n",
    "            trash.append(i)\n",
    "        elif 'longitude' in i:\n",
    "\n",
    "            trash.append(i)\n",
    "\n",
    "    print(trash)\n",
    "    return df.drop(trash,axis=1,inplace=True)\n",
    "       "
   ]
  },
  {
   "cell_type": "markdown",
   "id": "a2e7d842",
   "metadata": {},
   "source": [
    "### Analizar la correlacion entre las columnas y eliminar las que tienen corr > 90%"
   ]
  },
  {
   "cell_type": "code",
   "execution_count": 7,
   "id": "dfcd3fef",
   "metadata": {},
   "outputs": [],
   "source": [
    "def bin_corr_col(x):\n",
    "                                        \n",
    "    corr_matrix = x.corr().abs()# Create correlation matrix\n",
    "                                        \n",
    "    upper = corr_matrix.where(np.triu(np.ones(corr_matrix.shape), k=1).astype(bool)) # Select upper triangle of correlation matrix\n",
    "    \n",
    "    to_drop = [column for column in upper.columns if any(upper[column] > 0.90)]# Find features with correlation greater than 0.90\n",
    "\n",
    "    return x.drop(to_drop, axis=1, inplace=True) # Drop features"
   ]
  },
  {
   "cell_type": "markdown",
   "id": "a9fe7258",
   "metadata": {},
   "source": [
    "### Funcion para limpiar columna de 'Bathroom text'"
   ]
  },
  {
   "cell_type": "code",
   "execution_count": 8,
   "id": "55f805aa",
   "metadata": {
    "scrolled": false
   },
   "outputs": [],
   "source": [
    "import re\n",
    "\n",
    "patron='[0-9]+'\n",
    "\n",
    "def limpieza_ba(x):\n",
    "    n_ba=0\n",
    "    \n",
    "    try:\n",
    "        n_ba=int(re.findall(patron, x)[0])\n",
    "    except:\n",
    "        n_ba=0\n",
    "        \n",
    "    return n_ba"
   ]
  },
  {
   "cell_type": "markdown",
   "id": "60985726",
   "metadata": {},
   "source": [
    "### Fill 'Nan' values in Bedroom & Bed columns:"
   ]
  },
  {
   "cell_type": "code",
   "execution_count": 9,
   "id": "2d42aa7a",
   "metadata": {},
   "outputs": [],
   "source": [
    "def fill_bedroom_bed(df):\n",
    "    for i in zip(bedrom_bed.values):\n",
    "            if i[0][0] != i[0][0]:\n",
    "                bedrom_bed.fillna(i[0][1], axis=0, inplace=True)\n",
    "            elif i[0][1]!= i[0][1]:\n",
    "                bedrom_bed.fillna(i[0][0], axis=0, inplace=True)\n",
    "            else:\n",
    "                pass\n",
    "    print('The Sum of all Nan values in bedroom and bed\\n',df.isna().sum())\n",
    "    df.columns=['bedrooms_new','beds_new']\n",
    "\n",
    "      "
   ]
  },
  {
   "cell_type": "markdown",
   "id": "263ae081",
   "metadata": {},
   "source": [
    "### Rellenar Nan's:"
   ]
  },
  {
   "cell_type": "code",
   "execution_count": 10,
   "id": "65d747b2",
   "metadata": {},
   "outputs": [],
   "source": [
    "def fill_nan(df):\n",
    "    \n",
    "    for i in df.columns:\n",
    "        \n",
    "        df.fillna(0, axis=0, inplace=True)\n",
    "\n",
    "    print(df.isna().sum())"
   ]
  },
  {
   "cell_type": "markdown",
   "id": "29b11abd",
   "metadata": {},
   "source": [
    "### Funcion para entrenar Modelo:"
   ]
  },
  {
   "cell_type": "code",
   "execution_count": 11,
   "id": "94ce3aa6",
   "metadata": {},
   "outputs": [],
   "source": [
    "def prueba_modelo(modelo):\n",
    "\n",
    "    modelo.fit(X_train, y_train)\n",
    "\n",
    "    y_pred=modelo.predict(X_test)\n",
    "\n",
    "    train_score=modelo.score(X_train, y_train)  \n",
    "    test_score=modelo.score(X_test, y_test)\n",
    "    \n",
    "    print(modelo)\n",
    "    print('Train:', train_score)\n",
    "    print('Test:', test_score) \n",
    "    print('\\n')"
   ]
  },
  {
   "cell_type": "markdown",
   "id": "41744f5b",
   "metadata": {},
   "source": [
    "## 1.Train CSV:"
   ]
  },
  {
   "cell_type": "markdown",
   "id": "ae960ff7",
   "metadata": {},
   "source": [
    "**Import Train Data** "
   ]
  },
  {
   "cell_type": "code",
   "execution_count": 12,
   "id": "c6bf74bc",
   "metadata": {},
   "outputs": [],
   "source": [
    "df_train = pd.read_csv('data/train.csv')\n"
   ]
  },
  {
   "cell_type": "code",
   "execution_count": null,
   "id": "6e2aa6f9",
   "metadata": {},
   "outputs": [],
   "source": []
  },
  {
   "cell_type": "code",
   "execution_count": 13,
   "id": "32d8d0e8",
   "metadata": {},
   "outputs": [],
   "source": [
    "df_TN = df_train._get_numeric_data()"
   ]
  },
  {
   "cell_type": "markdown",
   "id": "5d261b6b",
   "metadata": {},
   "source": [
    "### 1.1 Analisis Exploratorio:"
   ]
  },
  {
   "cell_type": "code",
   "execution_count": 14,
   "id": "eb1ea69b",
   "metadata": {
    "scrolled": false
   },
   "outputs": [
    {
     "data": {
      "text/plain": [
       "(4167, 74)"
      ]
     },
     "execution_count": 14,
     "metadata": {},
     "output_type": "execute_result"
    }
   ],
   "source": [
    "df_train.shape"
   ]
  },
  {
   "cell_type": "markdown",
   "id": "b27bf1a3",
   "metadata": {},
   "source": [
    "### 1.2 Limpieza Basica:"
   ]
  },
  {
   "cell_type": "markdown",
   "id": "bd58f169",
   "metadata": {},
   "source": [
    "**1.2.1 Aplicamos funcion de limpieza basica, columnas, id,url...**"
   ]
  },
  {
   "cell_type": "code",
   "execution_count": 15,
   "id": "75790112",
   "metadata": {},
   "outputs": [
    {
     "name": "stdout",
     "output_type": "stream",
     "text": [
      "['id', 'listing_url', 'scrape_id', 'last_scraped', 'name', 'picture_url', 'host_id', 'host_url', 'host_name', 'host_thumbnail_url', 'host_picture_url', 'host_identity_verified', 'latitude', 'longitude', 'calendar_last_scraped', 'license']\n"
     ]
    }
   ],
   "source": [
    "trash_d(df_train)"
   ]
  },
  {
   "cell_type": "code",
   "execution_count": 16,
   "id": "b5e9a12d",
   "metadata": {},
   "outputs": [
    {
     "data": {
      "text/plain": [
       "(4167, 58)"
      ]
     },
     "execution_count": 16,
     "metadata": {},
     "output_type": "execute_result"
    }
   ],
   "source": [
    "df_train.shape"
   ]
  },
  {
   "cell_type": "code",
   "execution_count": 17,
   "id": "cc8d27be",
   "metadata": {},
   "outputs": [
    {
     "data": {
      "text/html": [
       "<div>\n",
       "<style scoped>\n",
       "    .dataframe tbody tr th:only-of-type {\n",
       "        vertical-align: middle;\n",
       "    }\n",
       "\n",
       "    .dataframe tbody tr th {\n",
       "        vertical-align: top;\n",
       "    }\n",
       "\n",
       "    .dataframe thead th {\n",
       "        text-align: right;\n",
       "    }\n",
       "</style>\n",
       "<table border=\"1\" class=\"dataframe\">\n",
       "  <thead>\n",
       "    <tr style=\"text-align: right;\">\n",
       "      <th></th>\n",
       "      <th>description</th>\n",
       "      <th>neighborhood_overview</th>\n",
       "      <th>host_since</th>\n",
       "      <th>host_location</th>\n",
       "      <th>host_about</th>\n",
       "      <th>host_response_time</th>\n",
       "      <th>host_response_rate</th>\n",
       "      <th>host_acceptance_rate</th>\n",
       "      <th>host_is_superhost</th>\n",
       "      <th>host_neighbourhood</th>\n",
       "      <th>host_listings_count</th>\n",
       "      <th>host_total_listings_count</th>\n",
       "      <th>host_verifications</th>\n",
       "      <th>host_has_profile_pic</th>\n",
       "      <th>neighbourhood</th>\n",
       "      <th>neighbourhood_cleansed</th>\n",
       "      <th>neighbourhood_group_cleansed</th>\n",
       "      <th>property_type</th>\n",
       "      <th>room_type</th>\n",
       "      <th>accommodates</th>\n",
       "      <th>bathrooms</th>\n",
       "      <th>bathrooms_text</th>\n",
       "      <th>bedrooms</th>\n",
       "      <th>beds</th>\n",
       "      <th>amenities</th>\n",
       "      <th>price</th>\n",
       "      <th>minimum_nights</th>\n",
       "      <th>maximum_nights</th>\n",
       "      <th>minimum_minimum_nights</th>\n",
       "      <th>maximum_minimum_nights</th>\n",
       "      <th>minimum_maximum_nights</th>\n",
       "      <th>maximum_maximum_nights</th>\n",
       "      <th>minimum_nights_avg_ntm</th>\n",
       "      <th>maximum_nights_avg_ntm</th>\n",
       "      <th>calendar_updated</th>\n",
       "      <th>has_availability</th>\n",
       "      <th>availability_30</th>\n",
       "      <th>availability_60</th>\n",
       "      <th>availability_90</th>\n",
       "      <th>availability_365</th>\n",
       "      <th>number_of_reviews</th>\n",
       "      <th>number_of_reviews_ltm</th>\n",
       "      <th>number_of_reviews_l30d</th>\n",
       "      <th>first_review</th>\n",
       "      <th>last_review</th>\n",
       "      <th>review_scores_rating</th>\n",
       "      <th>review_scores_accuracy</th>\n",
       "      <th>review_scores_cleanliness</th>\n",
       "      <th>review_scores_checkin</th>\n",
       "      <th>review_scores_communication</th>\n",
       "      <th>review_scores_location</th>\n",
       "      <th>review_scores_value</th>\n",
       "      <th>instant_bookable</th>\n",
       "      <th>calculated_host_listings_count</th>\n",
       "      <th>calculated_host_listings_count_entire_homes</th>\n",
       "      <th>calculated_host_listings_count_private_rooms</th>\n",
       "      <th>calculated_host_listings_count_shared_rooms</th>\n",
       "      <th>reviews_per_month</th>\n",
       "    </tr>\n",
       "  </thead>\n",
       "  <tbody>\n",
       "    <tr>\n",
       "      <th>600</th>\n",
       "      <td>This charming canal house of 75m2 is in a wond...</td>\n",
       "      <td>The canal house is situated in a wonderful pos...</td>\n",
       "      <td>2013-08-03</td>\n",
       "      <td>Amsterdam, North Holland, The Netherlands</td>\n",
       "      <td>NaN</td>\n",
       "      <td>within an hour</td>\n",
       "      <td>100%</td>\n",
       "      <td>80%</td>\n",
       "      <td>f</td>\n",
       "      <td>NaN</td>\n",
       "      <td>1</td>\n",
       "      <td>1</td>\n",
       "      <td>['email', 'phone', 'facebook', 'reviews', 'jum...</td>\n",
       "      <td>t</td>\n",
       "      <td>Amsterdam, Noord-Holland, Netherlands</td>\n",
       "      <td>Centrum-Oost</td>\n",
       "      <td>NaN</td>\n",
       "      <td>Entire townhouse</td>\n",
       "      <td>Entire home/apt</td>\n",
       "      <td>3</td>\n",
       "      <td>NaN</td>\n",
       "      <td>2 baths</td>\n",
       "      <td>2.0</td>\n",
       "      <td>2.0</td>\n",
       "      <td>[\"Extra pillows and blankets\", \"Hot water kett...</td>\n",
       "      <td>125.0</td>\n",
       "      <td>25</td>\n",
       "      <td>30</td>\n",
       "      <td>25.0</td>\n",
       "      <td>25.0</td>\n",
       "      <td>30.0</td>\n",
       "      <td>30.0</td>\n",
       "      <td>25.0</td>\n",
       "      <td>30.0</td>\n",
       "      <td>NaN</td>\n",
       "      <td>t</td>\n",
       "      <td>0</td>\n",
       "      <td>0</td>\n",
       "      <td>29</td>\n",
       "      <td>29</td>\n",
       "      <td>8</td>\n",
       "      <td>3</td>\n",
       "      <td>0</td>\n",
       "      <td>2021-07-29</td>\n",
       "      <td>2019-02-12</td>\n",
       "      <td>5.00</td>\n",
       "      <td>5.00</td>\n",
       "      <td>5.00</td>\n",
       "      <td>4.88</td>\n",
       "      <td>5.00</td>\n",
       "      <td>5.00</td>\n",
       "      <td>4.88</td>\n",
       "      <td>f</td>\n",
       "      <td>1</td>\n",
       "      <td>1</td>\n",
       "      <td>0</td>\n",
       "      <td>0</td>\n",
       "      <td>1.83</td>\n",
       "    </tr>\n",
       "    <tr>\n",
       "      <th>298</th>\n",
       "      <td>&lt;b&gt;The space&lt;/b&gt;&lt;br /&gt;Dear all, &lt;br /&gt;&lt;br /&gt;If...</td>\n",
       "      <td>The famous \"pijp\" area in Amsterdam is one of ...</td>\n",
       "      <td>2013-06-01</td>\n",
       "      <td>Amsterdam, North Holland, Netherlands</td>\n",
       "      <td>Hi I'm Kalina from Amsterdam, 31 years old. I ...</td>\n",
       "      <td>within a few hours</td>\n",
       "      <td>100%</td>\n",
       "      <td>100%</td>\n",
       "      <td>f</td>\n",
       "      <td>De Pijp</td>\n",
       "      <td>1</td>\n",
       "      <td>1</td>\n",
       "      <td>['email', 'phone', 'reviews', 'jumio', 'offlin...</td>\n",
       "      <td>t</td>\n",
       "      <td>Amsterdam, North Holland, Netherlands</td>\n",
       "      <td>De Pijp - Rivierenbuurt</td>\n",
       "      <td>NaN</td>\n",
       "      <td>Entire rental unit</td>\n",
       "      <td>Entire home/apt</td>\n",
       "      <td>2</td>\n",
       "      <td>NaN</td>\n",
       "      <td>1.5 baths</td>\n",
       "      <td>1.0</td>\n",
       "      <td>NaN</td>\n",
       "      <td>[\"Luggage dropoff allowed\", \"Hair dryer\", \"Sto...</td>\n",
       "      <td>250.0</td>\n",
       "      <td>2</td>\n",
       "      <td>1125</td>\n",
       "      <td>2.0</td>\n",
       "      <td>2.0</td>\n",
       "      <td>1125.0</td>\n",
       "      <td>1125.0</td>\n",
       "      <td>2.0</td>\n",
       "      <td>1125.0</td>\n",
       "      <td>NaN</td>\n",
       "      <td>t</td>\n",
       "      <td>20</td>\n",
       "      <td>50</td>\n",
       "      <td>80</td>\n",
       "      <td>170</td>\n",
       "      <td>44</td>\n",
       "      <td>1</td>\n",
       "      <td>1</td>\n",
       "      <td>2016-08-01</td>\n",
       "      <td>2019-02-07</td>\n",
       "      <td>4.75</td>\n",
       "      <td>4.86</td>\n",
       "      <td>4.84</td>\n",
       "      <td>4.76</td>\n",
       "      <td>4.91</td>\n",
       "      <td>4.86</td>\n",
       "      <td>4.45</td>\n",
       "      <td>f</td>\n",
       "      <td>1</td>\n",
       "      <td>1</td>\n",
       "      <td>0</td>\n",
       "      <td>0</td>\n",
       "      <td>0.68</td>\n",
       "    </tr>\n",
       "    <tr>\n",
       "      <th>1328</th>\n",
       "      <td>If you are looking for a comfortable place in ...</td>\n",
       "      <td>The lively van woustreet is in walking distanc...</td>\n",
       "      <td>2014-02-23</td>\n",
       "      <td>Amsterdam, North Holland, Netherlands</td>\n",
       "      <td>Hi! My name is Mara and I am currently living ...</td>\n",
       "      <td>within a day</td>\n",
       "      <td>100%</td>\n",
       "      <td>50%</td>\n",
       "      <td>f</td>\n",
       "      <td>De Pijp</td>\n",
       "      <td>1</td>\n",
       "      <td>1</td>\n",
       "      <td>['email', 'phone', 'reviews', 'jumio', 'offlin...</td>\n",
       "      <td>t</td>\n",
       "      <td>Amsterdam, Noord-Holland, Netherlands</td>\n",
       "      <td>De Pijp - Rivierenbuurt</td>\n",
       "      <td>NaN</td>\n",
       "      <td>Entire rental unit</td>\n",
       "      <td>Entire home/apt</td>\n",
       "      <td>3</td>\n",
       "      <td>NaN</td>\n",
       "      <td>1.5 baths</td>\n",
       "      <td>1.0</td>\n",
       "      <td>1.0</td>\n",
       "      <td>[\"Hair dryer\", \"Stove\", \"Washer\", \"Dishes and ...</td>\n",
       "      <td>69.0</td>\n",
       "      <td>3</td>\n",
       "      <td>1125</td>\n",
       "      <td>3.0</td>\n",
       "      <td>3.0</td>\n",
       "      <td>1125.0</td>\n",
       "      <td>1125.0</td>\n",
       "      <td>3.0</td>\n",
       "      <td>1125.0</td>\n",
       "      <td>NaN</td>\n",
       "      <td>t</td>\n",
       "      <td>0</td>\n",
       "      <td>0</td>\n",
       "      <td>0</td>\n",
       "      <td>0</td>\n",
       "      <td>5</td>\n",
       "      <td>2</td>\n",
       "      <td>0</td>\n",
       "      <td>2020-09-05</td>\n",
       "      <td>2021-09-10</td>\n",
       "      <td>4.40</td>\n",
       "      <td>4.40</td>\n",
       "      <td>3.60</td>\n",
       "      <td>5.00</td>\n",
       "      <td>5.00</td>\n",
       "      <td>5.00</td>\n",
       "      <td>4.20</td>\n",
       "      <td>f</td>\n",
       "      <td>1</td>\n",
       "      <td>1</td>\n",
       "      <td>0</td>\n",
       "      <td>0</td>\n",
       "      <td>0.33</td>\n",
       "    </tr>\n",
       "  </tbody>\n",
       "</table>\n",
       "</div>"
      ],
      "text/plain": [
       "                                            description  \\\n",
       "600   This charming canal house of 75m2 is in a wond...   \n",
       "298   <b>The space</b><br />Dear all, <br /><br />If...   \n",
       "1328  If you are looking for a comfortable place in ...   \n",
       "\n",
       "                                  neighborhood_overview  host_since  \\\n",
       "600   The canal house is situated in a wonderful pos...  2013-08-03   \n",
       "298   The famous \"pijp\" area in Amsterdam is one of ...  2013-06-01   \n",
       "1328  The lively van woustreet is in walking distanc...  2014-02-23   \n",
       "\n",
       "                                  host_location  \\\n",
       "600   Amsterdam, North Holland, The Netherlands   \n",
       "298       Amsterdam, North Holland, Netherlands   \n",
       "1328      Amsterdam, North Holland, Netherlands   \n",
       "\n",
       "                                             host_about  host_response_time  \\\n",
       "600                                                 NaN      within an hour   \n",
       "298   Hi I'm Kalina from Amsterdam, 31 years old. I ...  within a few hours   \n",
       "1328  Hi! My name is Mara and I am currently living ...        within a day   \n",
       "\n",
       "     host_response_rate host_acceptance_rate host_is_superhost  \\\n",
       "600                100%                  80%                 f   \n",
       "298                100%                 100%                 f   \n",
       "1328               100%                  50%                 f   \n",
       "\n",
       "     host_neighbourhood  host_listings_count  host_total_listings_count  \\\n",
       "600                 NaN                    1                          1   \n",
       "298             De Pijp                    1                          1   \n",
       "1328            De Pijp                    1                          1   \n",
       "\n",
       "                                     host_verifications host_has_profile_pic  \\\n",
       "600   ['email', 'phone', 'facebook', 'reviews', 'jum...                    t   \n",
       "298   ['email', 'phone', 'reviews', 'jumio', 'offlin...                    t   \n",
       "1328  ['email', 'phone', 'reviews', 'jumio', 'offlin...                    t   \n",
       "\n",
       "                              neighbourhood   neighbourhood_cleansed  \\\n",
       "600   Amsterdam, Noord-Holland, Netherlands             Centrum-Oost   \n",
       "298   Amsterdam, North Holland, Netherlands  De Pijp - Rivierenbuurt   \n",
       "1328  Amsterdam, Noord-Holland, Netherlands  De Pijp - Rivierenbuurt   \n",
       "\n",
       "      neighbourhood_group_cleansed       property_type        room_type  \\\n",
       "600                            NaN    Entire townhouse  Entire home/apt   \n",
       "298                            NaN  Entire rental unit  Entire home/apt   \n",
       "1328                           NaN  Entire rental unit  Entire home/apt   \n",
       "\n",
       "      accommodates  bathrooms bathrooms_text  bedrooms  beds  \\\n",
       "600              3        NaN        2 baths       2.0   2.0   \n",
       "298              2        NaN      1.5 baths       1.0   NaN   \n",
       "1328             3        NaN      1.5 baths       1.0   1.0   \n",
       "\n",
       "                                              amenities  price  \\\n",
       "600   [\"Extra pillows and blankets\", \"Hot water kett...  125.0   \n",
       "298   [\"Luggage dropoff allowed\", \"Hair dryer\", \"Sto...  250.0   \n",
       "1328  [\"Hair dryer\", \"Stove\", \"Washer\", \"Dishes and ...   69.0   \n",
       "\n",
       "      minimum_nights  maximum_nights  minimum_minimum_nights  \\\n",
       "600               25              30                    25.0   \n",
       "298                2            1125                     2.0   \n",
       "1328               3            1125                     3.0   \n",
       "\n",
       "      maximum_minimum_nights  minimum_maximum_nights  maximum_maximum_nights  \\\n",
       "600                     25.0                    30.0                    30.0   \n",
       "298                      2.0                  1125.0                  1125.0   \n",
       "1328                     3.0                  1125.0                  1125.0   \n",
       "\n",
       "      minimum_nights_avg_ntm  maximum_nights_avg_ntm  calendar_updated  \\\n",
       "600                     25.0                    30.0               NaN   \n",
       "298                      2.0                  1125.0               NaN   \n",
       "1328                     3.0                  1125.0               NaN   \n",
       "\n",
       "     has_availability  availability_30  availability_60  availability_90  \\\n",
       "600                 t                0                0               29   \n",
       "298                 t               20               50               80   \n",
       "1328                t                0                0                0   \n",
       "\n",
       "      availability_365  number_of_reviews  number_of_reviews_ltm  \\\n",
       "600                 29                  8                      3   \n",
       "298                170                 44                      1   \n",
       "1328                 0                  5                      2   \n",
       "\n",
       "      number_of_reviews_l30d first_review last_review  review_scores_rating  \\\n",
       "600                        0   2021-07-29  2019-02-12                  5.00   \n",
       "298                        1   2016-08-01  2019-02-07                  4.75   \n",
       "1328                       0   2020-09-05  2021-09-10                  4.40   \n",
       "\n",
       "      review_scores_accuracy  review_scores_cleanliness  \\\n",
       "600                     5.00                       5.00   \n",
       "298                     4.86                       4.84   \n",
       "1328                    4.40                       3.60   \n",
       "\n",
       "      review_scores_checkin  review_scores_communication  \\\n",
       "600                    4.88                         5.00   \n",
       "298                    4.76                         4.91   \n",
       "1328                   5.00                         5.00   \n",
       "\n",
       "      review_scores_location  review_scores_value instant_bookable  \\\n",
       "600                     5.00                 4.88                f   \n",
       "298                     4.86                 4.45                f   \n",
       "1328                    5.00                 4.20                f   \n",
       "\n",
       "      calculated_host_listings_count  \\\n",
       "600                                1   \n",
       "298                                1   \n",
       "1328                               1   \n",
       "\n",
       "      calculated_host_listings_count_entire_homes  \\\n",
       "600                                             1   \n",
       "298                                             1   \n",
       "1328                                            1   \n",
       "\n",
       "      calculated_host_listings_count_private_rooms  \\\n",
       "600                                              0   \n",
       "298                                              0   \n",
       "1328                                             0   \n",
       "\n",
       "      calculated_host_listings_count_shared_rooms  reviews_per_month  \n",
       "600                                             0               1.83  \n",
       "298                                             0               0.68  \n",
       "1328                                            0               0.33  "
      ]
     },
     "execution_count": 17,
     "metadata": {},
     "output_type": "execute_result"
    }
   ],
   "source": [
    "df_train.sample(3)"
   ]
  },
  {
   "cell_type": "markdown",
   "id": "9adcb69a",
   "metadata": {},
   "source": [
    "**1.2.2 Vemos columnas con Nan en el -df_train > 50%-**"
   ]
  },
  {
   "cell_type": "code",
   "execution_count": 18,
   "id": "fd82a2b4",
   "metadata": {
    "scrolled": false
   },
   "outputs": [
    {
     "name": "stdout",
     "output_type": "stream",
     "text": [
      "Index(['host_about', 'host_response_time', 'host_response_rate',\n",
      "       'host_neighbourhood', 'neighbourhood_group_cleansed', 'bathrooms',\n",
      "       'calendar_updated'],\n",
      "      dtype='object')\n"
     ]
    },
    {
     "data": {
      "text/plain": [
       "'Hay 7 con un 30% de valores Nan'"
      ]
     },
     "execution_count": 18,
     "metadata": {},
     "output_type": "execute_result"
    }
   ],
   "source": [
    "Col_30_Nan = df_train.loc[:, df_train.isnull().mean() >= .3]\n",
    "print(Col_30_Nan.columns)\n",
    "f'Hay {len(Col_30_Nan.columns)} con un 30% de valores Nan'"
   ]
  },
  {
   "cell_type": "markdown",
   "id": "45812b42",
   "metadata": {},
   "source": [
    "Eliminaremos el resto de columnas:\n",
    "\n",
    "**Observaciones:**\n",
    "\n",
    "Observacion_1: \n",
    "\n",
    "Observamos que hay 7 columnas con un 30% de valores Nan, todas parecen ser inservibles, excepto 'host_response_rate', (haciendo una valoracion No experta, mas una suposicion) que nos puede dar informacion valiosa.\n",
    "\n",
    "\n",
    "\n",
    "Columns:\n",
    "\n",
    "- number_of_reviews\n",
    "- bathrooms\n",
    "- host_listings_count\n",
    "- minimum_nights\n",
    "- maximum_nights\n",
    "- number_of_reviews\n",
    "- accommodates\n",
    "- Price\n",
    "['accommodates','number_of_reviews','maximum_nights','minimum_nights','host_listings_count','price']\n",
    "**Remaining columns to include in the prediction model:**\n",
    "\n",
    "- property_type\t\n",
    "- room_type\n",
    "- property_type_Other\n"
   ]
  },
  {
   "cell_type": "markdown",
   "id": "30d76caa",
   "metadata": {},
   "source": [
    "**Eliminamos columnas inservibles (En principio...)** "
   ]
  },
  {
   "cell_type": "code",
   "execution_count": 19,
   "id": "839e20c0",
   "metadata": {},
   "outputs": [],
   "source": [
    "df_train.drop(Col_30_Nan, axis=1, inplace=True)"
   ]
  },
  {
   "cell_type": "code",
   "execution_count": 20,
   "id": "805f4556",
   "metadata": {
    "scrolled": true
   },
   "outputs": [
    {
     "data": {
      "text/plain": [
       "(4167, 51)"
      ]
     },
     "execution_count": 20,
     "metadata": {},
     "output_type": "execute_result"
    }
   ],
   "source": [
    "df_train.shape"
   ]
  },
  {
   "cell_type": "code",
   "execution_count": 21,
   "id": "d7e11901",
   "metadata": {
    "scrolled": true
   },
   "outputs": [
    {
     "data": {
      "text/plain": [
       "Index(['description', 'neighborhood_overview', 'host_since', 'host_location',\n",
       "       'host_acceptance_rate', 'host_is_superhost', 'host_listings_count',\n",
       "       'host_total_listings_count', 'host_verifications',\n",
       "       'host_has_profile_pic', 'neighbourhood', 'neighbourhood_cleansed',\n",
       "       'property_type', 'room_type', 'accommodates', 'bathrooms_text',\n",
       "       'bedrooms', 'beds', 'amenities', 'price', 'minimum_nights',\n",
       "       'maximum_nights', 'minimum_minimum_nights', 'maximum_minimum_nights',\n",
       "       'minimum_maximum_nights', 'maximum_maximum_nights',\n",
       "       'minimum_nights_avg_ntm', 'maximum_nights_avg_ntm', 'has_availability',\n",
       "       'availability_30', 'availability_60', 'availability_90',\n",
       "       'availability_365', 'number_of_reviews', 'number_of_reviews_ltm',\n",
       "       'number_of_reviews_l30d', 'first_review', 'last_review',\n",
       "       'review_scores_rating', 'review_scores_accuracy',\n",
       "       'review_scores_cleanliness', 'review_scores_checkin',\n",
       "       'review_scores_communication', 'review_scores_location',\n",
       "       'review_scores_value', 'instant_bookable',\n",
       "       'calculated_host_listings_count',\n",
       "       'calculated_host_listings_count_entire_homes',\n",
       "       'calculated_host_listings_count_private_rooms',\n",
       "       'calculated_host_listings_count_shared_rooms', 'reviews_per_month'],\n",
       "      dtype='object')"
      ]
     },
     "execution_count": 21,
     "metadata": {},
     "output_type": "execute_result"
    }
   ],
   "source": [
    "df_train.columns"
   ]
  },
  {
   "cell_type": "code",
   "execution_count": 22,
   "id": "3312f8c9",
   "metadata": {},
   "outputs": [
    {
     "data": {
      "text/html": [
       "<div>\n",
       "<style scoped>\n",
       "    .dataframe tbody tr th:only-of-type {\n",
       "        vertical-align: middle;\n",
       "    }\n",
       "\n",
       "    .dataframe tbody tr th {\n",
       "        vertical-align: top;\n",
       "    }\n",
       "\n",
       "    .dataframe thead th {\n",
       "        text-align: right;\n",
       "    }\n",
       "</style>\n",
       "<table border=\"1\" class=\"dataframe\">\n",
       "  <thead>\n",
       "    <tr style=\"text-align: right;\">\n",
       "      <th></th>\n",
       "      <th>description</th>\n",
       "      <th>neighborhood_overview</th>\n",
       "      <th>host_since</th>\n",
       "      <th>host_location</th>\n",
       "      <th>host_acceptance_rate</th>\n",
       "      <th>host_is_superhost</th>\n",
       "      <th>host_listings_count</th>\n",
       "      <th>host_total_listings_count</th>\n",
       "      <th>host_verifications</th>\n",
       "      <th>host_has_profile_pic</th>\n",
       "      <th>neighbourhood</th>\n",
       "      <th>neighbourhood_cleansed</th>\n",
       "      <th>property_type</th>\n",
       "      <th>room_type</th>\n",
       "      <th>accommodates</th>\n",
       "      <th>bathrooms_text</th>\n",
       "      <th>bedrooms</th>\n",
       "      <th>beds</th>\n",
       "      <th>amenities</th>\n",
       "      <th>price</th>\n",
       "      <th>minimum_nights</th>\n",
       "      <th>maximum_nights</th>\n",
       "      <th>minimum_minimum_nights</th>\n",
       "      <th>maximum_minimum_nights</th>\n",
       "      <th>minimum_maximum_nights</th>\n",
       "      <th>maximum_maximum_nights</th>\n",
       "      <th>minimum_nights_avg_ntm</th>\n",
       "      <th>maximum_nights_avg_ntm</th>\n",
       "      <th>has_availability</th>\n",
       "      <th>availability_30</th>\n",
       "      <th>availability_60</th>\n",
       "      <th>availability_90</th>\n",
       "      <th>availability_365</th>\n",
       "      <th>number_of_reviews</th>\n",
       "      <th>number_of_reviews_ltm</th>\n",
       "      <th>number_of_reviews_l30d</th>\n",
       "      <th>first_review</th>\n",
       "      <th>last_review</th>\n",
       "      <th>review_scores_rating</th>\n",
       "      <th>review_scores_accuracy</th>\n",
       "      <th>review_scores_cleanliness</th>\n",
       "      <th>review_scores_checkin</th>\n",
       "      <th>review_scores_communication</th>\n",
       "      <th>review_scores_location</th>\n",
       "      <th>review_scores_value</th>\n",
       "      <th>instant_bookable</th>\n",
       "      <th>calculated_host_listings_count</th>\n",
       "      <th>calculated_host_listings_count_entire_homes</th>\n",
       "      <th>calculated_host_listings_count_private_rooms</th>\n",
       "      <th>calculated_host_listings_count_shared_rooms</th>\n",
       "      <th>reviews_per_month</th>\n",
       "    </tr>\n",
       "  </thead>\n",
       "  <tbody>\n",
       "    <tr>\n",
       "      <th>0</th>\n",
       "      <td>A waggon luxurous designed as a hotel room on ...</td>\n",
       "      <td>Waterland is a beautiful countryside area, wit...</td>\n",
       "      <td>2012-07-24</td>\n",
       "      <td>Amsterdam, North Holland, The Netherlands</td>\n",
       "      <td>75%</td>\n",
       "      <td>f</td>\n",
       "      <td>13</td>\n",
       "      <td>13</td>\n",
       "      <td>['email', 'phone', 'reviews', 'jumio', 'offlin...</td>\n",
       "      <td>t</td>\n",
       "      <td>Amsterdam, North Holland, Netherlands</td>\n",
       "      <td>Noord-Oost</td>\n",
       "      <td>Private room in farm stay</td>\n",
       "      <td>Private room</td>\n",
       "      <td>3</td>\n",
       "      <td>1.5 shared baths</td>\n",
       "      <td>1.0</td>\n",
       "      <td>NaN</td>\n",
       "      <td>[\"First aid kit\", \"Free parking on premises\", ...</td>\n",
       "      <td>87.0</td>\n",
       "      <td>2</td>\n",
       "      <td>1125</td>\n",
       "      <td>2.0</td>\n",
       "      <td>2.0</td>\n",
       "      <td>1125.0</td>\n",
       "      <td>1125.0</td>\n",
       "      <td>2.0</td>\n",
       "      <td>1125.0</td>\n",
       "      <td>t</td>\n",
       "      <td>0</td>\n",
       "      <td>0</td>\n",
       "      <td>0</td>\n",
       "      <td>249</td>\n",
       "      <td>81</td>\n",
       "      <td>0</td>\n",
       "      <td>0</td>\n",
       "      <td>2014-08-03</td>\n",
       "      <td>2019-06-15</td>\n",
       "      <td>4.62</td>\n",
       "      <td>4.56</td>\n",
       "      <td>4.29</td>\n",
       "      <td>4.57</td>\n",
       "      <td>4.75</td>\n",
       "      <td>4.69</td>\n",
       "      <td>4.49</td>\n",
       "      <td>f</td>\n",
       "      <td>10</td>\n",
       "      <td>0</td>\n",
       "      <td>10</td>\n",
       "      <td>0</td>\n",
       "      <td>0.91</td>\n",
       "    </tr>\n",
       "    <tr>\n",
       "      <th>1</th>\n",
       "      <td>Are you looking for a perfect place to stay in...</td>\n",
       "      <td>Our home is located in the Plantagebuurt. A un...</td>\n",
       "      <td>2015-06-01</td>\n",
       "      <td>Amsterdam, Noord-Holland, Netherlands</td>\n",
       "      <td>NaN</td>\n",
       "      <td>f</td>\n",
       "      <td>0</td>\n",
       "      <td>0</td>\n",
       "      <td>['email', 'phone', 'reviews']</td>\n",
       "      <td>t</td>\n",
       "      <td>Amsterdam, Noord-Holland, Netherlands</td>\n",
       "      <td>Centrum-Oost</td>\n",
       "      <td>Entire rental unit</td>\n",
       "      <td>Entire home/apt</td>\n",
       "      <td>4</td>\n",
       "      <td>1 bath</td>\n",
       "      <td>2.0</td>\n",
       "      <td>2.0</td>\n",
       "      <td>[\"Hot water kettle\", \"Pocket wifi\", \"Stove\", \"...</td>\n",
       "      <td>250.0</td>\n",
       "      <td>2</td>\n",
       "      <td>1125</td>\n",
       "      <td>2.0</td>\n",
       "      <td>2.0</td>\n",
       "      <td>1125.0</td>\n",
       "      <td>1125.0</td>\n",
       "      <td>2.0</td>\n",
       "      <td>1125.0</td>\n",
       "      <td>t</td>\n",
       "      <td>3</td>\n",
       "      <td>3</td>\n",
       "      <td>3</td>\n",
       "      <td>3</td>\n",
       "      <td>9</td>\n",
       "      <td>4</td>\n",
       "      <td>1</td>\n",
       "      <td>2020-01-26</td>\n",
       "      <td>2021-09-05</td>\n",
       "      <td>5.00</td>\n",
       "      <td>5.00</td>\n",
       "      <td>5.00</td>\n",
       "      <td>4.89</td>\n",
       "      <td>5.00</td>\n",
       "      <td>5.00</td>\n",
       "      <td>4.89</td>\n",
       "      <td>f</td>\n",
       "      <td>1</td>\n",
       "      <td>1</td>\n",
       "      <td>0</td>\n",
       "      <td>0</td>\n",
       "      <td>0.40</td>\n",
       "    </tr>\n",
       "  </tbody>\n",
       "</table>\n",
       "</div>"
      ],
      "text/plain": [
       "                                         description  \\\n",
       "0  A waggon luxurous designed as a hotel room on ...   \n",
       "1  Are you looking for a perfect place to stay in...   \n",
       "\n",
       "                               neighborhood_overview  host_since  \\\n",
       "0  Waterland is a beautiful countryside area, wit...  2012-07-24   \n",
       "1  Our home is located in the Plantagebuurt. A un...  2015-06-01   \n",
       "\n",
       "                               host_location host_acceptance_rate  \\\n",
       "0  Amsterdam, North Holland, The Netherlands                  75%   \n",
       "1      Amsterdam, Noord-Holland, Netherlands                  NaN   \n",
       "\n",
       "  host_is_superhost  host_listings_count  host_total_listings_count  \\\n",
       "0                 f                   13                         13   \n",
       "1                 f                    0                          0   \n",
       "\n",
       "                                  host_verifications host_has_profile_pic  \\\n",
       "0  ['email', 'phone', 'reviews', 'jumio', 'offlin...                    t   \n",
       "1                      ['email', 'phone', 'reviews']                    t   \n",
       "\n",
       "                           neighbourhood neighbourhood_cleansed  \\\n",
       "0  Amsterdam, North Holland, Netherlands             Noord-Oost   \n",
       "1  Amsterdam, Noord-Holland, Netherlands           Centrum-Oost   \n",
       "\n",
       "               property_type        room_type  accommodates    bathrooms_text  \\\n",
       "0  Private room in farm stay     Private room             3  1.5 shared baths   \n",
       "1         Entire rental unit  Entire home/apt             4            1 bath   \n",
       "\n",
       "   bedrooms  beds                                          amenities  price  \\\n",
       "0       1.0   NaN  [\"First aid kit\", \"Free parking on premises\", ...   87.0   \n",
       "1       2.0   2.0  [\"Hot water kettle\", \"Pocket wifi\", \"Stove\", \"...  250.0   \n",
       "\n",
       "   minimum_nights  maximum_nights  minimum_minimum_nights  \\\n",
       "0               2            1125                     2.0   \n",
       "1               2            1125                     2.0   \n",
       "\n",
       "   maximum_minimum_nights  minimum_maximum_nights  maximum_maximum_nights  \\\n",
       "0                     2.0                  1125.0                  1125.0   \n",
       "1                     2.0                  1125.0                  1125.0   \n",
       "\n",
       "   minimum_nights_avg_ntm  maximum_nights_avg_ntm has_availability  \\\n",
       "0                     2.0                  1125.0                t   \n",
       "1                     2.0                  1125.0                t   \n",
       "\n",
       "   availability_30  availability_60  availability_90  availability_365  \\\n",
       "0                0                0                0               249   \n",
       "1                3                3                3                 3   \n",
       "\n",
       "   number_of_reviews  number_of_reviews_ltm  number_of_reviews_l30d  \\\n",
       "0                 81                      0                       0   \n",
       "1                  9                      4                       1   \n",
       "\n",
       "  first_review last_review  review_scores_rating  review_scores_accuracy  \\\n",
       "0   2014-08-03  2019-06-15                  4.62                    4.56   \n",
       "1   2020-01-26  2021-09-05                  5.00                    5.00   \n",
       "\n",
       "   review_scores_cleanliness  review_scores_checkin  \\\n",
       "0                       4.29                   4.57   \n",
       "1                       5.00                   4.89   \n",
       "\n",
       "   review_scores_communication  review_scores_location  review_scores_value  \\\n",
       "0                         4.75                    4.69                 4.49   \n",
       "1                         5.00                    5.00                 4.89   \n",
       "\n",
       "  instant_bookable  calculated_host_listings_count  \\\n",
       "0                f                              10   \n",
       "1                f                               1   \n",
       "\n",
       "   calculated_host_listings_count_entire_homes  \\\n",
       "0                                            0   \n",
       "1                                            1   \n",
       "\n",
       "   calculated_host_listings_count_private_rooms  \\\n",
       "0                                            10   \n",
       "1                                             0   \n",
       "\n",
       "   calculated_host_listings_count_shared_rooms  reviews_per_month  \n",
       "0                                            0               0.91  \n",
       "1                                            0               0.40  "
      ]
     },
     "execution_count": 22,
     "metadata": {},
     "output_type": "execute_result"
    }
   ],
   "source": [
    "df_train.head(2)"
   ]
  },
  {
   "cell_type": "markdown",
   "id": "4a5b79c9",
   "metadata": {},
   "source": [
    "**Most Intersting columns:**\n"
   ]
  },
  {
   "cell_type": "markdown",
   "id": "47f15375",
   "metadata": {
    "scrolled": true
   },
   "source": [
    "for n,c in enumerate(df_train.columns):\n",
    "    print(n,c)"
   ]
  },
  {
   "cell_type": "markdown",
   "id": "2d719eb5",
   "metadata": {},
   "source": [
    "!!$$!OJOS!!! PORQUE SELECCIONAMOS ESTAS COLUMNAS, HACER PROCEDIMIENTO QUE JUSTIFIQUE LA SELECCION!!!\n",
    "\n",
    "**1.2.2 Seleccionamos las columnas interesantes:**\n",
    "\n",
    "\n"
   ]
  },
  {
   "cell_type": "code",
   "execution_count": 63,
   "id": "a1348a23",
   "metadata": {},
   "outputs": [],
   "source": [
    "new_train = df_train.loc[:, ['number_of_reviews','maximum_nights','minimum_nights','host_listings_count','price']]\n",
    "\n",
    "\n",
    "\n"
   ]
  },
  {
   "cell_type": "code",
   "execution_count": 64,
   "id": "63b22e8a",
   "metadata": {
    "scrolled": false
   },
   "outputs": [
    {
     "data": {
      "text/plain": [
       "number_of_reviews      0\n",
       "maximum_nights         0\n",
       "minimum_nights         0\n",
       "host_listings_count    0\n",
       "price                  0\n",
       "dtype: int64"
      ]
     },
     "execution_count": 64,
     "metadata": {},
     "output_type": "execute_result"
    }
   ],
   "source": [
    "new_train.isna().sum()\n"
   ]
  },
  {
   "cell_type": "markdown",
   "id": "0e063fcd",
   "metadata": {},
   "source": [
    "**Proximos pasos:**\n",
    "    \n",
    "1. Bathrooms \n",
    "2. fill na con 0 y o mean\n",
    "3. Hacer testeo"
   ]
  },
  {
   "cell_type": "markdown",
   "id": "7c44814c",
   "metadata": {},
   "source": [
    "**1.2.3 Añadimos la columna 'bathrooms' limpia con datos numericos extraidos:**"
   ]
  },
  {
   "cell_type": "markdown",
   "id": "4a407292",
   "metadata": {},
   "source": [
    "* **ATENCION! La columna de bathrooms, hay que limpiarla bien, en esta transfromacion no esta correctamente limpia!**"
   ]
  },
  {
   "cell_type": "code",
   "execution_count": 65,
   "id": "d254e243",
   "metadata": {
    "scrolled": false
   },
   "outputs": [
    {
     "data": {
      "text/html": [
       "<div>\n",
       "<style scoped>\n",
       "    .dataframe tbody tr th:only-of-type {\n",
       "        vertical-align: middle;\n",
       "    }\n",
       "\n",
       "    .dataframe tbody tr th {\n",
       "        vertical-align: top;\n",
       "    }\n",
       "\n",
       "    .dataframe thead th {\n",
       "        text-align: right;\n",
       "    }\n",
       "</style>\n",
       "<table border=\"1\" class=\"dataframe\">\n",
       "  <thead>\n",
       "    <tr style=\"text-align: right;\">\n",
       "      <th></th>\n",
       "      <th>number_of_reviews</th>\n",
       "      <th>maximum_nights</th>\n",
       "      <th>minimum_nights</th>\n",
       "      <th>host_listings_count</th>\n",
       "      <th>price</th>\n",
       "    </tr>\n",
       "  </thead>\n",
       "  <tbody>\n",
       "    <tr>\n",
       "      <th>0</th>\n",
       "      <td>81</td>\n",
       "      <td>1125</td>\n",
       "      <td>2</td>\n",
       "      <td>13</td>\n",
       "      <td>87.0</td>\n",
       "    </tr>\n",
       "    <tr>\n",
       "      <th>1</th>\n",
       "      <td>9</td>\n",
       "      <td>1125</td>\n",
       "      <td>2</td>\n",
       "      <td>0</td>\n",
       "      <td>250.0</td>\n",
       "    </tr>\n",
       "  </tbody>\n",
       "</table>\n",
       "</div>"
      ],
      "text/plain": [
       "   number_of_reviews  maximum_nights  minimum_nights  host_listings_count  \\\n",
       "0                 81            1125               2                   13   \n",
       "1                  9            1125               2                    0   \n",
       "\n",
       "   price  \n",
       "0   87.0  \n",
       "1  250.0  "
      ]
     },
     "execution_count": 65,
     "metadata": {},
     "output_type": "execute_result"
    }
   ],
   "source": [
    "new_train.head(2)"
   ]
  },
  {
   "cell_type": "code",
   "execution_count": 66,
   "id": "448bdee5",
   "metadata": {},
   "outputs": [],
   "source": [
    "#new_train['bathroom']=df_train.bathrooms_text.apply(limpieza_ba)"
   ]
  },
  {
   "cell_type": "code",
   "execution_count": 67,
   "id": "8d963d96",
   "metadata": {
    "scrolled": true
   },
   "outputs": [
    {
     "data": {
      "text/html": [
       "<div>\n",
       "<style scoped>\n",
       "    .dataframe tbody tr th:only-of-type {\n",
       "        vertical-align: middle;\n",
       "    }\n",
       "\n",
       "    .dataframe tbody tr th {\n",
       "        vertical-align: top;\n",
       "    }\n",
       "\n",
       "    .dataframe thead th {\n",
       "        text-align: right;\n",
       "    }\n",
       "</style>\n",
       "<table border=\"1\" class=\"dataframe\">\n",
       "  <thead>\n",
       "    <tr style=\"text-align: right;\">\n",
       "      <th></th>\n",
       "      <th>number_of_reviews</th>\n",
       "      <th>maximum_nights</th>\n",
       "      <th>minimum_nights</th>\n",
       "      <th>host_listings_count</th>\n",
       "      <th>price</th>\n",
       "    </tr>\n",
       "  </thead>\n",
       "  <tbody>\n",
       "    <tr>\n",
       "      <th>0</th>\n",
       "      <td>81</td>\n",
       "      <td>1125</td>\n",
       "      <td>2</td>\n",
       "      <td>13</td>\n",
       "      <td>87.0</td>\n",
       "    </tr>\n",
       "    <tr>\n",
       "      <th>1</th>\n",
       "      <td>9</td>\n",
       "      <td>1125</td>\n",
       "      <td>2</td>\n",
       "      <td>0</td>\n",
       "      <td>250.0</td>\n",
       "    </tr>\n",
       "    <tr>\n",
       "      <th>2</th>\n",
       "      <td>47</td>\n",
       "      <td>1125</td>\n",
       "      <td>1</td>\n",
       "      <td>20</td>\n",
       "      <td>151.0</td>\n",
       "    </tr>\n",
       "  </tbody>\n",
       "</table>\n",
       "</div>"
      ],
      "text/plain": [
       "   number_of_reviews  maximum_nights  minimum_nights  host_listings_count  \\\n",
       "0                 81            1125               2                   13   \n",
       "1                  9            1125               2                    0   \n",
       "2                 47            1125               1                   20   \n",
       "\n",
       "   price  \n",
       "0   87.0  \n",
       "1  250.0  \n",
       "2  151.0  "
      ]
     },
     "execution_count": 67,
     "metadata": {},
     "output_type": "execute_result"
    }
   ],
   "source": [
    "new_train.head(3)"
   ]
  },
  {
   "cell_type": "code",
   "execution_count": 68,
   "id": "8fca9927",
   "metadata": {
    "scrolled": true
   },
   "outputs": [
    {
     "data": {
      "text/plain": [
       "number_of_reviews      0\n",
       "maximum_nights         0\n",
       "minimum_nights         0\n",
       "host_listings_count    0\n",
       "price                  0\n",
       "dtype: int64"
      ]
     },
     "execution_count": 68,
     "metadata": {},
     "output_type": "execute_result"
    }
   ],
   "source": [
    "new_train.isna().sum()"
   ]
  },
  {
   "cell_type": "markdown",
   "id": "66ddbfb4",
   "metadata": {},
   "source": [
    "### 1.2 Correlacion de las columnas in Train DF:"
   ]
  },
  {
   "cell_type": "code",
   "execution_count": 69,
   "id": "d284d1f4",
   "metadata": {
    "scrolled": true
   },
   "outputs": [
    {
     "data": {
      "image/png": "[encoded data removed]",
      "text/plain": [
       "<Figure size 432x288 with 2 Axes>"
      ]
     },
     "metadata": {
      "needs_background": "light"
     },
     "output_type": "display_data"
    }
   ],
   "source": [
    "sns.heatmap(new_train.corr());"
   ]
  },
  {
   "cell_type": "markdown",
   "id": "f78d894a",
   "metadata": {},
   "source": [
    "**BEDROOMS**"
   ]
  },
  {
   "cell_type": "code",
   "execution_count": 70,
   "id": "4f3c0f0b",
   "metadata": {},
   "outputs": [
    {
     "data": {
      "text/html": [
       "<div>\n",
       "<style scoped>\n",
       "    .dataframe tbody tr th:only-of-type {\n",
       "        vertical-align: middle;\n",
       "    }\n",
       "\n",
       "    .dataframe tbody tr th {\n",
       "        vertical-align: top;\n",
       "    }\n",
       "\n",
       "    .dataframe thead th {\n",
       "        text-align: right;\n",
       "    }\n",
       "</style>\n",
       "<table border=\"1\" class=\"dataframe\">\n",
       "  <thead>\n",
       "    <tr style=\"text-align: right;\">\n",
       "      <th></th>\n",
       "      <th>bedrooms</th>\n",
       "      <th>beds</th>\n",
       "    </tr>\n",
       "  </thead>\n",
       "  <tbody>\n",
       "    <tr>\n",
       "      <th>0</th>\n",
       "      <td>1.0</td>\n",
       "      <td>1.0</td>\n",
       "    </tr>\n",
       "    <tr>\n",
       "      <th>1</th>\n",
       "      <td>2.0</td>\n",
       "      <td>2.0</td>\n",
       "    </tr>\n",
       "    <tr>\n",
       "      <th>2</th>\n",
       "      <td>1.0</td>\n",
       "      <td>1.0</td>\n",
       "    </tr>\n",
       "    <tr>\n",
       "      <th>3</th>\n",
       "      <td>1.0</td>\n",
       "      <td>1.0</td>\n",
       "    </tr>\n",
       "    <tr>\n",
       "      <th>4</th>\n",
       "      <td>1.0</td>\n",
       "      <td>2.0</td>\n",
       "    </tr>\n",
       "  </tbody>\n",
       "</table>\n",
       "</div>"
      ],
      "text/plain": [
       "   bedrooms  beds\n",
       "0       1.0   1.0\n",
       "1       2.0   2.0\n",
       "2       1.0   1.0\n",
       "3       1.0   1.0\n",
       "4       1.0   2.0"
      ]
     },
     "execution_count": 70,
     "metadata": {},
     "output_type": "execute_result"
    }
   ],
   "source": [
    "bedrom_bed = df_train.loc[:, ['bedrooms', 'beds']]\n",
    "\n",
    "\n",
    "for i in zip(bedrom_bed.values):\n",
    "        if i[0][0] != i[0][0]:\n",
    "            bedrom_bed.fillna(i[0][1], axis=0, inplace=True)\n",
    "        elif i[0][1]!= i[0][1]:\n",
    "            bedrom_bed.fillna(i[0][0], axis=0, inplace=True)\n",
    "\n",
    "bedrom_bed.head()"
   ]
  },
  {
   "cell_type": "code",
   "execution_count": 71,
   "id": "3cd0a335",
   "metadata": {},
   "outputs": [],
   "source": [
    "new_train = new_train.assign(beds_new=bedrom_bed.bedrooms.values)"
   ]
  },
  {
   "cell_type": "code",
   "execution_count": 72,
   "id": "d62cef59",
   "metadata": {
    "scrolled": true
   },
   "outputs": [
    {
     "data": {
      "text/html": [
       "<div>\n",
       "<style scoped>\n",
       "    .dataframe tbody tr th:only-of-type {\n",
       "        vertical-align: middle;\n",
       "    }\n",
       "\n",
       "    .dataframe tbody tr th {\n",
       "        vertical-align: top;\n",
       "    }\n",
       "\n",
       "    .dataframe thead th {\n",
       "        text-align: right;\n",
       "    }\n",
       "</style>\n",
       "<table border=\"1\" class=\"dataframe\">\n",
       "  <thead>\n",
       "    <tr style=\"text-align: right;\">\n",
       "      <th></th>\n",
       "      <th>number_of_reviews</th>\n",
       "      <th>maximum_nights</th>\n",
       "      <th>minimum_nights</th>\n",
       "      <th>host_listings_count</th>\n",
       "      <th>price</th>\n",
       "      <th>beds_new</th>\n",
       "    </tr>\n",
       "  </thead>\n",
       "  <tbody>\n",
       "    <tr>\n",
       "      <th>0</th>\n",
       "      <td>81</td>\n",
       "      <td>1125</td>\n",
       "      <td>2</td>\n",
       "      <td>13</td>\n",
       "      <td>87.0</td>\n",
       "      <td>1.0</td>\n",
       "    </tr>\n",
       "    <tr>\n",
       "      <th>1</th>\n",
       "      <td>9</td>\n",
       "      <td>1125</td>\n",
       "      <td>2</td>\n",
       "      <td>0</td>\n",
       "      <td>250.0</td>\n",
       "      <td>2.0</td>\n",
       "    </tr>\n",
       "    <tr>\n",
       "      <th>2</th>\n",
       "      <td>47</td>\n",
       "      <td>1125</td>\n",
       "      <td>1</td>\n",
       "      <td>20</td>\n",
       "      <td>151.0</td>\n",
       "      <td>1.0</td>\n",
       "    </tr>\n",
       "    <tr>\n",
       "      <th>3</th>\n",
       "      <td>10</td>\n",
       "      <td>30</td>\n",
       "      <td>2</td>\n",
       "      <td>1</td>\n",
       "      <td>139.0</td>\n",
       "      <td>1.0</td>\n",
       "    </tr>\n",
       "    <tr>\n",
       "      <th>4</th>\n",
       "      <td>166</td>\n",
       "      <td>7</td>\n",
       "      <td>2</td>\n",
       "      <td>1</td>\n",
       "      <td>95.0</td>\n",
       "      <td>1.0</td>\n",
       "    </tr>\n",
       "  </tbody>\n",
       "</table>\n",
       "</div>"
      ],
      "text/plain": [
       "   number_of_reviews  maximum_nights  minimum_nights  host_listings_count  \\\n",
       "0                 81            1125               2                   13   \n",
       "1                  9            1125               2                    0   \n",
       "2                 47            1125               1                   20   \n",
       "3                 10              30               2                    1   \n",
       "4                166               7               2                    1   \n",
       "\n",
       "   price  beds_new  \n",
       "0   87.0       1.0  \n",
       "1  250.0       2.0  \n",
       "2  151.0       1.0  \n",
       "3  139.0       1.0  \n",
       "4   95.0       1.0  "
      ]
     },
     "execution_count": 72,
     "metadata": {},
     "output_type": "execute_result"
    }
   ],
   "source": [
    "new_train.head()"
   ]
  },
  {
   "cell_type": "code",
   "execution_count": 73,
   "id": "2d1baa1b",
   "metadata": {},
   "outputs": [
    {
     "data": {
      "image/png": "[encoded data removed]",
      "text/plain": [
       "<Figure size 432x288 with 2 Axes>"
      ]
     },
     "metadata": {
      "needs_background": "light"
     },
     "output_type": "display_data"
    }
   ],
   "source": [
    "sns.heatmap(new_train.corr());"
   ]
  },
  {
   "cell_type": "markdown",
   "id": "432d4f92",
   "metadata": {},
   "source": [
    "### 1.3 Arbol de decision: importancia de cada columna:\n",
    "\n",
    "- DTR"
   ]
  },
  {
   "cell_type": "markdown",
   "id": "7ba90c8e",
   "metadata": {},
   "source": [
    "### 1.4 Modelo Train Data:"
   ]
  },
  {
   "cell_type": "code",
   "execution_count": 74,
   "id": "f4f90e22",
   "metadata": {},
   "outputs": [],
   "source": [
    "X=new_train.drop('price', axis=1)\n",
    "y=new_train.price"
   ]
  },
  {
   "cell_type": "code",
   "execution_count": 75,
   "id": "97b53910",
   "metadata": {},
   "outputs": [],
   "source": [
    "X_train, X_test, y_train, y_test = tts(X, y, \n",
    "                                       test_size=0.15, random_state=42)"
   ]
  },
  {
   "cell_type": "code",
   "execution_count": 76,
   "id": "31ca30cd",
   "metadata": {},
   "outputs": [],
   "source": [
    "def prueba_modelo(modelo):\n",
    "\n",
    "    modelo.fit(X_train, y_train)\n",
    "\n",
    "    y_pred=modelo.predict(X_test)\n",
    "\n",
    "    train_score=modelo.score(X_train, y_train)  \n",
    "    test_score=modelo.score(X_test, y_test)\n",
    "    \n",
    "    print(modelo)\n",
    "    print('Train:', train_score)\n",
    "    print('Test:', test_score) \n",
    "    print('\\n')"
   ]
  },
  {
   "cell_type": "code",
   "execution_count": 77,
   "id": "317e1b75",
   "metadata": {},
   "outputs": [
    {
     "name": "stdout",
     "output_type": "stream",
     "text": [
      "LinearRegression()\n",
      "Train: 0.09885675536863447\n",
      "Test: 0.30109098215025654\n",
      "\n",
      "\n",
      "Lasso()\n",
      "Train: 0.09882089122817383\n",
      "Test: 0.2996178469811962\n",
      "\n",
      "\n",
      "RandomForestRegressor()\n",
      "Train: 0.7198880504866545\n",
      "Test: -3.0085824341307656\n",
      "\n",
      "\n",
      "SGDClassifier()\n",
      "Train: 0.0073425585992657446\n",
      "Test: 0.003194888178913738\n",
      "\n",
      "\n",
      "GaussianNB()\n",
      "Train: 0.06325896639367411\n",
      "Test: 0.004792332268370607\n",
      "\n",
      "\n",
      "MultinomialNB()\n",
      "Train: 0.024851736797514828\n",
      "Test: 0.009584664536741214\n",
      "\n",
      "\n",
      "ComplementNB()\n",
      "Train: 0.021462863597853713\n",
      "Test: 0.023961661341853034\n",
      "\n",
      "\n"
     ]
    }
   ],
   "source": [
    "modelos=[LinReg(), Lasso(),RFR(),SGDC(),GNB(),MNB(),CNB()]\n",
    "\n",
    "for m in modelos:\n",
    "    prueba_modelo(m)"
   ]
  },
  {
   "cell_type": "markdown",
   "id": "5297f599",
   "metadata": {},
   "source": [
    "#### * CON RANDOM FOREST"
   ]
  },
  {
   "cell_type": "markdown",
   "id": "200a16ce",
   "metadata": {},
   "source": [
    "### 1.3.1 R2"
   ]
  },
  {
   "cell_type": "markdown",
   "id": "02e2cd3f",
   "metadata": {
    "scrolled": true
   },
   "source": [
    "modelo.score(X_test, y_test)# R2 cuanto mas cercano a 1 mejor "
   ]
  },
  {
   "cell_type": "markdown",
   "id": "32c6d9f2",
   "metadata": {},
   "source": [
    "y_pred=modelo.predict(X_test)\n"
   ]
  },
  {
   "cell_type": "markdown",
   "id": "6a2b1201",
   "metadata": {
    "scrolled": true
   },
   "source": [
    "y_pred.shape"
   ]
  },
  {
   "cell_type": "markdown",
   "id": "ed29dce2",
   "metadata": {},
   "source": [
    "### 1.3.2 MSE (Mean Squared Error)"
   ]
  },
  {
   "cell_type": "markdown",
   "id": "ee7f87fd",
   "metadata": {
    "scrolled": true
   },
   "source": [
    "mse(y_pred, y_test, squared=False)"
   ]
  },
  {
   "cell_type": "markdown",
   "id": "725fa9a4",
   "metadata": {},
   "source": [
    "**Predictions Variable RFR:**"
   ]
  },
  {
   "cell_type": "markdown",
   "id": "05ea9aba",
   "metadata": {},
   "source": [
    "y_pred"
   ]
  },
  {
   "cell_type": "markdown",
   "id": "24da33a6",
   "metadata": {},
   "source": []
  },
  {
   "cell_type": "markdown",
   "id": "46ced096",
   "metadata": {},
   "source": [
    "### * Con LinReg"
   ]
  },
  {
   "cell_type": "markdown",
   "id": "608d21eb",
   "metadata": {},
   "source": [
    "X_train, X_test, y_train, y_test = tts(new_train.drop('price',axis=1), \n",
    "                                               new_train.price)"
   ]
  },
  {
   "cell_type": "markdown",
   "id": "60b01254",
   "metadata": {},
   "source": [
    "modelo=LinReg()\n",
    "\n",
    "modelo.fit(X_train, y_train)"
   ]
  },
  {
   "cell_type": "markdown",
   "id": "960da6fb",
   "metadata": {},
   "source": [
    "### 1.3.1 R2"
   ]
  },
  {
   "cell_type": "markdown",
   "id": "47774438",
   "metadata": {},
   "source": [
    "modelo.score(X_test, y_test)# R2 cuanto mas cercano a 1 mejor "
   ]
  },
  {
   "cell_type": "markdown",
   "id": "d81416cf",
   "metadata": {},
   "source": [
    "y_pred_LR=modelo.predict(X_test)\n"
   ]
  },
  {
   "cell_type": "markdown",
   "id": "99b97390",
   "metadata": {
    "scrolled": true
   },
   "source": [
    "y_pred.shape"
   ]
  },
  {
   "cell_type": "markdown",
   "id": "f7e6bb4d",
   "metadata": {},
   "source": [
    "### 1.3.2 MSE (Mean Squared Error)"
   ]
  },
  {
   "cell_type": "markdown",
   "id": "8030a7b6",
   "metadata": {
    "scrolled": true
   },
   "source": [
    "mse(y_pred, y_test, squared=False)"
   ]
  },
  {
   "cell_type": "markdown",
   "id": "dab1a10b",
   "metadata": {},
   "source": []
  },
  {
   "cell_type": "markdown",
   "id": "9a38bc70",
   "metadata": {},
   "source": [
    "## 2. Test CSV:"
   ]
  },
  {
   "cell_type": "markdown",
   "id": "104b0f30",
   "metadata": {},
   "source": [
    "**Import Test Data**"
   ]
  },
  {
   "cell_type": "code",
   "execution_count": 34,
   "id": "610c78c0",
   "metadata": {
    "scrolled": true
   },
   "outputs": [
    {
     "data": {
      "text/plain": [
       "(1389, 73)"
      ]
     },
     "execution_count": 34,
     "metadata": {},
     "output_type": "execute_result"
    }
   ],
   "source": [
    "test_df=pd.read_csv('data/test.csv')\n",
    "test_df.shape"
   ]
  },
  {
   "cell_type": "markdown",
   "id": "783444b0",
   "metadata": {},
   "source": [
    "#### 2.1 Asigning the same columns present in Train DF to Test DF"
   ]
  },
  {
   "cell_type": "code",
   "execution_count": 35,
   "id": "2f429dc8",
   "metadata": {
    "scrolled": true
   },
   "outputs": [
    {
     "data": {
      "text/plain": [
       "accommodates           0\n",
       "number_of_reviews      0\n",
       "maximum_nights         0\n",
       "minimum_nights         0\n",
       "host_listings_count    0\n",
       "dtype: int64"
      ]
     },
     "execution_count": 35,
     "metadata": {},
     "output_type": "execute_result"
    }
   ],
   "source": [
    "test_DF = test_df.loc[:, ['accommodates','number_of_reviews','maximum_nights','minimum_nights','host_listings_count',]]\n",
    "\n",
    "test_DF.isna().sum()\n"
   ]
  },
  {
   "cell_type": "markdown",
   "id": "205c0a8d",
   "metadata": {},
   "source": [
    "#### 2.2 Adding 'bathroom' column to Test DF"
   ]
  },
  {
   "cell_type": "code",
   "execution_count": 36,
   "id": "dff5ea84",
   "metadata": {},
   "outputs": [],
   "source": [
    "#test_DF['bathroom']=test_df.bathrooms_text.apply(limpieza_ba)"
   ]
  },
  {
   "cell_type": "code",
   "execution_count": 56,
   "id": "bc6cd1b4",
   "metadata": {},
   "outputs": [
    {
     "data": {
      "text/plain": [
       "accommodates           0\n",
       "number_of_reviews      0\n",
       "maximum_nights         0\n",
       "minimum_nights         0\n",
       "host_listings_count    0\n",
       "dtype: int64"
      ]
     },
     "execution_count": 56,
     "metadata": {},
     "output_type": "execute_result"
    }
   ],
   "source": [
    "test_DF.isna().sum()"
   ]
  },
  {
   "cell_type": "markdown",
   "id": "1b6cb790",
   "metadata": {},
   "source": [
    "#### 2.3 Correlacion de las columnas in Test DF:"
   ]
  },
  {
   "cell_type": "code",
   "execution_count": 38,
   "id": "fa337ffd",
   "metadata": {
    "scrolled": true
   },
   "outputs": [
    {
     "data": {
      "image/png": "[encoded data removed]",
      "text/plain": [
       "<Figure size 432x288 with 2 Axes>"
      ]
     },
     "metadata": {
      "needs_background": "light"
     },
     "output_type": "display_data"
    }
   ],
   "source": [
    "sns.heatmap(test_DF.corr());"
   ]
  },
  {
   "cell_type": "markdown",
   "id": "29fb5366",
   "metadata": {},
   "source": [
    "## 4. Listamos las columnas de los Data frames Train & Test"
   ]
  },
  {
   "cell_type": "code",
   "execution_count": 39,
   "id": "f47ef09d",
   "metadata": {
    "scrolled": true
   },
   "outputs": [
    {
     "data": {
      "text/plain": [
       "((4167, 6), (1389, 5))"
      ]
     },
     "execution_count": 39,
     "metadata": {},
     "output_type": "execute_result"
    }
   ],
   "source": [
    "new_train.shape,test_DF.shape"
   ]
  },
  {
   "cell_type": "markdown",
   "id": "75577bc0",
   "metadata": {},
   "source": [
    "#### Train Data frame  (NUESTRO)"
   ]
  },
  {
   "cell_type": "code",
   "execution_count": 40,
   "id": "0e1ca36e",
   "metadata": {},
   "outputs": [
    {
     "data": {
      "text/plain": [
       "accommodates           0\n",
       "number_of_reviews      0\n",
       "maximum_nights         0\n",
       "minimum_nights         0\n",
       "host_listings_count    0\n",
       "price                  0\n",
       "dtype: int64"
      ]
     },
     "execution_count": 40,
     "metadata": {},
     "output_type": "execute_result"
    }
   ],
   "source": [
    "new_train.isna().sum()"
   ]
  },
  {
   "cell_type": "markdown",
   "id": "8191c85d",
   "metadata": {},
   "source": [
    "#### Test de Data Frame"
   ]
  },
  {
   "cell_type": "code",
   "execution_count": 41,
   "id": "3e578cba",
   "metadata": {
    "scrolled": false
   },
   "outputs": [
    {
     "data": {
      "text/plain": [
       "accommodates           0\n",
       "number_of_reviews      0\n",
       "maximum_nights         0\n",
       "minimum_nights         0\n",
       "host_listings_count    0\n",
       "dtype: int64"
      ]
     },
     "execution_count": 41,
     "metadata": {},
     "output_type": "execute_result"
    }
   ],
   "source": [
    "test_DF.isna().sum()"
   ]
  },
  {
   "cell_type": "markdown",
   "id": "a252f3cf",
   "metadata": {},
   "source": [
    "### 5. Entrenamos Modelos:"
   ]
  },
  {
   "cell_type": "code",
   "execution_count": 42,
   "id": "8a5fdd32",
   "metadata": {},
   "outputs": [],
   "source": [
    "X=new_train.drop('price', axis=1)\n",
    "y=new_train.price"
   ]
  },
  {
   "cell_type": "code",
   "execution_count": 43,
   "id": "098a9f40",
   "metadata": {},
   "outputs": [],
   "source": [
    "X_train, X_test, y_train, y_test = tts(X, y, \n",
    "                                       test_size=0.15, random_state=42)"
   ]
  },
  {
   "cell_type": "code",
   "execution_count": 44,
   "id": "9560f7a9",
   "metadata": {},
   "outputs": [],
   "source": [
    "def prueba_modelo(modelo):\n",
    "\n",
    "    modelo.fit(X_train, y_train)\n",
    "\n",
    "    y_pred=modelo.predict(X_test)\n",
    "\n",
    "    train_score=modelo.score(X_train, y_train)  \n",
    "    test_score=modelo.score(X_test, y_test)\n",
    "    \n",
    "    print(modelo)\n",
    "    print('Train:', train_score)\n",
    "    print('Test:', test_score) \n",
    "    print('\\n')"
   ]
  },
  {
   "cell_type": "code",
   "execution_count": 45,
   "id": "7467352e",
   "metadata": {},
   "outputs": [
    {
     "name": "stdout",
     "output_type": "stream",
     "text": [
      "LinearRegression()\n",
      "Train: 0.10712614051484826\n",
      "Test: 0.266207802706108\n",
      "\n",
      "\n",
      "Lasso()\n",
      "Train: 0.10711256779536882\n",
      "Test: 0.26628469907279606\n",
      "\n",
      "\n",
      "RandomForestRegressor()\n",
      "Train: 0.7199757596665577\n",
      "Test: -3.2738882225684023\n",
      "\n",
      "\n",
      "SGDClassifier()\n",
      "Train: 0.003953685399604632\n",
      "Test: 0.0\n",
      "\n",
      "\n",
      "GaussianNB()\n",
      "Train: 0.06438859079356114\n",
      "Test: 0.006389776357827476\n",
      "\n",
      "\n",
      "MultinomialNB()\n",
      "Train: 0.028523016097147698\n",
      "Test: 0.007987220447284345\n",
      "\n",
      "\n",
      "ComplementNB()\n",
      "Train: 0.021462863597853713\n",
      "Test: 0.023961661341853034\n",
      "\n",
      "\n"
     ]
    }
   ],
   "source": [
    "modelos=[LinReg(), Lasso(),RFR(),SGDC(),GNB(),MNB(),CNB()]\n",
    "\n",
    "for m in modelos:\n",
    "    prueba_modelo(m)"
   ]
  },
  {
   "cell_type": "markdown",
   "id": "576f4519",
   "metadata": {},
   "source": [
    "### Prediction on Test DF"
   ]
  },
  {
   "cell_type": "markdown",
   "id": "0b6fcf4a",
   "metadata": {},
   "source": [
    "Here we place the **Test DF** into the model we have trained. \n",
    "\n"
   ]
  },
  {
   "cell_type": "code",
   "execution_count": 46,
   "id": "783e1cbb",
   "metadata": {},
   "outputs": [
    {
     "ename": "NameError",
     "evalue": "name 'modelo' is not defined",
     "output_type": "error",
     "traceback": [
      "\u001b[0;31m---------------------------------------------------------------------------\u001b[0m",
      "\u001b[0;31mNameError\u001b[0m                                 Traceback (most recent call last)",
      "\u001b[0;32m/var/folders/xt/vx2zkv116hb1jvz92s1nlr2r0000gn/T/ipykernel_47429/2753772309.py\u001b[0m in \u001b[0;36m<module>\u001b[0;34m\u001b[0m\n\u001b[0;32m----> 1\u001b[0;31m \u001b[0my_pred\u001b[0m\u001b[0;34m=\u001b[0m\u001b[0mmodelo\u001b[0m\u001b[0;34m.\u001b[0m\u001b[0mpredict\u001b[0m\u001b[0;34m(\u001b[0m\u001b[0mtest_DF\u001b[0m\u001b[0;34m)\u001b[0m\u001b[0;34m\u001b[0m\u001b[0;34m\u001b[0m\u001b[0m\n\u001b[0m",
      "\u001b[0;31mNameError\u001b[0m: name 'modelo' is not defined"
     ]
    }
   ],
   "source": [
    "y_pred=modelo.predict(test_DF)"
   ]
  },
  {
   "cell_type": "code",
   "execution_count": null,
   "id": "25b78fca",
   "metadata": {},
   "outputs": [],
   "source": [
    "y_pred.shape"
   ]
  },
  {
   "cell_type": "code",
   "execution_count": null,
   "id": "260b351f",
   "metadata": {},
   "outputs": [],
   "source": [
    "f\"Train : {modelo.score(X_train, y_train)} Test: {modelo.score(X_test, y_test)}\"\n"
   ]
  },
  {
   "cell_type": "code",
   "execution_count": null,
   "id": "73db89c6",
   "metadata": {},
   "outputs": [],
   "source": [
    "modelo.fit(X_train, y_train)"
   ]
  },
  {
   "cell_type": "code",
   "execution_count": null,
   "id": "3c3ac90d",
   "metadata": {},
   "outputs": [],
   "source": [
    "y_pred_1=modelo.predict(X_test)"
   ]
  },
  {
   "cell_type": "code",
   "execution_count": null,
   "id": "affbe71b",
   "metadata": {},
   "outputs": [],
   "source": [
    "train_score=modelo.score(X_train, y_train)  \n",
    "test_score=modelo.score(X_test, y_test)\n",
    "    \n",
    "print(modelo)\n",
    "print('Train:', train_score)\n",
    "print('Test:', test_score) \n",
    "print('\\n')"
   ]
  },
  {
   "cell_type": "markdown",
   "id": "a452f804",
   "metadata": {},
   "source": [
    "### Guardar modelo:"
   ]
  },
  {
   "cell_type": "markdown",
   "id": "03a57529",
   "metadata": {},
   "source": [
    "Here we place the "
   ]
  },
  {
   "cell_type": "code",
   "execution_count": null,
   "id": "d51179fd",
   "metadata": {},
   "outputs": [],
   "source": [
    "sample_df_2=pd.DataFrame()\n",
    "\n",
    "\n",
    "sample_df_2['id']=[str(i) for i in range(len(y_pred))]\n",
    "sample_df_2['price']=y_pred\n",
    "\n",
    "sample_df_2.shape"
   ]
  },
  {
   "cell_type": "code",
   "execution_count": null,
   "id": "ca620652",
   "metadata": {},
   "outputs": [],
   "source": [
    "sample_df_2.head()"
   ]
  },
  {
   "cell_type": "code",
   "execution_count": null,
   "id": "658ec3ab",
   "metadata": {},
   "outputs": [],
   "source": [
    "#sample_df_2.to_csv('data/sample_df_2.csv',index=False)"
   ]
  },
  {
   "cell_type": "markdown",
   "id": "6d32efc2",
   "metadata": {},
   "source": [
    "### ATENCION! Columnas 'Bedrooms & Beds' no son relevantes:\n",
    "\n",
    "Dejo este procedimiento pues el desarrollo es muy interesante"
   ]
  },
  {
   "cell_type": "markdown",
   "id": "90ab4c98",
   "metadata": {},
   "source": [
    "1.2.4 Analizamos las columnas bedrooms y beds, para determinar **el valor** con el que sustituiremos los valores Nan:\n",
    "\n",
    "- bedrooms\n",
    "- beds"
   ]
  },
  {
   "cell_type": "code",
   "execution_count": 47,
   "id": "a26d8e25",
   "metadata": {
    "scrolled": true
   },
   "outputs": [],
   "source": [
    "bedrom_bed = df_train.loc[:, ['bedrooms', 'beds']]"
   ]
  },
  {
   "cell_type": "code",
   "execution_count": 48,
   "id": "52213dc5",
   "metadata": {
    "scrolled": true
   },
   "outputs": [
    {
     "data": {
      "text/html": [
       "<div>\n",
       "<style scoped>\n",
       "    .dataframe tbody tr th:only-of-type {\n",
       "        vertical-align: middle;\n",
       "    }\n",
       "\n",
       "    .dataframe tbody tr th {\n",
       "        vertical-align: top;\n",
       "    }\n",
       "\n",
       "    .dataframe thead th {\n",
       "        text-align: right;\n",
       "    }\n",
       "</style>\n",
       "<table border=\"1\" class=\"dataframe\">\n",
       "  <thead>\n",
       "    <tr style=\"text-align: right;\">\n",
       "      <th></th>\n",
       "      <th>bedrooms</th>\n",
       "      <th>beds</th>\n",
       "    </tr>\n",
       "  </thead>\n",
       "  <tbody>\n",
       "    <tr>\n",
       "      <th>0</th>\n",
       "      <td>1.0</td>\n",
       "      <td>NaN</td>\n",
       "    </tr>\n",
       "    <tr>\n",
       "      <th>1</th>\n",
       "      <td>2.0</td>\n",
       "      <td>2.0</td>\n",
       "    </tr>\n",
       "    <tr>\n",
       "      <th>2</th>\n",
       "      <td>1.0</td>\n",
       "      <td>1.0</td>\n",
       "    </tr>\n",
       "    <tr>\n",
       "      <th>3</th>\n",
       "      <td>1.0</td>\n",
       "      <td>1.0</td>\n",
       "    </tr>\n",
       "    <tr>\n",
       "      <th>4</th>\n",
       "      <td>1.0</td>\n",
       "      <td>2.0</td>\n",
       "    </tr>\n",
       "  </tbody>\n",
       "</table>\n",
       "</div>"
      ],
      "text/plain": [
       "   bedrooms  beds\n",
       "0       1.0   NaN\n",
       "1       2.0   2.0\n",
       "2       1.0   1.0\n",
       "3       1.0   1.0\n",
       "4       1.0   2.0"
      ]
     },
     "execution_count": 48,
     "metadata": {},
     "output_type": "execute_result"
    }
   ],
   "source": [
    "bedrom_bed.head()"
   ]
  },
  {
   "cell_type": "code",
   "execution_count": 49,
   "id": "09bbf475",
   "metadata": {
    "scrolled": false
   },
   "outputs": [
    {
     "data": {
      "text/plain": [
       "count    3914.000000\n",
       "mean        1.577414\n",
       "std         0.916811\n",
       "min         1.000000\n",
       "25%         1.000000\n",
       "50%         1.000000\n",
       "75%         2.000000\n",
       "max        10.000000\n",
       "Name: bedrooms, dtype: float64"
      ]
     },
     "execution_count": 49,
     "metadata": {},
     "output_type": "execute_result"
    }
   ],
   "source": [
    "bedrom_bed.bedrooms.describe()"
   ]
  },
  {
   "cell_type": "code",
   "execution_count": 51,
   "id": "a1b2fc5c",
   "metadata": {},
   "outputs": [],
   "source": [
    "for i in zip(bedrom_bed.values):\n",
    "        if i[0][0] != i[0][0]:\n",
    "            bedrom_bed.fillna(i[0][1], axis=0, inplace=True)\n",
    "        elif i[0][1]!= i[0][1]:\n",
    "            bedrom_bed.fillna(i[0][0], axis=0, inplace=True)"
   ]
  },
  {
   "cell_type": "code",
   "execution_count": 52,
   "id": "9fd08c30",
   "metadata": {},
   "outputs": [
    {
     "data": {
      "text/html": [
       "<div>\n",
       "<style scoped>\n",
       "    .dataframe tbody tr th:only-of-type {\n",
       "        vertical-align: middle;\n",
       "    }\n",
       "\n",
       "    .dataframe tbody tr th {\n",
       "        vertical-align: top;\n",
       "    }\n",
       "\n",
       "    .dataframe thead th {\n",
       "        text-align: right;\n",
       "    }\n",
       "</style>\n",
       "<table border=\"1\" class=\"dataframe\">\n",
       "  <thead>\n",
       "    <tr style=\"text-align: right;\">\n",
       "      <th></th>\n",
       "      <th>bedrooms</th>\n",
       "      <th>beds</th>\n",
       "    </tr>\n",
       "  </thead>\n",
       "  <tbody>\n",
       "    <tr>\n",
       "      <th>0</th>\n",
       "      <td>1.0</td>\n",
       "      <td>1.0</td>\n",
       "    </tr>\n",
       "    <tr>\n",
       "      <th>1</th>\n",
       "      <td>2.0</td>\n",
       "      <td>2.0</td>\n",
       "    </tr>\n",
       "    <tr>\n",
       "      <th>2</th>\n",
       "      <td>1.0</td>\n",
       "      <td>1.0</td>\n",
       "    </tr>\n",
       "    <tr>\n",
       "      <th>3</th>\n",
       "      <td>1.0</td>\n",
       "      <td>1.0</td>\n",
       "    </tr>\n",
       "    <tr>\n",
       "      <th>4</th>\n",
       "      <td>1.0</td>\n",
       "      <td>2.0</td>\n",
       "    </tr>\n",
       "  </tbody>\n",
       "</table>\n",
       "</div>"
      ],
      "text/plain": [
       "   bedrooms  beds\n",
       "0       1.0   1.0\n",
       "1       2.0   2.0\n",
       "2       1.0   1.0\n",
       "3       1.0   1.0\n",
       "4       1.0   2.0"
      ]
     },
     "execution_count": 52,
     "metadata": {},
     "output_type": "execute_result"
    }
   ],
   "source": [
    "bedrom_bed.head()"
   ]
  },
  {
   "cell_type": "markdown",
   "id": "802ca4aa",
   "metadata": {},
   "source": [
    "**Tratamos los valores Nan de las columnas bedroom & bed**\n",
    "\n",
    "Para rellenar los valores Nan en las columnas bedroom & bed.\n",
    "\n",
    "**Observaciones:** que hay cirtos valores que tienen una columna que la otra no tiene, con ambas trataremos de rellenar el maximo posible, con los valores Nan que queden, le añadiremos 1, que es el minimo de camas que una casa debe tener. \n",
    "\n",
    "1. Con la columna de bedrooms, rellenaremos la columna de beds\n",
    "2. Con la columna de beds rellenaremos la columna de bedrooms\n",
    "3. Los valores que queden en esta columna, los sustituiremos con 1 (min de beds por casa)."
   ]
  },
  {
   "cell_type": "markdown",
   "id": "03e2c26a",
   "metadata": {},
   "source": [
    "**1.Fill Nan values in Bedrooms & Bed:**"
   ]
  },
  {
   "cell_type": "code",
   "execution_count": null,
   "id": "b58c6984",
   "metadata": {
    "scrolled": true
   },
   "outputs": [],
   "source": [
    "fill_bedroom_bed(bedrom_bed)"
   ]
  },
  {
   "cell_type": "markdown",
   "id": "81f2e1c7",
   "metadata": {},
   "source": [
    "**All values from both columns, where able to be substitude with the values from each other. GOOD!** "
   ]
  },
  {
   "cell_type": "markdown",
   "id": "e39ac8d9",
   "metadata": {},
   "source": [
    "**2. Add bedroom_bed DataFrame to the new_train DataFrame**"
   ]
  },
  {
   "cell_type": "code",
   "execution_count": null,
   "id": "90104554",
   "metadata": {
    "scrolled": true
   },
   "outputs": [],
   "source": [
    "new_train = new_train.assign(bedrooms_new=bedrom_bed.bedrooms_new.values,\n",
    "                             beds_new=bedrom_bed.beds_new.values)"
   ]
  }
 ],
 "metadata": {
  "kernelspec": {
   "display_name": "Python3 (ironhack_2)",
   "language": "python",
   "name": "condaenv"
  },
  "language_info": {
   "codemirror_mode": {
    "name": "ipython",
    "version": 3
   },
   "file_extension": ".py",
   "mimetype": "text/x-python",
   "name": "python",
   "nbconvert_exporter": "python",
   "pygments_lexer": "ipython3",
   "version": "3.8.11"
  }
 },
 "nbformat": 4,
 "nbformat_minor": 5
}
