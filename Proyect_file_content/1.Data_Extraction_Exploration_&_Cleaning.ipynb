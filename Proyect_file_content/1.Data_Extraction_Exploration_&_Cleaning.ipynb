{
 "cells": [
  {
   "cell_type": "markdown",
   "id": "f77308fb",
   "metadata": {},
   "source": [
    "### Understanding and cleaning Data:"
   ]
  },
  {
   "cell_type": "markdown",
   "id": "0dbb3f60",
   "metadata": {},
   "source": [
    "**Tools:**"
   ]
  },
  {
   "cell_type": "code",
   "execution_count": 1,
   "id": "5fb2ac93",
   "metadata": {},
   "outputs": [],
   "source": [
    "import time                                                 # para tiempo\n",
    "inicio=time.time()                                          # momento inicial\n",
    "\n",
    "   \n",
    "import pandas as pd                                         # dataframe\n",
    "import numpy as np                                          # numerical python, algebra lineal\n",
    "\n",
    "import matplotlib.pyplot as plt                             # plots, graficos\n",
    "import seaborn as sns                                       # plots\n",
    "\n",
    "#from sklearn.metrics import confusion_matrix                # metricas, matriz de confusion\n",
    "#from scipy.optimize import minimize                         # minimizar, opt\n",
    "\n",
    "\n",
    "import warnings                                             # avisos\n",
    "warnings.filterwarnings('ignore', category=RuntimeWarning)"
   ]
  },
  {
   "cell_type": "code",
   "execution_count": 2,
   "id": "e12d1488",
   "metadata": {},
   "outputs": [],
   "source": [
    "from sklearn.model_selection import train_test_split as tts\n",
    "from sklearn.decomposition import PCA\n",
    "\n",
    "from sklearn.svm import SVR\n",
    "from sklearn.ensemble import RandomForestRegressor as RFR\n",
    "from sklearn.metrics import mean_squared_error as mse"
   ]
  },
  {
   "cell_type": "code",
   "execution_count": 3,
   "id": "763ea6bc",
   "metadata": {},
   "outputs": [],
   "source": [
    "from sklearn.linear_model import *\n",
    "from sklearn.linear_model import LinearRegression as LinReg"
   ]
  },
  {
   "cell_type": "markdown",
   "id": "a8e8832e",
   "metadata": {},
   "source": [
    "from sklearn.linear_model import LinearRegression as LinReg\n",
    "from sklearn.linear_model import Lasso\n",
    "from sklearn.linear_model import Ridge\n",
    "from sklearn.linear_model import ElasticNet"
   ]
  },
  {
   "cell_type": "code",
   "execution_count": 4,
   "id": "3d99c49e",
   "metadata": {},
   "outputs": [],
   "source": [
    "def highnull(x):\n",
    "    return x.isnull().mean() * 100\n",
    "    "
   ]
  },
  {
   "cell_type": "markdown",
   "id": "0ebe1aed",
   "metadata": {},
   "source": [
    "### Limpieza de Nans"
   ]
  },
  {
   "cell_type": "code",
   "execution_count": 5,
   "id": "af89a4eb",
   "metadata": {},
   "outputs": [],
   "source": [
    "def delete_nan(df):\n",
    "    data_1 = df.loc[:, df.isnull().mean() >= .5]\n",
    "    #data.dropna(thresh=len(data)//2,axis=1, inplace=True)\n",
    "    #trash_1 = list(data.loc[:, data.isna().sum() >= 1000])\n",
    "    print(data_1)\n",
    "    return df.drop(data_1,axis=1,inplace=True)"
   ]
  },
  {
   "cell_type": "markdown",
   "id": "205dad7f",
   "metadata": {},
   "source": [
    "### Limpieza de columnas:"
   ]
  },
  {
   "cell_type": "code",
   "execution_count": 6,
   "id": "0f9d0494",
   "metadata": {},
   "outputs": [],
   "source": [
    "def trash_d(df):\n",
    "    df_col = df.columns\n",
    "    trash = []\n",
    "    for i in df_col:\n",
    "        if 'url' in i:\n",
    "\n",
    "            trash.append(i)\n",
    "        elif 'id' in i:\n",
    "\n",
    "            trash.append(i)\n",
    "        elif 'name' in i:\n",
    "\n",
    "            trash.append(i)\n",
    "        elif 'scrape' in i:\n",
    "\n",
    "            trash.append(i)\n",
    "        elif 'license' in i: #is it relevant??\n",
    "\n",
    "            trash.append(i)\n",
    "        elif 'latitude' in i:\n",
    "\n",
    "            trash.append(i)\n",
    "        elif 'longitude' in i:\n",
    "\n",
    "            trash.append(i)\n",
    "\n",
    "    print(len(trash))\n",
    "    return df.drop(trash,axis=1,inplace=True)\n",
    "       "
   ]
  },
  {
   "cell_type": "markdown",
   "id": "83b6590a",
   "metadata": {},
   "source": [
    "### Analizar la correlacion entre las columnas y eliminar las que tienen corr > 90%"
   ]
  },
  {
   "cell_type": "code",
   "execution_count": 7,
   "id": "dfcd3fef",
   "metadata": {},
   "outputs": [],
   "source": [
    "def bin_corr_col(x):\n",
    "                                        \n",
    "    corr_matrix = x.corr().abs()# Create correlation matrix\n",
    "                                        \n",
    "    upper = corr_matrix.where(np.triu(np.ones(corr_matrix.shape), k=1).astype(bool)) # Select upper triangle of correlation matrix\n",
    "    \n",
    "    to_drop = [column for column in upper.columns if any(upper[column] > 0.90)]# Find features with correlation greater than 0.90\n",
    "\n",
    "    return x.drop(to_drop, axis=1, inplace=True) # Drop features"
   ]
  },
  {
   "cell_type": "markdown",
   "id": "6222da6a",
   "metadata": {},
   "source": [
    "### Funcion para limpiar columna de 'Bathroom text'"
   ]
  },
  {
   "cell_type": "code",
   "execution_count": 8,
   "id": "55f805aa",
   "metadata": {
    "scrolled": false
   },
   "outputs": [],
   "source": [
    "import re\n",
    "\n",
    "patron='[0-9]+'\n",
    "\n",
    "def limpieza_ba(x):\n",
    "    n_ba=0\n",
    "    \n",
    "    try:\n",
    "        n_ba=int(re.findall(patron, x)[0])\n",
    "    except:\n",
    "        n_ba=0\n",
    "        \n",
    "    return n_ba"
   ]
  },
  {
   "cell_type": "markdown",
   "id": "5af62328",
   "metadata": {},
   "source": [
    "### Funcion para probar Modelo"
   ]
  },
  {
   "cell_type": "code",
   "execution_count": 9,
   "id": "94ce3aa6",
   "metadata": {},
   "outputs": [],
   "source": [
    "def prueba_modelo(modelo):\n",
    "\n",
    "    modelo.fit(X_train, y_train)\n",
    "\n",
    "    y_pred=modelo.predict(X_test)\n",
    "\n",
    "    train_score=modelo.score(X_train, y_train)  \n",
    "    test_score=modelo.score(X_test, y_test)\n",
    "    \n",
    "    print(modelo)\n",
    "    print('Train:', train_score)\n",
    "    print('Test:', test_score) \n",
    "    print('\\n')"
   ]
  },
  {
   "cell_type": "markdown",
   "id": "907aaa64",
   "metadata": {},
   "source": [
    "**General Function**"
   ]
  },
  {
   "cell_type": "code",
   "execution_count": 10,
   "id": "a2da50c5",
   "metadata": {},
   "outputs": [],
   "source": [
    "def general_function(df):\n",
    "    \n",
    "    df_num = df.copy()\n",
    "    \n",
    "    df_num_1 = df_num._get_numeric_data()\n",
    "    \n",
    "    #Delete columns with 50% or more Nan values.\n",
    "    #df_num_2 = df_num_1.apply(delete_nan)\n",
    "    \n",
    "    #Delete trash columns.\n",
    "    df_num_2 = df_num_1.apply(trash_d)\n",
    "    \n",
    "    #Delete columns with higher correlation of 90%\n",
    "    df_num_3 = df_num_2.apply(bin_corr_col)\n",
    "    \n",
    "    sns.heatmap(df_num_3.corr());\n",
    "    \n",
    "    return df_num_3   "
   ]
  },
  {
   "cell_type": "markdown",
   "id": "41744f5b",
   "metadata": {},
   "source": [
    "### 1.Train CSV:"
   ]
  },
  {
   "cell_type": "markdown",
   "id": "1cade0d5",
   "metadata": {},
   "source": [
    "### 1er Modelo, con RFR, Filtrado, \n",
    "* get numeric, \n",
    "* simple trash,\n",
    "* basic corr 90%\n",
    "* Nos da mse de 90"
   ]
  },
  {
   "cell_type": "markdown",
   "id": "ae960ff7",
   "metadata": {},
   "source": [
    "**Import Train Data** "
   ]
  },
  {
   "cell_type": "code",
   "execution_count": 11,
   "id": "c6bf74bc",
   "metadata": {},
   "outputs": [
    {
     "ename": "FileNotFoundError",
     "evalue": "[Errno 2] No such file or directory: 'data/train.csv'",
     "output_type": "error",
     "traceback": [
      "\u001b[0;31m---------------------------------------------------------------------------\u001b[0m",
      "\u001b[0;31mFileNotFoundError\u001b[0m                         Traceback (most recent call last)",
      "\u001b[0;32m/var/folders/xt/vx2zkv116hb1jvz92s1nlr2r0000gn/T/ipykernel_42586/3653748128.py\u001b[0m in \u001b[0;36m<module>\u001b[0;34m\u001b[0m\n\u001b[0;32m----> 1\u001b[0;31m \u001b[0mdf_train\u001b[0m \u001b[0;34m=\u001b[0m \u001b[0mpd\u001b[0m\u001b[0;34m.\u001b[0m\u001b[0mread_csv\u001b[0m\u001b[0;34m(\u001b[0m\u001b[0;34m'data/train.csv'\u001b[0m\u001b[0;34m)\u001b[0m\u001b[0;34m\u001b[0m\u001b[0;34m\u001b[0m\u001b[0m\n\u001b[0m",
      "\u001b[0;32m/opt/homebrew/Caskroom/miniconda/base/envs/ironhack_2/lib/python3.8/site-packages/pandas/util/_decorators.py\u001b[0m in \u001b[0;36mwrapper\u001b[0;34m(*args, **kwargs)\u001b[0m\n\u001b[1;32m    309\u001b[0m                     \u001b[0mstacklevel\u001b[0m\u001b[0;34m=\u001b[0m\u001b[0mstacklevel\u001b[0m\u001b[0;34m,\u001b[0m\u001b[0;34m\u001b[0m\u001b[0;34m\u001b[0m\u001b[0m\n\u001b[1;32m    310\u001b[0m                 )\n\u001b[0;32m--> 311\u001b[0;31m             \u001b[0;32mreturn\u001b[0m \u001b[0mfunc\u001b[0m\u001b[0;34m(\u001b[0m\u001b[0;34m*\u001b[0m\u001b[0margs\u001b[0m\u001b[0;34m,\u001b[0m \u001b[0;34m**\u001b[0m\u001b[0mkwargs\u001b[0m\u001b[0;34m)\u001b[0m\u001b[0;34m\u001b[0m\u001b[0;34m\u001b[0m\u001b[0m\n\u001b[0m\u001b[1;32m    312\u001b[0m \u001b[0;34m\u001b[0m\u001b[0m\n\u001b[1;32m    313\u001b[0m         \u001b[0;32mreturn\u001b[0m \u001b[0mwrapper\u001b[0m\u001b[0;34m\u001b[0m\u001b[0;34m\u001b[0m\u001b[0m\n",
      "\u001b[0;32m/opt/homebrew/Caskroom/miniconda/base/envs/ironhack_2/lib/python3.8/site-packages/pandas/io/parsers/readers.py\u001b[0m in \u001b[0;36mread_csv\u001b[0;34m(filepath_or_buffer, sep, delimiter, header, names, index_col, usecols, squeeze, prefix, mangle_dupe_cols, dtype, engine, converters, true_values, false_values, skipinitialspace, skiprows, skipfooter, nrows, na_values, keep_default_na, na_filter, verbose, skip_blank_lines, parse_dates, infer_datetime_format, keep_date_col, date_parser, dayfirst, cache_dates, iterator, chunksize, compression, thousands, decimal, lineterminator, quotechar, quoting, doublequote, escapechar, comment, encoding, encoding_errors, dialect, error_bad_lines, warn_bad_lines, on_bad_lines, delim_whitespace, low_memory, memory_map, float_precision, storage_options)\u001b[0m\n\u001b[1;32m    678\u001b[0m     \u001b[0mkwds\u001b[0m\u001b[0;34m.\u001b[0m\u001b[0mupdate\u001b[0m\u001b[0;34m(\u001b[0m\u001b[0mkwds_defaults\u001b[0m\u001b[0;34m)\u001b[0m\u001b[0;34m\u001b[0m\u001b[0;34m\u001b[0m\u001b[0m\n\u001b[1;32m    679\u001b[0m \u001b[0;34m\u001b[0m\u001b[0m\n\u001b[0;32m--> 680\u001b[0;31m     \u001b[0;32mreturn\u001b[0m \u001b[0m_read\u001b[0m\u001b[0;34m(\u001b[0m\u001b[0mfilepath_or_buffer\u001b[0m\u001b[0;34m,\u001b[0m \u001b[0mkwds\u001b[0m\u001b[0;34m)\u001b[0m\u001b[0;34m\u001b[0m\u001b[0;34m\u001b[0m\u001b[0m\n\u001b[0m\u001b[1;32m    681\u001b[0m \u001b[0;34m\u001b[0m\u001b[0m\n\u001b[1;32m    682\u001b[0m \u001b[0;34m\u001b[0m\u001b[0m\n",
      "\u001b[0;32m/opt/homebrew/Caskroom/miniconda/base/envs/ironhack_2/lib/python3.8/site-packages/pandas/io/parsers/readers.py\u001b[0m in \u001b[0;36m_read\u001b[0;34m(filepath_or_buffer, kwds)\u001b[0m\n\u001b[1;32m    573\u001b[0m \u001b[0;34m\u001b[0m\u001b[0m\n\u001b[1;32m    574\u001b[0m     \u001b[0;31m# Create the parser.\u001b[0m\u001b[0;34m\u001b[0m\u001b[0;34m\u001b[0m\u001b[0;34m\u001b[0m\u001b[0m\n\u001b[0;32m--> 575\u001b[0;31m     \u001b[0mparser\u001b[0m \u001b[0;34m=\u001b[0m \u001b[0mTextFileReader\u001b[0m\u001b[0;34m(\u001b[0m\u001b[0mfilepath_or_buffer\u001b[0m\u001b[0;34m,\u001b[0m \u001b[0;34m**\u001b[0m\u001b[0mkwds\u001b[0m\u001b[0;34m)\u001b[0m\u001b[0;34m\u001b[0m\u001b[0;34m\u001b[0m\u001b[0m\n\u001b[0m\u001b[1;32m    576\u001b[0m \u001b[0;34m\u001b[0m\u001b[0m\n\u001b[1;32m    577\u001b[0m     \u001b[0;32mif\u001b[0m \u001b[0mchunksize\u001b[0m \u001b[0;32mor\u001b[0m \u001b[0miterator\u001b[0m\u001b[0;34m:\u001b[0m\u001b[0;34m\u001b[0m\u001b[0;34m\u001b[0m\u001b[0m\n",
      "\u001b[0;32m/opt/homebrew/Caskroom/miniconda/base/envs/ironhack_2/lib/python3.8/site-packages/pandas/io/parsers/readers.py\u001b[0m in \u001b[0;36m__init__\u001b[0;34m(self, f, engine, **kwds)\u001b[0m\n\u001b[1;32m    931\u001b[0m \u001b[0;34m\u001b[0m\u001b[0m\n\u001b[1;32m    932\u001b[0m         \u001b[0mself\u001b[0m\u001b[0;34m.\u001b[0m\u001b[0mhandles\u001b[0m\u001b[0;34m:\u001b[0m \u001b[0mIOHandles\u001b[0m \u001b[0;34m|\u001b[0m \u001b[0;32mNone\u001b[0m \u001b[0;34m=\u001b[0m \u001b[0;32mNone\u001b[0m\u001b[0;34m\u001b[0m\u001b[0;34m\u001b[0m\u001b[0m\n\u001b[0;32m--> 933\u001b[0;31m         \u001b[0mself\u001b[0m\u001b[0;34m.\u001b[0m\u001b[0m_engine\u001b[0m \u001b[0;34m=\u001b[0m \u001b[0mself\u001b[0m\u001b[0;34m.\u001b[0m\u001b[0m_make_engine\u001b[0m\u001b[0;34m(\u001b[0m\u001b[0mf\u001b[0m\u001b[0;34m,\u001b[0m \u001b[0mself\u001b[0m\u001b[0;34m.\u001b[0m\u001b[0mengine\u001b[0m\u001b[0;34m)\u001b[0m\u001b[0;34m\u001b[0m\u001b[0;34m\u001b[0m\u001b[0m\n\u001b[0m\u001b[1;32m    934\u001b[0m \u001b[0;34m\u001b[0m\u001b[0m\n\u001b[1;32m    935\u001b[0m     \u001b[0;32mdef\u001b[0m \u001b[0mclose\u001b[0m\u001b[0;34m(\u001b[0m\u001b[0mself\u001b[0m\u001b[0;34m)\u001b[0m\u001b[0;34m:\u001b[0m\u001b[0;34m\u001b[0m\u001b[0;34m\u001b[0m\u001b[0m\n",
      "\u001b[0;32m/opt/homebrew/Caskroom/miniconda/base/envs/ironhack_2/lib/python3.8/site-packages/pandas/io/parsers/readers.py\u001b[0m in \u001b[0;36m_make_engine\u001b[0;34m(self, f, engine)\u001b[0m\n\u001b[1;32m   1215\u001b[0m             \u001b[0;31m# \"Union[str, PathLike[str], ReadCsvBuffer[bytes], ReadCsvBuffer[str]]\"\u001b[0m\u001b[0;34m\u001b[0m\u001b[0;34m\u001b[0m\u001b[0;34m\u001b[0m\u001b[0m\n\u001b[1;32m   1216\u001b[0m             \u001b[0;31m# , \"str\", \"bool\", \"Any\", \"Any\", \"Any\", \"Any\", \"Any\"\u001b[0m\u001b[0;34m\u001b[0m\u001b[0;34m\u001b[0m\u001b[0;34m\u001b[0m\u001b[0m\n\u001b[0;32m-> 1217\u001b[0;31m             self.handles = get_handle(  # type: ignore[call-overload]\n\u001b[0m\u001b[1;32m   1218\u001b[0m                 \u001b[0mf\u001b[0m\u001b[0;34m,\u001b[0m\u001b[0;34m\u001b[0m\u001b[0;34m\u001b[0m\u001b[0m\n\u001b[1;32m   1219\u001b[0m                 \u001b[0mmode\u001b[0m\u001b[0;34m,\u001b[0m\u001b[0;34m\u001b[0m\u001b[0;34m\u001b[0m\u001b[0m\n",
      "\u001b[0;32m/opt/homebrew/Caskroom/miniconda/base/envs/ironhack_2/lib/python3.8/site-packages/pandas/io/common.py\u001b[0m in \u001b[0;36mget_handle\u001b[0;34m(path_or_buf, mode, encoding, compression, memory_map, is_text, errors, storage_options)\u001b[0m\n\u001b[1;32m    787\u001b[0m         \u001b[0;32mif\u001b[0m \u001b[0mioargs\u001b[0m\u001b[0;34m.\u001b[0m\u001b[0mencoding\u001b[0m \u001b[0;32mand\u001b[0m \u001b[0;34m\"b\"\u001b[0m \u001b[0;32mnot\u001b[0m \u001b[0;32min\u001b[0m \u001b[0mioargs\u001b[0m\u001b[0;34m.\u001b[0m\u001b[0mmode\u001b[0m\u001b[0;34m:\u001b[0m\u001b[0;34m\u001b[0m\u001b[0;34m\u001b[0m\u001b[0m\n\u001b[1;32m    788\u001b[0m             \u001b[0;31m# Encoding\u001b[0m\u001b[0;34m\u001b[0m\u001b[0;34m\u001b[0m\u001b[0;34m\u001b[0m\u001b[0m\n\u001b[0;32m--> 789\u001b[0;31m             handle = open(\n\u001b[0m\u001b[1;32m    790\u001b[0m                 \u001b[0mhandle\u001b[0m\u001b[0;34m,\u001b[0m\u001b[0;34m\u001b[0m\u001b[0;34m\u001b[0m\u001b[0m\n\u001b[1;32m    791\u001b[0m                 \u001b[0mioargs\u001b[0m\u001b[0;34m.\u001b[0m\u001b[0mmode\u001b[0m\u001b[0;34m,\u001b[0m\u001b[0;34m\u001b[0m\u001b[0;34m\u001b[0m\u001b[0m\n",
      "\u001b[0;31mFileNotFoundError\u001b[0m: [Errno 2] No such file or directory: 'data/train.csv'"
     ]
    }
   ],
   "source": [
    "df_train = pd.read_csv('data/train.csv')"
   ]
  },
  {
   "cell_type": "code",
   "execution_count": null,
   "id": "32d8d0e8",
   "metadata": {},
   "outputs": [],
   "source": [
    "df_TN = df_train._get_numeric_data()"
   ]
  },
  {
   "cell_type": "code",
   "execution_count": null,
   "id": "e94c2480",
   "metadata": {},
   "outputs": [],
   "source": [
    "trash_d(df_TN)\n"
   ]
  },
  {
   "cell_type": "code",
   "execution_count": null,
   "id": "1e390cdb",
   "metadata": {
    "scrolled": true
   },
   "outputs": [],
   "source": [
    "delete_nan(df_TN)\n"
   ]
  },
  {
   "cell_type": "code",
   "execution_count": null,
   "id": "e77abb74",
   "metadata": {},
   "outputs": [],
   "source": [
    "bin_corr_col(df_TN)"
   ]
  },
  {
   "cell_type": "code",
   "execution_count": null,
   "id": "81c36a63",
   "metadata": {},
   "outputs": [],
   "source": [
    "# ELIMNAR COLUMNAS CON Nan, no tener miedo a eliminarlas!\n",
    "df_TN.fillna(0, axis=0, inplace=True)\n"
   ]
  },
  {
   "cell_type": "markdown",
   "id": "410d65f7",
   "metadata": {},
   "source": [
    "### Add Bathroom numeric column "
   ]
  },
  {
   "cell_type": "code",
   "execution_count": null,
   "id": "a83f4f56",
   "metadata": {},
   "outputs": [],
   "source": []
  },
  {
   "cell_type": "code",
   "execution_count": null,
   "id": "87d02af2",
   "metadata": {},
   "outputs": [],
   "source": [
    "df_TN['bathrooms']= df_train.bathrooms_text.apply(limpieza_ba)"
   ]
  },
  {
   "cell_type": "code",
   "execution_count": null,
   "id": "170fa1d6",
   "metadata": {
    "scrolled": true
   },
   "outputs": [],
   "source": [
    "df_TN.columns"
   ]
  },
  {
   "cell_type": "code",
   "execution_count": null,
   "id": "64f78c68",
   "metadata": {},
   "outputs": [],
   "source": [
    "### All this columns a have a variance ratio very far from one, i will delet them, and add, the bathroom column\n",
    "columns_1 = ['beds','minimum_maximum_nights',\n",
    "       'maximum_maximum_nights', 'availability_30', 'availability_365',\n",
    "       'number_of_reviews', 'number_of_reviews_ltm', 'number_of_reviews_l30d','review_scores_accuracy',\n",
    "       'review_scores_cleanliness', 'review_scores_checkin',\n",
    "       'review_scores_communication', 'review_scores_location',\n",
    "       'review_scores_value', 'calculated_host_listings_count',\n",
    "       'calculated_host_listings_count_entire_homes',\n",
    "       'calculated_host_listings_count_private_rooms',\n",
    "       'calculated_host_listings_count_shared_rooms', 'reviews_per_month']"
   ]
  },
  {
   "cell_type": "code",
   "execution_count": null,
   "id": "0b469602",
   "metadata": {},
   "outputs": [],
   "source": [
    "df_TN.drop(columns_1, axis=1, inplace=True)"
   ]
  },
  {
   "cell_type": "code",
   "execution_count": null,
   "id": "2bf1db1b",
   "metadata": {
    "scrolled": true
   },
   "outputs": [],
   "source": [
    "corr_matrix = df_TN.corr().abs()# Create correlation matrix\n",
    "upper = corr_matrix.where(np.triu(np.ones(corr_matrix.shape), k=1).astype(bool)) # Select upper triangle of correlation matrix\n",
    "to_drop = [column for column in upper.columns if any(upper[column] > 0.80)]# Find features with correlation greater than 0.90\n",
    "to_drop\n",
    "    #return x.drop(to_drop, axis=1, inplace=True)"
   ]
  },
  {
   "cell_type": "markdown",
   "id": "5ec8f0b7",
   "metadata": {},
   "source": [
    "### Have a look to the correlation of the columns;"
   ]
  },
  {
   "cell_type": "code",
   "execution_count": null,
   "id": "8771b5e1",
   "metadata": {},
   "outputs": [],
   "source": [
    "sns.heatmap(df_TN.corr());"
   ]
  },
  {
   "cell_type": "code",
   "execution_count": null,
   "id": "a9de65a0",
   "metadata": {},
   "outputs": [],
   "source": [
    "# x.drop(to_drop, axis=1, inplace=True)"
   ]
  },
  {
   "cell_type": "code",
   "execution_count": null,
   "id": "7fd25caf",
   "metadata": {},
   "outputs": [],
   "source": [
    "df_TN.head()"
   ]
  },
  {
   "cell_type": "code",
   "execution_count": null,
   "id": "3ad4292e",
   "metadata": {},
   "outputs": [],
   "source": [
    "df_TN.shape"
   ]
  },
  {
   "cell_type": "code",
   "execution_count": null,
   "id": "c7e36f4e",
   "metadata": {},
   "outputs": [],
   "source": [
    "#df_TN.drop(columns_1, axis=1, inplace=True)"
   ]
  },
  {
   "cell_type": "markdown",
   "id": "bb389560",
   "metadata": {},
   "source": [
    "### PCA "
   ]
  },
  {
   "cell_type": "code",
   "execution_count": null,
   "id": "d0a582de",
   "metadata": {},
   "outputs": [],
   "source": [
    "pca=PCA()\n",
    "\n",
    "pca.fit(df_TN)"
   ]
  },
  {
   "cell_type": "code",
   "execution_count": null,
   "id": "e396c356",
   "metadata": {},
   "outputs": [],
   "source": [
    "pca.explained_variance_ratio_ # Mas cercano a cero\n",
    "# "
   ]
  },
  {
   "cell_type": "code",
   "execution_count": null,
   "id": "a0e0c9b1",
   "metadata": {},
   "outputs": [],
   "source": [
    "sum(pca.explained_variance_ratio_)"
   ]
  },
  {
   "cell_type": "code",
   "execution_count": null,
   "id": "90cffb7b",
   "metadata": {
    "scrolled": true
   },
   "outputs": [],
   "source": [
    "df_TN.shape"
   ]
  },
  {
   "cell_type": "code",
   "execution_count": null,
   "id": "56369900",
   "metadata": {},
   "outputs": [],
   "source": [
    "#sns.heatmap(df_TN.corr())"
   ]
  },
  {
   "cell_type": "code",
   "execution_count": null,
   "id": "46e37a89",
   "metadata": {
    "scrolled": true
   },
   "outputs": [],
   "source": [
    "df_TN.shape"
   ]
  },
  {
   "cell_type": "code",
   "execution_count": null,
   "id": "0c8c5af1",
   "metadata": {},
   "outputs": [],
   "source": []
  },
  {
   "cell_type": "code",
   "execution_count": null,
   "id": "038f8d1d",
   "metadata": {},
   "outputs": [],
   "source": [
    "X=df_TN.drop('price', axis=1)\n",
    "y=df_TN.price"
   ]
  },
  {
   "cell_type": "code",
   "execution_count": null,
   "id": "04dd1475",
   "metadata": {},
   "outputs": [],
   "source": [
    "X_train, X_test, y_train, y_test = tts(X, y, test_size=0.9, random_state=42)"
   ]
  },
  {
   "cell_type": "markdown",
   "id": "1f6296f9",
   "metadata": {},
   "source": [
    "### Definicion y activcion del modelo:"
   ]
  },
  {
   "cell_type": "code",
   "execution_count": null,
   "id": "fe3618f3",
   "metadata": {
    "scrolled": true
   },
   "outputs": [],
   "source": [
    "\n",
    "import warnings                                             # avisos\n",
    "warnings.filterwarnings('ignore', category=RuntimeWarning)"
   ]
  },
  {
   "cell_type": "code",
   "execution_count": null,
   "id": "4df3a1a3",
   "metadata": {
    "scrolled": false
   },
   "outputs": [],
   "source": [
    "modelo=RFR()\n",
    "\n",
    "modelo.fit(X_train, y_train)"
   ]
  },
  {
   "cell_type": "markdown",
   "id": "6678d8c6",
   "metadata": {},
   "source": [
    "### R2"
   ]
  },
  {
   "cell_type": "code",
   "execution_count": null,
   "id": "d14b54ec",
   "metadata": {},
   "outputs": [],
   "source": [
    "modelo.score(X_test, y_test)# R2 cuanto mas cercano a 1 mejor "
   ]
  },
  {
   "cell_type": "code",
   "execution_count": null,
   "id": "5d790622",
   "metadata": {},
   "outputs": [],
   "source": [
    "y_pred=modelo.predict(X_test)"
   ]
  },
  {
   "cell_type": "markdown",
   "id": "111d169b",
   "metadata": {},
   "source": [
    "### MSE (ERROR CUADRATICO MEDIO) 1 No confiar & 0.85746 Muy bien & 0.24343445 Regular"
   ]
  },
  {
   "cell_type": "code",
   "execution_count": null,
   "id": "eddf6ba6",
   "metadata": {},
   "outputs": [],
   "source": []
  },
  {
   "cell_type": "code",
   "execution_count": null,
   "id": "78117230",
   "metadata": {},
   "outputs": [],
   "source": [
    "mse(y_pred, y_test, squared=False)"
   ]
  },
  {
   "cell_type": "markdown",
   "id": "9a38bc70",
   "metadata": {},
   "source": [
    "### 2. Test CSV:"
   ]
  },
  {
   "cell_type": "markdown",
   "id": "104b0f30",
   "metadata": {},
   "source": [
    "**Import Test Data**"
   ]
  },
  {
   "cell_type": "code",
   "execution_count": null,
   "id": "610c78c0",
   "metadata": {},
   "outputs": [],
   "source": [
    "new_data=pd.read_csv('data/test.csv')\n",
    "new_data.shape"
   ]
  },
  {
   "cell_type": "code",
   "execution_count": null,
   "id": "a7c5d97a",
   "metadata": {},
   "outputs": [],
   "source": [
    "df_test = new_data._get_numeric_data()"
   ]
  },
  {
   "cell_type": "code",
   "execution_count": null,
   "id": "cc74ce38",
   "metadata": {
    "scrolled": true
   },
   "outputs": [],
   "source": [
    "delete_nan(df_test)\n",
    "df_test.shape"
   ]
  },
  {
   "cell_type": "code",
   "execution_count": null,
   "id": "030b3bc1",
   "metadata": {},
   "outputs": [],
   "source": [
    "trash_d(df_test)\n"
   ]
  },
  {
   "cell_type": "code",
   "execution_count": null,
   "id": "29a2e32d",
   "metadata": {},
   "outputs": [],
   "source": [
    "bin_corr_col(df_test)"
   ]
  },
  {
   "cell_type": "code",
   "execution_count": null,
   "id": "3ddac8cc",
   "metadata": {
    "scrolled": true
   },
   "outputs": [],
   "source": [
    "df_test.shape"
   ]
  },
  {
   "cell_type": "code",
   "execution_count": null,
   "id": "79bc5b02",
   "metadata": {},
   "outputs": [],
   "source": [
    "df_test['bathrooms']= new_data.bathrooms_text.apply(limpieza_ba)"
   ]
  },
  {
   "cell_type": "code",
   "execution_count": null,
   "id": "a0bd2cac",
   "metadata": {},
   "outputs": [],
   "source": [
    "df_test.isna().sum()"
   ]
  },
  {
   "cell_type": "markdown",
   "id": "a821e6a5",
   "metadata": {},
   "source": [
    "#### Hacer Fillna with mean... try"
   ]
  },
  {
   "cell_type": "code",
   "execution_count": null,
   "id": "0edf1c20",
   "metadata": {},
   "outputs": [],
   "source": [
    "df_test.drop(columns_1, axis=1, inplace=True)"
   ]
  },
  {
   "cell_type": "code",
   "execution_count": null,
   "id": "d4f8b48c",
   "metadata": {
    "scrolled": false
   },
   "outputs": [],
   "source": [
    "def fill_nan(df):\n",
    "    \n",
    "    for i in df.columns:\n",
    "        \n",
    "        df.fillna(df[i].mean(), axis=0, inplace=True)\n",
    "\n",
    "    print(df_test.isna().sum())"
   ]
  },
  {
   "cell_type": "code",
   "execution_count": null,
   "id": "651a5b1e",
   "metadata": {},
   "outputs": [],
   "source": [
    "fill_nan(df_test)"
   ]
  },
  {
   "cell_type": "code",
   "execution_count": null,
   "id": "393613d7",
   "metadata": {
    "scrolled": true
   },
   "outputs": [],
   "source": [
    "corr_matrix = df_test.corr().abs()# Create correlation matrix\n",
    "upper = corr_matrix.where(np.triu(np.ones(corr_matrix.shape), k=1).astype(bool)) # Select upper triangle of correlation matrix\n",
    "to_drop = [column for column in upper.columns if any(upper[column] > 0.80)]# Find features with correlation greater than 0.90\n",
    "to_drop\n",
    "    #return x.drop(to_drop, axis=1, inplace=True)"
   ]
  },
  {
   "cell_type": "markdown",
   "id": "b7614f39",
   "metadata": {},
   "source": [
    "### Have a look to the correlation of the columns;"
   ]
  },
  {
   "cell_type": "code",
   "execution_count": null,
   "id": "89596f90",
   "metadata": {},
   "outputs": [],
   "source": [
    "\n",
    "sns.heatmap(df_test.corr());"
   ]
  },
  {
   "cell_type": "code",
   "execution_count": null,
   "id": "f47ef09d",
   "metadata": {},
   "outputs": [],
   "source": [
    "df_test.shape,df_TN.shape"
   ]
  },
  {
   "cell_type": "markdown",
   "id": "26451508",
   "metadata": {},
   "source": [
    "### Eliminamos columns"
   ]
  },
  {
   "cell_type": "code",
   "execution_count": null,
   "id": "9d030910",
   "metadata": {},
   "outputs": [],
   "source": [
    "#df_test.drop(columns_1, axis=1, inplace=True)"
   ]
  },
  {
   "cell_type": "markdown",
   "id": "f427703e",
   "metadata": {},
   "source": [
    "### 3. Model Testing in Test Data"
   ]
  },
  {
   "cell_type": "markdown",
   "id": "53b3c88e",
   "metadata": {},
   "source": [
    "**Using RFR on Test Data**"
   ]
  },
  {
   "cell_type": "code",
   "execution_count": null,
   "id": "0c380d29",
   "metadata": {},
   "outputs": [],
   "source": [
    "y_pred=modelo.predict(df_test)"
   ]
  },
  {
   "cell_type": "code",
   "execution_count": null,
   "id": "a3223580",
   "metadata": {
    "scrolled": true
   },
   "outputs": [],
   "source": [
    "y_pred.shape"
   ]
  },
  {
   "cell_type": "code",
   "execution_count": null,
   "id": "927107c0",
   "metadata": {},
   "outputs": [],
   "source": []
  },
  {
   "cell_type": "code",
   "execution_count": null,
   "id": "9cc17fc9",
   "metadata": {},
   "outputs": [],
   "source": [
    "f\"Train : {modelo.score(X_train, y_train)} Test: {modelo.score(X_test, y_test)}\"\n",
    "\n"
   ]
  },
  {
   "cell_type": "code",
   "execution_count": null,
   "id": "b3092dec",
   "metadata": {},
   "outputs": [],
   "source": [
    "sample_df=pd.DataFrame()\n",
    "\n",
    "\n",
    "sample_df['id']=[str(i) for i in range(len(y_pred))]\n",
    "sample_df['price']=y_pred\n",
    "\n",
    "sample_df.shape"
   ]
  },
  {
   "cell_type": "code",
   "execution_count": null,
   "id": "98d36a32",
   "metadata": {
    "scrolled": true
   },
   "outputs": [],
   "source": [
    "sample_df.head()"
   ]
  },
  {
   "cell_type": "code",
   "execution_count": null,
   "id": "189bbf9a",
   "metadata": {},
   "outputs": [],
   "source": [
    "#sample_df.to_csv('data/sample_df.csv',index=False)"
   ]
  },
  {
   "cell_type": "code",
   "execution_count": null,
   "id": "3fb725c0",
   "metadata": {},
   "outputs": [],
   "source": []
  },
  {
   "cell_type": "code",
   "execution_count": null,
   "id": "e97d037d",
   "metadata": {},
   "outputs": [],
   "source": [
    "def prueba_modelo(modelo):\n",
    "\n",
    "    modelo.fit(X_train, y_train)\n",
    "\n",
    "    y_pred=modelo.predict(X_test)\n",
    "\n",
    "    train_score=modelo.score(X_train, y_train)  \n",
    "    test_score=modelo.score(X_test, y_test)\n",
    "    \n",
    "    print(modelo)\n",
    "    print('Train:', train_score)\n",
    "    print('Test:', test_score) \n",
    "    print('\\n')\n"
   ]
  },
  {
   "cell_type": "code",
   "execution_count": null,
   "id": "12950997",
   "metadata": {},
   "outputs": [],
   "source": [
    "modelos=[LinReg(), Lasso(), ElasticNet(), SVR(),RFR()]\n",
    "\n",
    "for m in modelos:\n",
    "    prueba_modelo(m)"
   ]
  },
  {
   "cell_type": "code",
   "execution_count": null,
   "id": "0b46d1fe",
   "metadata": {},
   "outputs": [],
   "source": [
    "modelos=[LinReg(), Lasso(), ElasticNet(), SVR(),RFR()]\n",
    "dict_fit = {}\n",
    "for k,v in enumerate(modelos):\n",
    "    dict_fit[k]=prueba_modelo(v)"
   ]
  },
  {
   "cell_type": "code",
   "execution_count": null,
   "id": "14699919",
   "metadata": {},
   "outputs": [],
   "source": [
    "dict_fit"
   ]
  },
  {
   "cell_type": "code",
   "execution_count": null,
   "id": "a22bdadc",
   "metadata": {},
   "outputs": [],
   "source": []
  }
 ],
 "metadata": {
  "kernelspec": {
   "display_name": "Python3 (ironhack_2)",
   "language": "python",
   "name": "condaenv"
  },
  "language_info": {
   "codemirror_mode": {
    "name": "ipython",
    "version": 3
   },
   "file_extension": ".py",
   "mimetype": "text/x-python",
   "name": "python",
   "nbconvert_exporter": "python",
   "pygments_lexer": "ipython3",
   "version": "3.8.11"
  }
 },
 "nbformat": 4,
 "nbformat_minor": 5
}
