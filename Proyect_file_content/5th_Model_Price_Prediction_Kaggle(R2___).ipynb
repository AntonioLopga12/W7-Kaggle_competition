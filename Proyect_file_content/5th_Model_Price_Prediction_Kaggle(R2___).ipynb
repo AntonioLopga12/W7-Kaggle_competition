{
 "cells": [
  {
   "cell_type": "code",
   "execution_count": 1,
   "id": "0c88d3387ace44e5a1cad10d8593be07",
   "metadata": {},
   "outputs": [],
   "source": [
    "import time                                                 # para tiempo\n",
    "inicio=time.time()                                          # momento inicial\n",
    "\n",
    "import pandas as pd                                         # dataframe\n",
    "import numpy as np                                          # numerical python, algebra lineal\n",
    "pd.set_option('display.max_columns', None)\n",
    "import matplotlib.pyplot as plt                             # plots, graficos\n",
    "import seaborn as sns                                       # plots\n",
    "\n",
    "import warnings                                             # avisos\n",
    "warnings.filterwarnings('ignore', category=RuntimeWarning)"
   ]
  },
  {
   "cell_type": "code",
   "execution_count": 2,
   "id": "58b3f4ac7d884ba8b9bb3d8280774412",
   "metadata": {},
   "outputs": [],
   "source": [
    "from sklearn.model_selection import train_test_split as tts\n",
    "from sklearn.metrics import mean_squared_error as mse\n",
    "from sklearn.datasets import make_classification\n",
    "from sklearn.model_selection import train_test_split"
   ]
  },
  {
   "cell_type": "code",
   "execution_count": 3,
   "id": "aff03b39e9aa494ab72395d339689f65",
   "metadata": {},
   "outputs": [],
   "source": [
    "from sklearn.linear_model import LinearRegression as LinReg\n",
    "from sklearn.linear_model import SGDClassifier as SGDC\n",
    "from sklearn.linear_model import Lasso"
   ]
  },
  {
   "cell_type": "code",
   "execution_count": 4,
   "id": "f86884e4383d4f03bed96a2253e8e1a9",
   "metadata": {},
   "outputs": [],
   "source": [
    "from sklearn.naive_bayes import GaussianNB as GNB\n",
    "from sklearn.naive_bayes import MultinomialNB as MNB\n",
    "from sklearn.naive_bayes import ComplementNB as CNB"
   ]
  },
  {
   "cell_type": "code",
   "execution_count": 5,
   "id": "3ad2d757d5fa4080a95ac37642fa5590",
   "metadata": {},
   "outputs": [],
   "source": [
    "from sklearn.ensemble import RandomForestClassifier\n",
    "from sklearn.ensemble import RandomForestRegressor as RFR"
   ]
  },
  {
   "cell_type": "markdown",
   "id": "1763995882e841a2be676740eb416b38",
   "metadata": {},
   "source": [
    "**Funciones**\n"
   ]
  },
  {
   "cell_type": "code",
   "execution_count": 6,
   "id": "1d2707acd5c347ed835f3455d6805549",
   "metadata": {},
   "outputs": [],
   "source": [
    "def trash_d(df):\n",
    "    df_col = df.columns\n",
    "    trash = []\n",
    "    for i in df_col:\n",
    "        if 'url' in i:\n",
    "\n",
    "            trash.append(i)\n",
    "        elif 'id' in i:\n",
    "\n",
    "            trash.append(i)\n",
    "        elif 'name' in i:\n",
    "\n",
    "            trash.append(i)\n",
    "        elif 'scrape' in i:\n",
    "\n",
    "            trash.append(i)\n",
    "        elif 'license' in i: #is it relevant??\n",
    "\n",
    "            trash.append(i)\n",
    "        elif 'latitude' in i:\n",
    "\n",
    "            trash.append(i)\n",
    "        elif 'longitude' in i:\n",
    "\n",
    "            trash.append(i)\n",
    "\n",
    "    print(trash)\n",
    "    return df.drop(trash,axis=1,inplace=True)"
   ]
  },
  {
   "cell_type": "code",
   "execution_count": 7,
   "id": "1369c605aee1455c9b1cdc1e4826d76c",
   "metadata": {},
   "outputs": [],
   "source": [
    "def delete_nan(df):\n",
    "    data_1 = df.loc[:, df.isnull().mean() >= .5]\n",
    "    print(data_1.columns)\n",
    "    return df.drop(data_1,axis=1,inplace=True)"
   ]
  },
  {
   "cell_type": "code",
   "execution_count": 8,
   "id": "ad32b429d9a64169a59f1f349c09d7c7",
   "metadata": {},
   "outputs": [],
   "source": [
    "def bin_corr_col(x):\n",
    "                                        \n",
    "    corr_matrix = x.corr().abs()# Create correlation matrix\n",
    "                                        \n",
    "    upper = corr_matrix.where(np.triu(np.ones(corr_matrix.shape), k=1).astype(bool)) # Select upper triangle of correlation matrix\n",
    "    \n",
    "    to_drop = [column for column in upper.columns if any(upper[column] > 0.90)]# Find features with correlation greater than 0.90\n",
    "    print(to_drop)\n",
    "\n",
    "    return x.drop(to_drop, axis=1, inplace=True) # Drop features"
   ]
  },
  {
   "cell_type": "code",
   "execution_count": 9,
   "id": "ec56d0995bfb40acb07975414ae60d04",
   "metadata": {},
   "outputs": [],
   "source": [
    "def fill_nan(df):\n",
    "    \n",
    "    for i in df.columns:\n",
    "        \n",
    "        df.fillna(0, inplace=True)\n",
    "     #round(df[i].mean(),3)\n",
    "\n",
    "    print(df.isna().sum().sample(5))\n",
    "    print('Sample of 5 random columns')"
   ]
  },
  {
   "cell_type": "code",
   "execution_count": 10,
   "id": "2c01187022c349e9841a5cc9c969aaca",
   "metadata": {},
   "outputs": [],
   "source": [
    "import re\n",
    "\n",
    "patron='[0-9]+'\n",
    "\n",
    "def limpieza_ba(x):\n",
    "    n_ba=0\n",
    "    \n",
    "    try:\n",
    "        n_ba=int(re.findall(patron, x)[0])\n",
    "    except:\n",
    "        n_ba=0\n",
    "        \n",
    "    return n_ba"
   ]
  },
  {
   "cell_type": "code",
   "execution_count": 11,
   "id": "13b74d53f60342e18fb28b16547ecf67",
   "metadata": {},
   "outputs": [],
   "source": [
    "def prueba_modelo(modelo):\n",
    "\n",
    "    modelo.fit(X_train, y_train)\n",
    "\n",
    "    y_pred=modelo.predict(X_test)\n",
    "\n",
    "    train_score=modelo.score(X_train, y_train)  \n",
    "    test_score=modelo.score(X_test, y_test)\n",
    "    \n",
    "    print(modelo)\n",
    "    print('Train:', train_score)\n",
    "    print('Test:', test_score) \n",
    "    print('\\n')"
   ]
  },
  {
   "cell_type": "code",
   "execution_count": 12,
   "id": "78f3f87806344696a410f80536f46911",
   "metadata": {},
   "outputs": [],
   "source": [
    "def review_scores(df):\n",
    "    df_NAN_1 = df.copy()\n",
    "    df_NAN_2=df_NAN_1[['review_scores_rating','review_scores_checkin','review_scores_location']]\n",
    "    df_NAN_3 = df_NAN_2.apply(fill_nan)\n",
    "    df.assign(RER=df_NAN_3.review_scores_rating.values,\n",
    "              RSC=df_NAN_3.review_scores_checkin.values,\n",
    "              RSL=df_NAN_3.review_scores_location.values)\n",
    "    \n",
    "    "
   ]
  },
  {
   "cell_type": "markdown",
   "id": "b6d2267e832d40b6976615ae47ebd826",
   "metadata": {},
   "source": [
    "## 1. Train CSV & Test CSV treatment:\n"
   ]
  },
  {
   "cell_type": "markdown",
   "id": "3036611a",
   "metadata": {},
   "source": [
    "**1.1. Import data:**"
   ]
  },
  {
   "cell_type": "markdown",
   "id": "fcb820b7",
   "metadata": {},
   "source": [
    "**Train CSV**"
   ]
  },
  {
   "cell_type": "code",
   "execution_count": 13,
   "id": "d2565f945903460da3a0614dc69d78c6",
   "metadata": {},
   "outputs": [],
   "source": [
    "df_train = pd.read_csv('data/train.csv')"
   ]
  },
  {
   "cell_type": "markdown",
   "id": "f3d2d414afb74571981e11868242238a",
   "metadata": {},
   "source": [
    "**Test CSV**"
   ]
  },
  {
   "cell_type": "code",
   "execution_count": 14,
   "id": "7e7e35ddcd534faf998c97bd6412cc6e",
   "metadata": {},
   "outputs": [],
   "source": [
    "df_ts=pd.read_csv('data/test.csv')"
   ]
  },
  {
   "cell_type": "markdown",
   "id": "c7bb992e",
   "metadata": {},
   "source": [
    "**1.2. Get numeric data:**"
   ]
  },
  {
   "cell_type": "markdown",
   "id": "395aa422",
   "metadata": {},
   "source": [
    "**Train**"
   ]
  },
  {
   "cell_type": "code",
   "execution_count": 15,
   "id": "70e9fba8c2a444a3a131cc0616b3297b",
   "metadata": {},
   "outputs": [],
   "source": [
    "df_TN = df_train._get_numeric_data()"
   ]
  },
  {
   "cell_type": "markdown",
   "id": "1f9116a5",
   "metadata": {},
   "source": [
    "**Test**"
   ]
  },
  {
   "cell_type": "code",
   "execution_count": 16,
   "id": "6dfbc34d7f2c436283fadd500b4344c2",
   "metadata": {},
   "outputs": [],
   "source": [
    "df_test= df_ts._get_numeric_data()"
   ]
  },
  {
   "cell_type": "markdown",
   "id": "ef63b97a",
   "metadata": {},
   "source": [
    "**1.3. Delete non useful columns:**"
   ]
  },
  {
   "cell_type": "markdown",
   "id": "ae9e504c",
   "metadata": {},
   "source": [
    "**Train**"
   ]
  },
  {
   "cell_type": "code",
   "execution_count": 17,
   "id": "dc33d35ce9e44d11bd34c0972524b53a",
   "metadata": {
    "scrolled": true
   },
   "outputs": [
    {
     "name": "stdout",
     "output_type": "stream",
     "text": [
      "['id', 'scrape_id', 'host_id', 'latitude', 'longitude']\n"
     ]
    }
   ],
   "source": [
    "trash_d(df_TN)"
   ]
  },
  {
   "cell_type": "markdown",
   "id": "7bb0ccf0",
   "metadata": {},
   "source": [
    "**Test**"
   ]
  },
  {
   "cell_type": "code",
   "execution_count": 18,
   "id": "436067c55d06465cbc43cc063e359e3c",
   "metadata": {
    "scrolled": false
   },
   "outputs": [
    {
     "name": "stdout",
     "output_type": "stream",
     "text": [
      "['id', 'scrape_id', 'host_id', 'latitude', 'longitude']\n"
     ]
    }
   ],
   "source": [
    "trash_d(df_test)"
   ]
  },
  {
   "cell_type": "markdown",
   "id": "581fd8ac",
   "metadata": {},
   "source": [
    "**1.4. Delete columns with 90% of correlation:**"
   ]
  },
  {
   "cell_type": "markdown",
   "id": "847d1ed5",
   "metadata": {},
   "source": [
    "**Train**"
   ]
  },
  {
   "cell_type": "code",
   "execution_count": 19,
   "id": "05f476d0fd3e48da961a4ec100cfabd2",
   "metadata": {},
   "outputs": [
    {
     "name": "stdout",
     "output_type": "stream",
     "text": [
      "['host_total_listings_count', 'minimum_minimum_nights', 'maximum_minimum_nights', 'minimum_nights_avg_ntm', 'maximum_nights_avg_ntm', 'availability_60', 'availability_90']\n"
     ]
    }
   ],
   "source": [
    "bin_corr_col(df_TN)"
   ]
  },
  {
   "cell_type": "markdown",
   "id": "2b45ab61",
   "metadata": {},
   "source": [
    "**Test**"
   ]
  },
  {
   "cell_type": "code",
   "execution_count": 20,
   "id": "9a8e19c4b10d4390b8881c5583336bd5",
   "metadata": {
    "scrolled": true
   },
   "outputs": [
    {
     "name": "stdout",
     "output_type": "stream",
     "text": [
      "['host_total_listings_count', 'minimum_minimum_nights', 'maximum_minimum_nights', 'minimum_nights_avg_ntm', 'maximum_nights_avg_ntm', 'availability_60', 'availability_90']\n",
      "(1389, 28)\n"
     ]
    }
   ],
   "source": [
    "bin_corr_col(df_test)\n",
    "print(df_test.shape)"
   ]
  },
  {
   "cell_type": "markdown",
   "id": "d7807e93",
   "metadata": {},
   "source": [
    "**1.5. Fill 'Nan' values with 0 in all columns:**"
   ]
  },
  {
   "cell_type": "markdown",
   "id": "dd01fd5e",
   "metadata": {},
   "source": [
    "**Train**"
   ]
  },
  {
   "cell_type": "code",
   "execution_count": 21,
   "id": "9ebb9032c923416297cb10991d606b70",
   "metadata": {
    "scrolled": false
   },
   "outputs": [
    {
     "name": "stdout",
     "output_type": "stream",
     "text": [
      "price                                           0\n",
      "calculated_host_listings_count_private_rooms    0\n",
      "review_scores_checkin                           0\n",
      "maximum_maximum_nights                          0\n",
      "bedrooms                                        0\n",
      "dtype: int64\n",
      "Sample of 5 random columns\n"
     ]
    }
   ],
   "source": [
    "fill_nan(df_TN)"
   ]
  },
  {
   "cell_type": "markdown",
   "id": "675cc1d4",
   "metadata": {},
   "source": [
    "**Test**"
   ]
  },
  {
   "cell_type": "code",
   "execution_count": 22,
   "id": "98701d3ce0dd4d27944848ad92a30789",
   "metadata": {
    "scrolled": false
   },
   "outputs": [
    {
     "name": "stdout",
     "output_type": "stream",
     "text": [
      "number_of_reviews_ltm     0\n",
      "reviews_per_month         0\n",
      "host_listings_count       0\n",
      "review_scores_location    0\n",
      "availability_365          0\n",
      "dtype: int64\n",
      "Sample of 5 random columns\n",
      "(1389, 28)\n"
     ]
    }
   ],
   "source": [
    "fill_nan(df_test)\n",
    "print(df_test.shape)"
   ]
  },
  {
   "cell_type": "markdown",
   "id": "f55b7f8f",
   "metadata": {},
   "source": [
    "**1.6.** Deletting **Bathrooms** column and adding **Bathrooms_text** column clean (Test_1):\n",
    "\n",
    "**Train**"
   ]
  },
  {
   "cell_type": "code",
   "execution_count": 23,
   "id": "be8a1bfa",
   "metadata": {},
   "outputs": [],
   "source": [
    "\n",
    "df_TN.drop('bathrooms',axis=1,inplace=True)\n",
    "df_TN['bathrooms']= df_train.bathrooms_text.apply(limpieza_ba)"
   ]
  },
  {
   "cell_type": "code",
   "execution_count": 24,
   "id": "d3c38382",
   "metadata": {},
   "outputs": [
    {
     "data": {
      "text/html": [
       "<div>\n",
       "<style scoped>\n",
       "    .dataframe tbody tr th:only-of-type {\n",
       "        vertical-align: middle;\n",
       "    }\n",
       "\n",
       "    .dataframe tbody tr th {\n",
       "        vertical-align: top;\n",
       "    }\n",
       "\n",
       "    .dataframe thead th {\n",
       "        text-align: right;\n",
       "    }\n",
       "</style>\n",
       "<table border=\"1\" class=\"dataframe\">\n",
       "  <thead>\n",
       "    <tr style=\"text-align: right;\">\n",
       "      <th></th>\n",
       "      <th>host_listings_count</th>\n",
       "      <th>neighbourhood_group_cleansed</th>\n",
       "      <th>accommodates</th>\n",
       "      <th>bedrooms</th>\n",
       "      <th>beds</th>\n",
       "      <th>price</th>\n",
       "      <th>minimum_nights</th>\n",
       "      <th>maximum_nights</th>\n",
       "      <th>minimum_maximum_nights</th>\n",
       "      <th>maximum_maximum_nights</th>\n",
       "      <th>calendar_updated</th>\n",
       "      <th>availability_30</th>\n",
       "      <th>availability_365</th>\n",
       "      <th>number_of_reviews</th>\n",
       "      <th>number_of_reviews_ltm</th>\n",
       "      <th>number_of_reviews_l30d</th>\n",
       "      <th>review_scores_rating</th>\n",
       "      <th>review_scores_accuracy</th>\n",
       "      <th>review_scores_cleanliness</th>\n",
       "      <th>review_scores_checkin</th>\n",
       "      <th>review_scores_communication</th>\n",
       "      <th>review_scores_location</th>\n",
       "      <th>review_scores_value</th>\n",
       "      <th>calculated_host_listings_count</th>\n",
       "      <th>calculated_host_listings_count_entire_homes</th>\n",
       "      <th>calculated_host_listings_count_private_rooms</th>\n",
       "      <th>calculated_host_listings_count_shared_rooms</th>\n",
       "      <th>reviews_per_month</th>\n",
       "      <th>bathrooms</th>\n",
       "    </tr>\n",
       "  </thead>\n",
       "  <tbody>\n",
       "    <tr>\n",
       "      <th>0</th>\n",
       "      <td>13</td>\n",
       "      <td>0.0</td>\n",
       "      <td>3</td>\n",
       "      <td>1.0</td>\n",
       "      <td>0.0</td>\n",
       "      <td>87.0</td>\n",
       "      <td>2</td>\n",
       "      <td>1125</td>\n",
       "      <td>1125.0</td>\n",
       "      <td>1125.0</td>\n",
       "      <td>0.0</td>\n",
       "      <td>0</td>\n",
       "      <td>249</td>\n",
       "      <td>81</td>\n",
       "      <td>0</td>\n",
       "      <td>0</td>\n",
       "      <td>4.62</td>\n",
       "      <td>4.56</td>\n",
       "      <td>4.29</td>\n",
       "      <td>4.57</td>\n",
       "      <td>4.75</td>\n",
       "      <td>4.69</td>\n",
       "      <td>4.49</td>\n",
       "      <td>10</td>\n",
       "      <td>0</td>\n",
       "      <td>10</td>\n",
       "      <td>0</td>\n",
       "      <td>0.91</td>\n",
       "      <td>1</td>\n",
       "    </tr>\n",
       "    <tr>\n",
       "      <th>1</th>\n",
       "      <td>0</td>\n",
       "      <td>0.0</td>\n",
       "      <td>4</td>\n",
       "      <td>2.0</td>\n",
       "      <td>2.0</td>\n",
       "      <td>250.0</td>\n",
       "      <td>2</td>\n",
       "      <td>1125</td>\n",
       "      <td>1125.0</td>\n",
       "      <td>1125.0</td>\n",
       "      <td>0.0</td>\n",
       "      <td>3</td>\n",
       "      <td>3</td>\n",
       "      <td>9</td>\n",
       "      <td>4</td>\n",
       "      <td>1</td>\n",
       "      <td>5.00</td>\n",
       "      <td>5.00</td>\n",
       "      <td>5.00</td>\n",
       "      <td>4.89</td>\n",
       "      <td>5.00</td>\n",
       "      <td>5.00</td>\n",
       "      <td>4.89</td>\n",
       "      <td>1</td>\n",
       "      <td>1</td>\n",
       "      <td>0</td>\n",
       "      <td>0</td>\n",
       "      <td>0.40</td>\n",
       "      <td>1</td>\n",
       "    </tr>\n",
       "    <tr>\n",
       "      <th>2</th>\n",
       "      <td>20</td>\n",
       "      <td>0.0</td>\n",
       "      <td>2</td>\n",
       "      <td>1.0</td>\n",
       "      <td>1.0</td>\n",
       "      <td>151.0</td>\n",
       "      <td>1</td>\n",
       "      <td>1125</td>\n",
       "      <td>99.0</td>\n",
       "      <td>99.0</td>\n",
       "      <td>0.0</td>\n",
       "      <td>25</td>\n",
       "      <td>267</td>\n",
       "      <td>47</td>\n",
       "      <td>3</td>\n",
       "      <td>1</td>\n",
       "      <td>4.79</td>\n",
       "      <td>4.83</td>\n",
       "      <td>4.91</td>\n",
       "      <td>4.62</td>\n",
       "      <td>4.87</td>\n",
       "      <td>4.87</td>\n",
       "      <td>4.40</td>\n",
       "      <td>20</td>\n",
       "      <td>4</td>\n",
       "      <td>0</td>\n",
       "      <td>0</td>\n",
       "      <td>1.25</td>\n",
       "      <td>1</td>\n",
       "    </tr>\n",
       "    <tr>\n",
       "      <th>3</th>\n",
       "      <td>1</td>\n",
       "      <td>0.0</td>\n",
       "      <td>2</td>\n",
       "      <td>1.0</td>\n",
       "      <td>1.0</td>\n",
       "      <td>139.0</td>\n",
       "      <td>2</td>\n",
       "      <td>30</td>\n",
       "      <td>1125.0</td>\n",
       "      <td>1125.0</td>\n",
       "      <td>0.0</td>\n",
       "      <td>0</td>\n",
       "      <td>0</td>\n",
       "      <td>10</td>\n",
       "      <td>3</td>\n",
       "      <td>0</td>\n",
       "      <td>5.00</td>\n",
       "      <td>5.00</td>\n",
       "      <td>4.80</td>\n",
       "      <td>5.00</td>\n",
       "      <td>5.00</td>\n",
       "      <td>4.90</td>\n",
       "      <td>4.70</td>\n",
       "      <td>1</td>\n",
       "      <td>1</td>\n",
       "      <td>0</td>\n",
       "      <td>0</td>\n",
       "      <td>0.31</td>\n",
       "      <td>1</td>\n",
       "    </tr>\n",
       "    <tr>\n",
       "      <th>4</th>\n",
       "      <td>1</td>\n",
       "      <td>0.0</td>\n",
       "      <td>2</td>\n",
       "      <td>1.0</td>\n",
       "      <td>2.0</td>\n",
       "      <td>95.0</td>\n",
       "      <td>2</td>\n",
       "      <td>7</td>\n",
       "      <td>7.0</td>\n",
       "      <td>7.0</td>\n",
       "      <td>0.0</td>\n",
       "      <td>18</td>\n",
       "      <td>349</td>\n",
       "      <td>166</td>\n",
       "      <td>1</td>\n",
       "      <td>0</td>\n",
       "      <td>4.67</td>\n",
       "      <td>4.76</td>\n",
       "      <td>4.81</td>\n",
       "      <td>4.95</td>\n",
       "      <td>4.89</td>\n",
       "      <td>4.49</td>\n",
       "      <td>4.57</td>\n",
       "      <td>1</td>\n",
       "      <td>0</td>\n",
       "      <td>1</td>\n",
       "      <td>0</td>\n",
       "      <td>1.78</td>\n",
       "      <td>1</td>\n",
       "    </tr>\n",
       "  </tbody>\n",
       "</table>\n",
       "</div>"
      ],
      "text/plain": [
       "   host_listings_count  neighbourhood_group_cleansed  accommodates  bedrooms  \\\n",
       "0                   13                           0.0             3       1.0   \n",
       "1                    0                           0.0             4       2.0   \n",
       "2                   20                           0.0             2       1.0   \n",
       "3                    1                           0.0             2       1.0   \n",
       "4                    1                           0.0             2       1.0   \n",
       "\n",
       "   beds  price  minimum_nights  maximum_nights  minimum_maximum_nights  \\\n",
       "0   0.0   87.0               2            1125                  1125.0   \n",
       "1   2.0  250.0               2            1125                  1125.0   \n",
       "2   1.0  151.0               1            1125                    99.0   \n",
       "3   1.0  139.0               2              30                  1125.0   \n",
       "4   2.0   95.0               2               7                     7.0   \n",
       "\n",
       "   maximum_maximum_nights  calendar_updated  availability_30  \\\n",
       "0                  1125.0               0.0                0   \n",
       "1                  1125.0               0.0                3   \n",
       "2                    99.0               0.0               25   \n",
       "3                  1125.0               0.0                0   \n",
       "4                     7.0               0.0               18   \n",
       "\n",
       "   availability_365  number_of_reviews  number_of_reviews_ltm  \\\n",
       "0               249                 81                      0   \n",
       "1                 3                  9                      4   \n",
       "2               267                 47                      3   \n",
       "3                 0                 10                      3   \n",
       "4               349                166                      1   \n",
       "\n",
       "   number_of_reviews_l30d  review_scores_rating  review_scores_accuracy  \\\n",
       "0                       0                  4.62                    4.56   \n",
       "1                       1                  5.00                    5.00   \n",
       "2                       1                  4.79                    4.83   \n",
       "3                       0                  5.00                    5.00   \n",
       "4                       0                  4.67                    4.76   \n",
       "\n",
       "   review_scores_cleanliness  review_scores_checkin  \\\n",
       "0                       4.29                   4.57   \n",
       "1                       5.00                   4.89   \n",
       "2                       4.91                   4.62   \n",
       "3                       4.80                   5.00   \n",
       "4                       4.81                   4.95   \n",
       "\n",
       "   review_scores_communication  review_scores_location  review_scores_value  \\\n",
       "0                         4.75                    4.69                 4.49   \n",
       "1                         5.00                    5.00                 4.89   \n",
       "2                         4.87                    4.87                 4.40   \n",
       "3                         5.00                    4.90                 4.70   \n",
       "4                         4.89                    4.49                 4.57   \n",
       "\n",
       "   calculated_host_listings_count  \\\n",
       "0                              10   \n",
       "1                               1   \n",
       "2                              20   \n",
       "3                               1   \n",
       "4                               1   \n",
       "\n",
       "   calculated_host_listings_count_entire_homes  \\\n",
       "0                                            0   \n",
       "1                                            1   \n",
       "2                                            4   \n",
       "3                                            1   \n",
       "4                                            0   \n",
       "\n",
       "   calculated_host_listings_count_private_rooms  \\\n",
       "0                                            10   \n",
       "1                                             0   \n",
       "2                                             0   \n",
       "3                                             0   \n",
       "4                                             1   \n",
       "\n",
       "   calculated_host_listings_count_shared_rooms  reviews_per_month  bathrooms  \n",
       "0                                            0               0.91          1  \n",
       "1                                            0               0.40          1  \n",
       "2                                            0               1.25          1  \n",
       "3                                            0               0.31          1  \n",
       "4                                            0               1.78          1  "
      ]
     },
     "execution_count": 24,
     "metadata": {},
     "output_type": "execute_result"
    }
   ],
   "source": [
    "df_TN.head()"
   ]
  },
  {
   "cell_type": "markdown",
   "id": "314f26e5",
   "metadata": {},
   "source": [
    "**Test**"
   ]
  },
  {
   "cell_type": "code",
   "execution_count": 25,
   "id": "5013529c",
   "metadata": {},
   "outputs": [],
   "source": [
    "df_test.drop('bathrooms',axis=1,inplace=True)\n",
    "df_test['bathrooms']= df_ts.bathrooms_text.apply(limpieza_ba)"
   ]
  },
  {
   "cell_type": "code",
   "execution_count": 26,
   "id": "4b0b7dff",
   "metadata": {},
   "outputs": [
    {
     "data": {
      "text/plain": [
       "array([1, 2, 3, 0, 4])"
      ]
     },
     "execution_count": 26,
     "metadata": {},
     "output_type": "execute_result"
    }
   ],
   "source": [
    "df_test.bathrooms.unique()"
   ]
  },
  {
   "cell_type": "markdown",
   "id": "d8044da8",
   "metadata": {},
   "source": [
    "**1.7 Delete, Columns under 0.2 MDI score columns:**"
   ]
  },
  {
   "cell_type": "markdown",
   "id": "021778f1",
   "metadata": {},
   "source": [
    "**Train**"
   ]
  },
  {
   "cell_type": "code",
   "execution_count": 27,
   "id": "19c4343d",
   "metadata": {},
   "outputs": [],
   "source": [
    "cols_under =['maximum_nights','calendar_updated','number_of_reviews_l30d']"
   ]
  },
  {
   "cell_type": "code",
   "execution_count": 28,
   "id": "4f127310",
   "metadata": {},
   "outputs": [],
   "source": [
    "df_TN.drop(cols_under,axis=1,inplace=True)"
   ]
  },
  {
   "cell_type": "markdown",
   "id": "e002728e",
   "metadata": {},
   "source": [
    "**Test**"
   ]
  },
  {
   "cell_type": "code",
   "execution_count": 29,
   "id": "cc70cb52",
   "metadata": {},
   "outputs": [],
   "source": [
    "df_test.drop(cols_under,axis=1,inplace=True)"
   ]
  },
  {
   "cell_type": "markdown",
   "id": "1e1052d8",
   "metadata": {},
   "source": [
    "**1.8 Delete, Columns with high corr observed in the heatplot:**"
   ]
  },
  {
   "cell_type": "code",
   "execution_count": 30,
   "id": "f7527ea7",
   "metadata": {},
   "outputs": [],
   "source": [
    "cols_corr_high = ['number_of_reviews_ltm','review_scores_rating','review_scores_accuracy','review_scores_checkin','review_scores_communication']"
   ]
  },
  {
   "cell_type": "markdown",
   "id": "21065d34",
   "metadata": {},
   "source": [
    "**Train**"
   ]
  },
  {
   "cell_type": "code",
   "execution_count": 31,
   "id": "ea86bf39",
   "metadata": {},
   "outputs": [],
   "source": [
    "df_TN.drop(cols_corr_high,axis=1,inplace=True)"
   ]
  },
  {
   "cell_type": "markdown",
   "id": "7ba64f1e",
   "metadata": {},
   "source": [
    "**Test**"
   ]
  },
  {
   "cell_type": "code",
   "execution_count": 32,
   "id": "b8f1696c",
   "metadata": {},
   "outputs": [],
   "source": [
    "df_test.drop(cols_corr_high,axis=1,inplace=True)"
   ]
  },
  {
   "cell_type": "markdown",
   "id": "906e4651",
   "metadata": {},
   "source": [
    "**1.9 Delete, Columns with high corr observed in the heatplot:**\n",
    "\n",
    "- 'review_scores_location',\n",
    "- 'review_scores_vaz\n",
    "\n",
    "\n",
    "try delete one and then the other one. "
   ]
  },
  {
   "cell_type": "code",
   "execution_count": 33,
   "id": "8b85ae06",
   "metadata": {},
   "outputs": [],
   "source": [
    "rsv = ['review_scores_value']"
   ]
  },
  {
   "cell_type": "markdown",
   "id": "893de219",
   "metadata": {},
   "source": [
    "**Train**"
   ]
  },
  {
   "cell_type": "code",
   "execution_count": 34,
   "id": "1a25dcdb",
   "metadata": {},
   "outputs": [],
   "source": [
    "df_TN.drop(rsv,axis=1,inplace=True)"
   ]
  },
  {
   "cell_type": "markdown",
   "id": "e0a35874",
   "metadata": {},
   "source": [
    "**Test**"
   ]
  },
  {
   "cell_type": "code",
   "execution_count": 35,
   "id": "7d24e2be",
   "metadata": {},
   "outputs": [],
   "source": [
    "df_test.drop(rsv,axis=1,inplace=True)"
   ]
  },
  {
   "cell_type": "markdown",
   "id": "26dbcf92",
   "metadata": {},
   "source": [
    "**1.10 Delete, Columns:**"
   ]
  },
  {
   "cell_type": "code",
   "execution_count": 36,
   "id": "ee0ffb7b",
   "metadata": {},
   "outputs": [],
   "source": [
    "tests_4 = ['bedrooms','beds','minimum_maximum_nights','calculated_host_listings_count_shared_rooms']"
   ]
  },
  {
   "cell_type": "markdown",
   "id": "74fc94f6",
   "metadata": {},
   "source": [
    "**Train**"
   ]
  },
  {
   "cell_type": "code",
   "execution_count": 37,
   "id": "bda75a1d",
   "metadata": {},
   "outputs": [],
   "source": [
    "df_TN.drop(tests_4,axis=1,inplace=True)"
   ]
  },
  {
   "cell_type": "markdown",
   "id": "bf1097de",
   "metadata": {},
   "source": [
    "**Test**"
   ]
  },
  {
   "cell_type": "code",
   "execution_count": 38,
   "id": "f0f1d8ee",
   "metadata": {},
   "outputs": [],
   "source": [
    "df_test.drop(tests_4,axis=1,inplace=True)"
   ]
  },
  {
   "cell_type": "markdown",
   "id": "ea76efee",
   "metadata": {},
   "source": [
    "**1.11 Delete, Columns:**"
   ]
  },
  {
   "cell_type": "code",
   "execution_count": 39,
   "id": "103213e0",
   "metadata": {},
   "outputs": [],
   "source": [
    "rsc=['calculated_host_listings_count_entire_homes','review_scores_cleanliness','calculated_host_listings_count_entire_homes']"
   ]
  },
  {
   "cell_type": "markdown",
   "id": "f0dd17e6",
   "metadata": {},
   "source": [
    "**Train**"
   ]
  },
  {
   "cell_type": "code",
   "execution_count": 40,
   "id": "c1a038b3",
   "metadata": {},
   "outputs": [],
   "source": [
    "df_TN.drop(rsc,axis=1,inplace=True)"
   ]
  },
  {
   "cell_type": "markdown",
   "id": "0dc76e44",
   "metadata": {},
   "source": [
    "**Test**"
   ]
  },
  {
   "cell_type": "code",
   "execution_count": 41,
   "id": "6e4c4ef2",
   "metadata": {},
   "outputs": [],
   "source": [
    "df_test.drop(rsc,axis=1,inplace=True)"
   ]
  },
  {
   "cell_type": "code",
   "execution_count": null,
   "id": "5cdad401",
   "metadata": {},
   "outputs": [],
   "source": []
  },
  {
   "cell_type": "markdown",
   "id": "5de63cf7",
   "metadata": {},
   "source": [
    "**Columns index to interprete Feaure importance:**\n",
    "\n",
    "DANAGER!!! Loop-create function:"
   ]
  },
  {
   "cell_type": "code",
   "execution_count": 42,
   "id": "0968aa48",
   "metadata": {},
   "outputs": [],
   "source": [
    "cols = {}\n",
    "for num,c in enumerate(df_TN.columns):\n",
    "    cols[num]=c"
   ]
  },
  {
   "cell_type": "markdown",
   "id": "f41caa68a3bb4c60963f1164221e7d6c",
   "metadata": {},
   "source": [
    "### 2. Feature importances with a forest of trees & Correlation heatplot"
   ]
  },
  {
   "cell_type": "markdown",
   "id": "da829086",
   "metadata": {},
   "source": [
    "**2.1 Feature importances with a forest of trees**"
   ]
  },
  {
   "cell_type": "code",
   "execution_count": 43,
   "id": "f6586fdb",
   "metadata": {},
   "outputs": [],
   "source": [
    "X, y = make_classification(\n",
    "    n_samples=100,\n",
    "    n_features=df_TN.shape[1],\n",
    "    n_informative=3,\n",
    "    n_redundant=0,\n",
    "    n_repeated=0,\n",
    "    n_classes=2,\n",
    "    random_state=0,\n",
    "    shuffle=False)\n",
    "\n",
    "X_train, X_test, y_train, y_test = train_test_split(X, y, stratify=y,random_state=42)"
   ]
  },
  {
   "cell_type": "code",
   "execution_count": 44,
   "id": "0127d9b56dd14d84b627e44ab61a9d74",
   "metadata": {},
   "outputs": [
    {
     "data": {
      "text/plain": [
       "RandomForestClassifier(random_state=42)"
      ]
     },
     "execution_count": 44,
     "metadata": {},
     "output_type": "execute_result"
    }
   ],
   "source": [
    "feature_names = [f\"Column {i}\" for i in range(X.shape[1])]\n",
    "forest = RandomForestClassifier(random_state=42)\n",
    "forest.fit(X_train, y_train)"
   ]
  },
  {
   "cell_type": "code",
   "execution_count": 45,
   "id": "f27370e0b76c452baa091e05aaa0ef57",
   "metadata": {},
   "outputs": [],
   "source": [
    "start_time = time.time()\n",
    "importances = forest.feature_importances_\n",
    "std = np.std([tree.feature_importances_ for tree in forest.estimators_], axis=0)\n",
    "elapsed_time = time.time() - start_time"
   ]
  },
  {
   "cell_type": "code",
   "execution_count": 46,
   "id": "58dd9c72c6a945c9bce176ea4662ba42",
   "metadata": {
    "scrolled": true
   },
   "outputs": [
    {
     "data": {
      "image/png": "[encoded data removed]",
      "text/plain": [
       "<Figure size 2160x720 with 1 Axes>"
      ]
     },
     "metadata": {
      "needs_background": "light"
     },
     "output_type": "display_data"
    }
   ],
   "source": [
    "\n",
    "#forest_importances = pd.Series(importances, index=df_TN.columns)\n",
    "forest_importances = pd.Series(importances, index=feature_names)\n",
    "fig, ax = plt.subplots(figsize=(30,10))\n",
    "MDI_PLOT_1 = forest_importances.plot.bar( ax=ax) #(yerr=std,) I took out the std config in the plot in order to see better the result.\n",
    "ax.set_title(\"Feature importances using MDI\")\n",
    "ax.set_ylabel(\"Mean decrease in impurity\")\n",
    "fig.tight_layout()\n",
    "\n",
    "#MDI_PLOT_1.figure.savefig(\"data/MDI_PLOT_1.jpg\", dpi=1000)"
   ]
  },
  {
   "cell_type": "markdown",
   "id": "dc169fde",
   "metadata": {},
   "source": [
    "**Consutl the column name by its index number:**\n"
   ]
  },
  {
   "cell_type": "code",
   "execution_count": 47,
   "id": "722cf601",
   "metadata": {
    "scrolled": true
   },
   "outputs": [
    {
     "data": {
      "text/plain": [
       "{0: 'host_listings_count',\n",
       " 1: 'neighbourhood_group_cleansed',\n",
       " 2: 'accommodates',\n",
       " 3: 'price',\n",
       " 4: 'minimum_nights',\n",
       " 5: 'maximum_maximum_nights',\n",
       " 6: 'availability_30',\n",
       " 7: 'availability_365',\n",
       " 8: 'number_of_reviews',\n",
       " 9: 'review_scores_location',\n",
       " 10: 'calculated_host_listings_count',\n",
       " 11: 'calculated_host_listings_count_private_rooms',\n",
       " 12: 'reviews_per_month',\n",
       " 13: 'bathrooms'}"
      ]
     },
     "execution_count": 47,
     "metadata": {},
     "output_type": "execute_result"
    }
   ],
   "source": [
    "cols"
   ]
  },
  {
   "cell_type": "code",
   "execution_count": 48,
   "id": "27dd91c1",
   "metadata": {},
   "outputs": [],
   "source": [
    "X, y = make_classification(\n",
    "    n_samples=100,\n",
    "    n_features=df_test.shape[1],\n",
    "    n_informative=3,\n",
    "    n_redundant=0,\n",
    "    n_repeated=0,\n",
    "    n_classes=2,\n",
    "    random_state=0,\n",
    "    shuffle=False)\n",
    "\n",
    "X_train_rft, X_test_rft, y_train_rft, y_test_rft = tts(df_TN.drop('price',axis=1), \n",
    "                                               df_TN.price)"
   ]
  },
  {
   "cell_type": "code",
   "execution_count": 49,
   "id": "2da29d97",
   "metadata": {},
   "outputs": [
    {
     "data": {
      "text/plain": [
       "RandomForestClassifier(random_state=42)"
      ]
     },
     "execution_count": 49,
     "metadata": {},
     "output_type": "execute_result"
    }
   ],
   "source": [
    "forest = RandomForestClassifier(random_state=42)\n",
    "forest.fit(X_train_rft, y_train_rft)"
   ]
  },
  {
   "cell_type": "code",
   "execution_count": 50,
   "id": "01770e42",
   "metadata": {},
   "outputs": [
    {
     "name": "stdout",
     "output_type": "stream",
     "text": [
      "RandomForestClassifier(random_state=42)\n",
      "Train: 0.99648\n",
      "Test: 0.052783109404990404\n",
      "\n",
      "\n"
     ]
    }
   ],
   "source": [
    "y_pred_rft=forest.predict(df_test)\n",
    "\n",
    "train_score=forest.score(X_train_rft, y_train_rft)  \n",
    "test_score=forest.score(X_test_rft, y_test_rft)\n",
    "    \n",
    "print(forest)\n",
    "print('Train:', train_score)\n",
    "print('Test:', test_score)\n",
    "#print('MSE_R2: ',mse(y_pred_rft, y_test_rft, squared=True))\n",
    "print('\\n')"
   ]
  },
  {
   "cell_type": "markdown",
   "id": "53e0db99",
   "metadata": {},
   "source": [
    "**2.2 Correlation heatplot**"
   ]
  },
  {
   "cell_type": "code",
   "execution_count": 51,
   "id": "bc21b8cd258a4fd69da341f2f23805fe",
   "metadata": {
    "scrolled": true
   },
   "outputs": [
    {
     "data": {
      "image/png": "[encoded data removed]",
      "text/plain": [
       "<Figure size 432x288 with 2 Axes>"
      ]
     },
     "metadata": {
      "needs_background": "light"
     },
     "output_type": "display_data"
    }
   ],
   "source": [
    "sns.heatmap(df_TN.corr());"
   ]
  },
  {
   "cell_type": "markdown",
   "id": "6b73ca9a",
   "metadata": {},
   "source": [
    "### 3. OBSERVACIONES:\n",
    "\n",
    "**Transformation_1:**\n",
    "\n",
    "**Observation:**\n",
    "\n",
    "- Eliminamos la columns de **Bathrooms** (que son todo ceros)\n",
    "- Añadimos las columna de **Bathrooms_text**, convertida a numerica.\n",
    "\n",
    "**Results:**\n",
    "\n",
    "We have a stabilization of the score, the underfitting has decreasse consistinly although the R2, is high.\n",
    "\n",
    "**Conclussion:**\n",
    "\n",
    "I will proceed with the submission of the RFR model prediction.\n",
    "\n",
    "The best results are from RFR:\n",
    "\n",
    "    *RFR()\n",
    "    Train: 0.7717785953846144\n",
    "    Test: 0.8090641560993984\n",
    "    MSE_R2:  121.5271733616819\n",
    "\n",
    "The worst results are from Lasso:\n",
    "\n",
    "    *Lasso()\n",
    "    Train: 0.1333113015962274\n",
    "    Test: 0.4136928621559328\n",
    "    MSE_R2:  89.36023805741623\n",
    "\n",
    "\n",
    "\n",
    "**Transformation_2:**\n",
    "\n",
    "**Observation:**\n",
    "\n",
    "In the results from the Feature importances done with Forest of Trees, it shows that certain columns have higher less importance than the rest with a Mean Decrease in Impurity (MDI), under 0.1 \n",
    "\n",
    "\n",
    "This are the shown columns:\n",
    "\n",
    "- Col 7 : 'maximum_nights'\n",
    "- Col 10 : 'calendar_updated'\n",
    "- Col 15 : 'number_of_reviews_l30d'\n",
    "\n",
    "\n",
    "\n",
    "**Results**\n",
    "\n",
    "Best:\n",
    "\n",
    "    *LinearRegression()\n",
    "    Train: 0.1368723442128157\n",
    "    Test: 0.3874453239688559\n",
    "    MSE_R2: 99.34319298832972\n",
    "    \n",
    "Worst:\n",
    "\n",
    "    *RandomForestRegressor(random_state=42)\n",
    "    Train: 0.9082784320000593\n",
    "    Test: 0.1862306235915736\n",
    "    MSE_R2:  206.75052345561477\n",
    " \n",
    "**Results:**\n",
    "\n",
    "We have a stabilization of the score, the even though ther itill a consisnten over fitting the R2 is under 100\n",
    "\n",
    "**Conclussion:**\n",
    "\n",
    "Will keep the three columns out of the model for now.\n",
    "\n",
    "\n",
    "\n",
    "\n",
    "**Transformation_3:**\n",
    "\n",
    "**Observation:**\n",
    "\n",
    "In the results from the Feature importances done with Forest of Trees, it shows that certain columns have higher less importance than the rest with a Mean Decrease in Impurity (MDI), under 0.1 \n",
    "\n",
    "\n",
    "This are the shown columns:\n",
    "\n",
    "- 'number_of_reviews_ltm',\n",
    "- 'review_scores_rating',\n",
    "- 'review_scores_accuracy',\n",
    "- 'review_scores_checkin',\n",
    "- 'review_scores_communication'\n",
    "\n",
    "**Except:** This tow columns that migh be relevant:\n",
    "\n",
    "- 'review_scores_location',\n",
    "- 'review_scores_value',\n",
    "\n",
    "**Results:**\n",
    "\n",
    "- The MDI has not change much, we have now a MDI minium of 0.4\n",
    "- The Correlation between columns has decrease as it was expected but the tow remaining columns from the same field still correlated. \n",
    "\n",
    "Best: R2 en Kaggle: 100.88... (BASURA)\n",
    "\n",
    "    *RandomForestRegressor(random_state=42)\n",
    "    Train: 0.890809916016523\n",
    "    Test: 0.7834136713380204\n",
    "    MSE_R2:  105.4705018255655\n",
    "\n",
    "Worst:\n",
    "\n",
    "    *LinearRegression()\n",
    "    Train: 0.1506597305348294\n",
    "    Test: -0.02890642433688506\n",
    "    MSE_R2: 100.31076782284862\n",
    " \n",
    "**Conclussion:**\n",
    "\n",
    "- Will continue, observing the results.\n",
    "- A evaluation of the two remaining columns will be carried out and tested with out one of them and later the other one. \n",
    "\n",
    "**Transformation_4:**\n",
    "\n",
    "**Observation:**\n",
    "\n",
    "Evalute the value of these tow columns and test results, fist with out one and later with out the other one.\n",
    "\n",
    "This are the shown columns:\n",
    "\n",
    "- 'review_scores_location',\n",
    "- 'review_scores_value',\n",
    "\n",
    "\n",
    "**Results:**\n",
    "\n",
    "\n",
    "Best:\n",
    "\n",
    "    \n",
    "\n",
    "Worst:\n",
    "\n",
    "\n",
    "**Conclussion:**\n",
    "\n"
   ]
  },
  {
   "cell_type": "markdown",
   "id": "14e0a5451ead40fcbfd87d733cf80249",
   "metadata": {},
   "source": [
    "### 4. Definicion de Modelo con Train: \n",
    "\n",
    "- De aqui sacamos la variabl modelo, para hacer la prediccion con el TEST!!\n",
    "\n",
    "### 4.1. LinReg"
   ]
  },
  {
   "cell_type": "code",
   "execution_count": 52,
   "id": "ae6f1da1be4e4b979fdc71bd6adb26b8",
   "metadata": {},
   "outputs": [],
   "source": [
    "X_train_lr, X_test_lr, y_train_lr, y_test_lr = tts(df_TN.drop('price',axis=1), \n",
    "                                               df_TN.price)"
   ]
  },
  {
   "cell_type": "code",
   "execution_count": 53,
   "id": "967fec49c850470db77fae3530788b2a",
   "metadata": {},
   "outputs": [
    {
     "data": {
      "text/plain": [
       "LinearRegression()"
      ]
     },
     "execution_count": 53,
     "metadata": {},
     "output_type": "execute_result"
    }
   ],
   "source": [
    "modelo_LR=LinReg()\n",
    "\n",
    "modelo_LR.fit(X_train_lr, y_train_lr)"
   ]
  },
  {
   "cell_type": "code",
   "execution_count": 54,
   "id": "6c8cc498c2be43ff99e50071720f16eb",
   "metadata": {},
   "outputs": [],
   "source": [
    "### 1.3.1 R2"
   ]
  },
  {
   "cell_type": "code",
   "execution_count": 55,
   "id": "86bdf9e242b840d7a4ced74d79a59934",
   "metadata": {
    "scrolled": true
   },
   "outputs": [
    {
     "data": {
      "text/plain": [
       "0.33466731422591733"
      ]
     },
     "execution_count": 55,
     "metadata": {},
     "output_type": "execute_result"
    }
   ],
   "source": [
    "modelo_LR.score(X_test_lr, y_test_lr)# R2 cuanto mas cercano a 1 mejor "
   ]
  },
  {
   "cell_type": "code",
   "execution_count": 56,
   "id": "0c10a9e55e58415fb82866b212ab5ccd",
   "metadata": {},
   "outputs": [
    {
     "data": {
      "text/plain": [
       "(1042,)"
      ]
     },
     "execution_count": 56,
     "metadata": {},
     "output_type": "execute_result"
    }
   ],
   "source": [
    "y_pred_LR=modelo_LR.predict(X_test_lr)\n",
    "y_pred_LR.shape"
   ]
  },
  {
   "cell_type": "code",
   "execution_count": 57,
   "id": "42797203",
   "metadata": {},
   "outputs": [
    {
     "name": "stdout",
     "output_type": "stream",
     "text": [
      "LinearRegression()\n",
      "Train: 0.12829039772548712\n",
      "Test: 0.33466731422591733\n",
      "MSE_R2: 94.60298907198128\n",
      "\n",
      "\n"
     ]
    }
   ],
   "source": [
    "train_score=modelo_LR.score(X_train_lr, y_train_lr)  \n",
    "test_score=modelo_LR.score(X_test_lr, y_test_lr)\n",
    "    \n",
    "print(modelo_LR)\n",
    "print('Train:', train_score)\n",
    "print('Test:', test_score) \n",
    "print('MSE_R2:', mse(y_pred_LR, y_test_lr, squared=False))\n",
    "print('\\n')"
   ]
  },
  {
   "cell_type": "markdown",
   "id": "bf6b82f247d54942a252efe5d4bea465",
   "metadata": {},
   "source": [
    "### 4.2. Lasso"
   ]
  },
  {
   "cell_type": "code",
   "execution_count": 58,
   "id": "edccbfdbab424ec883ac5aa2cdbd9e7b",
   "metadata": {},
   "outputs": [],
   "source": [
    "X_train_lss, X_test_lss, y_train_lss, y_test_lss = tts(df_TN.drop('price',axis=1), \n",
    "                                               df_TN.price)"
   ]
  },
  {
   "cell_type": "code",
   "execution_count": 59,
   "id": "046b9e74bd2c4e768c89f2d2c4b0cf09",
   "metadata": {},
   "outputs": [
    {
     "data": {
      "text/plain": [
       "Lasso()"
      ]
     },
     "execution_count": 59,
     "metadata": {},
     "output_type": "execute_result"
    }
   ],
   "source": [
    "modelo_LSS=Lasso()\n",
    "\n",
    "modelo_LSS.fit(X_train_lss, y_train_lss)"
   ]
  },
  {
   "cell_type": "code",
   "execution_count": 60,
   "id": "6229db7ee9514fe99d9d77e792e2f57f",
   "metadata": {},
   "outputs": [],
   "source": [
    "### 1.3.1 R2"
   ]
  },
  {
   "cell_type": "code",
   "execution_count": 61,
   "id": "06b39d74d6184153a0c04deb11843bb3",
   "metadata": {
    "scrolled": true
   },
   "outputs": [
    {
     "data": {
      "text/plain": [
       "0.060064971568597136"
      ]
     },
     "execution_count": 61,
     "metadata": {},
     "output_type": "execute_result"
    }
   ],
   "source": [
    "modelo_LSS.score(X_test_lss, y_test_lss)# R2 cuanto mas cercano a 1 mejor "
   ]
  },
  {
   "cell_type": "code",
   "execution_count": 62,
   "id": "0d36b4cd114b4d378c4fdde5f0f2c932",
   "metadata": {},
   "outputs": [
    {
     "data": {
      "text/plain": [
       "(1042,)"
      ]
     },
     "execution_count": 62,
     "metadata": {},
     "output_type": "execute_result"
    }
   ],
   "source": [
    "y_pred_LSS=modelo_LSS.predict(X_test_lss)\n",
    "y_pred_LSS.shape"
   ]
  },
  {
   "cell_type": "code",
   "execution_count": 63,
   "id": "e8d98cdf",
   "metadata": {
    "scrolled": true
   },
   "outputs": [
    {
     "name": "stdout",
     "output_type": "stream",
     "text": [
      "Lasso()\n",
      "Train: 0.18298119995300866\n",
      "Test: 0.060064971568597136\n",
      "MSE_R2:  228.97478007565815\n",
      "\n",
      "\n"
     ]
    }
   ],
   "source": [
    "train_score=modelo_LSS.score(X_train_lss, y_train_lss)  \n",
    "test_score=modelo_LSS.score(X_test_lss, y_test_lss)\n",
    "    \n",
    "print(modelo_LSS)\n",
    "print('Train:', train_score)\n",
    "print('Test:', test_score)\n",
    "print('MSE_R2: ',mse(y_pred_LSS, y_test_lss, squared=False))\n",
    "print('\\n')"
   ]
  },
  {
   "cell_type": "markdown",
   "id": "be1a8d5a3f1f4092a16890c75552bf8f",
   "metadata": {},
   "source": [
    "### 4.3. RFR"
   ]
  },
  {
   "cell_type": "code",
   "execution_count": 64,
   "id": "4130f3bbb95b412e8226e8cd63b2c64e",
   "metadata": {},
   "outputs": [],
   "source": [
    "X_train, X_test, y_train, y_test = tts(df_TN.drop('price',axis=1), \n",
    "                                               df_TN.price)"
   ]
  },
  {
   "cell_type": "code",
   "execution_count": 65,
   "id": "b70c0ec613e14a5c978718299144ee72",
   "metadata": {},
   "outputs": [
    {
     "data": {
      "text/plain": [
       "RandomForestRegressor(random_state=42)"
      ]
     },
     "execution_count": 65,
     "metadata": {},
     "output_type": "execute_result"
    }
   ],
   "source": [
    "modelo_RFR=RFR(random_state=42)\n",
    "\n",
    "modelo_RFR.fit(X_train, y_train)"
   ]
  },
  {
   "cell_type": "code",
   "execution_count": 66,
   "id": "9b36bdb268044bc0acf2dfdd9f95b502",
   "metadata": {},
   "outputs": [],
   "source": [
    "### 1.3.1 R2"
   ]
  },
  {
   "cell_type": "code",
   "execution_count": 67,
   "id": "3c178ef9bb094120b973b90a8a24f0fe",
   "metadata": {
    "scrolled": true
   },
   "outputs": [
    {
     "data": {
      "text/plain": [
       "-0.5573115151206973"
      ]
     },
     "execution_count": 67,
     "metadata": {},
     "output_type": "execute_result"
    }
   ],
   "source": [
    "modelo_RFR.score(X_test, y_test)# R2 cuanto mas cercano a 1 mejor "
   ]
  },
  {
   "cell_type": "code",
   "execution_count": 68,
   "id": "dba153bb560f4827a3b21d18f8fcd7a2",
   "metadata": {},
   "outputs": [
    {
     "data": {
      "text/plain": [
       "(1042,)"
      ]
     },
     "execution_count": 68,
     "metadata": {},
     "output_type": "execute_result"
    }
   ],
   "source": [
    "y_pred=modelo_RFR.predict(X_test)\n",
    "y_pred.shape"
   ]
  },
  {
   "cell_type": "code",
   "execution_count": 69,
   "id": "67feb608",
   "metadata": {},
   "outputs": [
    {
     "name": "stdout",
     "output_type": "stream",
     "text": [
      "RandomForestRegressor(random_state=42)\n",
      "Train: 0.9024682018039338\n",
      "Test: -0.5573115151206973\n",
      "MSE_R2:  152.75864810059767\n",
      "\n",
      "\n"
     ]
    }
   ],
   "source": [
    "train_score=modelo_RFR.score(X_train, y_train)  \n",
    "test_score=modelo_RFR.score(X_test, y_test)\n",
    "    \n",
    "print(modelo_RFR)\n",
    "print('Train:', train_score)\n",
    "print('Test:', test_score)\n",
    "print('MSE_R2: ',mse(y_pred, y_test, squared=False))\n",
    "print('\\n')"
   ]
  },
  {
   "cell_type": "markdown",
   "id": "9bae0878492945b989ae3ed2f15ff185",
   "metadata": {},
   "source": [
    "### 5. Various ML Models:\n",
    "\n",
    "**In a Loop:**\n",
    "\n",
    "- LinReg(), \n",
    "- Lasso(),\n",
    "- RFR(),\n",
    "- SGDC(),\n",
    "- GNB(),\n",
    "- MNB(),\n",
    "- CNB()\n"
   ]
  },
  {
   "cell_type": "code",
   "execution_count": 70,
   "id": "236c77d716694ba08149a0beba12f61b",
   "metadata": {},
   "outputs": [
    {
     "data": {
      "text/html": [
       "<div>\n",
       "<style scoped>\n",
       "    .dataframe tbody tr th:only-of-type {\n",
       "        vertical-align: middle;\n",
       "    }\n",
       "\n",
       "    .dataframe tbody tr th {\n",
       "        vertical-align: top;\n",
       "    }\n",
       "\n",
       "    .dataframe thead th {\n",
       "        text-align: right;\n",
       "    }\n",
       "</style>\n",
       "<table border=\"1\" class=\"dataframe\">\n",
       "  <thead>\n",
       "    <tr style=\"text-align: right;\">\n",
       "      <th></th>\n",
       "      <th>host_listings_count</th>\n",
       "      <th>neighbourhood_group_cleansed</th>\n",
       "      <th>accommodates</th>\n",
       "      <th>price</th>\n",
       "      <th>minimum_nights</th>\n",
       "      <th>maximum_maximum_nights</th>\n",
       "      <th>availability_30</th>\n",
       "      <th>availability_365</th>\n",
       "      <th>number_of_reviews</th>\n",
       "      <th>review_scores_location</th>\n",
       "      <th>calculated_host_listings_count</th>\n",
       "      <th>calculated_host_listings_count_private_rooms</th>\n",
       "      <th>reviews_per_month</th>\n",
       "      <th>bathrooms</th>\n",
       "    </tr>\n",
       "  </thead>\n",
       "  <tbody>\n",
       "    <tr>\n",
       "      <th>0</th>\n",
       "      <td>13</td>\n",
       "      <td>0.0</td>\n",
       "      <td>3</td>\n",
       "      <td>87.0</td>\n",
       "      <td>2</td>\n",
       "      <td>1125.0</td>\n",
       "      <td>0</td>\n",
       "      <td>249</td>\n",
       "      <td>81</td>\n",
       "      <td>4.69</td>\n",
       "      <td>10</td>\n",
       "      <td>10</td>\n",
       "      <td>0.91</td>\n",
       "      <td>1</td>\n",
       "    </tr>\n",
       "    <tr>\n",
       "      <th>1</th>\n",
       "      <td>0</td>\n",
       "      <td>0.0</td>\n",
       "      <td>4</td>\n",
       "      <td>250.0</td>\n",
       "      <td>2</td>\n",
       "      <td>1125.0</td>\n",
       "      <td>3</td>\n",
       "      <td>3</td>\n",
       "      <td>9</td>\n",
       "      <td>5.00</td>\n",
       "      <td>1</td>\n",
       "      <td>0</td>\n",
       "      <td>0.40</td>\n",
       "      <td>1</td>\n",
       "    </tr>\n",
       "    <tr>\n",
       "      <th>2</th>\n",
       "      <td>20</td>\n",
       "      <td>0.0</td>\n",
       "      <td>2</td>\n",
       "      <td>151.0</td>\n",
       "      <td>1</td>\n",
       "      <td>99.0</td>\n",
       "      <td>25</td>\n",
       "      <td>267</td>\n",
       "      <td>47</td>\n",
       "      <td>4.87</td>\n",
       "      <td>20</td>\n",
       "      <td>0</td>\n",
       "      <td>1.25</td>\n",
       "      <td>1</td>\n",
       "    </tr>\n",
       "    <tr>\n",
       "      <th>3</th>\n",
       "      <td>1</td>\n",
       "      <td>0.0</td>\n",
       "      <td>2</td>\n",
       "      <td>139.0</td>\n",
       "      <td>2</td>\n",
       "      <td>1125.0</td>\n",
       "      <td>0</td>\n",
       "      <td>0</td>\n",
       "      <td>10</td>\n",
       "      <td>4.90</td>\n",
       "      <td>1</td>\n",
       "      <td>0</td>\n",
       "      <td>0.31</td>\n",
       "      <td>1</td>\n",
       "    </tr>\n",
       "    <tr>\n",
       "      <th>4</th>\n",
       "      <td>1</td>\n",
       "      <td>0.0</td>\n",
       "      <td>2</td>\n",
       "      <td>95.0</td>\n",
       "      <td>2</td>\n",
       "      <td>7.0</td>\n",
       "      <td>18</td>\n",
       "      <td>349</td>\n",
       "      <td>166</td>\n",
       "      <td>4.49</td>\n",
       "      <td>1</td>\n",
       "      <td>1</td>\n",
       "      <td>1.78</td>\n",
       "      <td>1</td>\n",
       "    </tr>\n",
       "  </tbody>\n",
       "</table>\n",
       "</div>"
      ],
      "text/plain": [
       "   host_listings_count  neighbourhood_group_cleansed  accommodates  price  \\\n",
       "0                   13                           0.0             3   87.0   \n",
       "1                    0                           0.0             4  250.0   \n",
       "2                   20                           0.0             2  151.0   \n",
       "3                    1                           0.0             2  139.0   \n",
       "4                    1                           0.0             2   95.0   \n",
       "\n",
       "   minimum_nights  maximum_maximum_nights  availability_30  availability_365  \\\n",
       "0               2                  1125.0                0               249   \n",
       "1               2                  1125.0                3                 3   \n",
       "2               1                    99.0               25               267   \n",
       "3               2                  1125.0                0                 0   \n",
       "4               2                     7.0               18               349   \n",
       "\n",
       "   number_of_reviews  review_scores_location  calculated_host_listings_count  \\\n",
       "0                 81                    4.69                              10   \n",
       "1                  9                    5.00                               1   \n",
       "2                 47                    4.87                              20   \n",
       "3                 10                    4.90                               1   \n",
       "4                166                    4.49                               1   \n",
       "\n",
       "   calculated_host_listings_count_private_rooms  reviews_per_month  bathrooms  \n",
       "0                                            10               0.91          1  \n",
       "1                                             0               0.40          1  \n",
       "2                                             0               1.25          1  \n",
       "3                                             0               0.31          1  \n",
       "4                                             1               1.78          1  "
      ]
     },
     "execution_count": 70,
     "metadata": {},
     "output_type": "execute_result"
    }
   ],
   "source": [
    "df_TN.head()"
   ]
  },
  {
   "cell_type": "code",
   "execution_count": 71,
   "id": "3f568bc4f1aa4bd9903654956f4ced06",
   "metadata": {},
   "outputs": [],
   "source": [
    "X=df_TN.drop('price', axis=1)\n",
    "y=df_TN.price"
   ]
  },
  {
   "cell_type": "code",
   "execution_count": 72,
   "id": "ab2fe791550348979153b6cd9215c381",
   "metadata": {},
   "outputs": [],
   "source": [
    "X_train, X_test, y_train, y_test = tts(X, y, \n",
    "                                       test_size=0.15, random_state=42)"
   ]
  },
  {
   "cell_type": "code",
   "execution_count": 73,
   "id": "8e3de94acb71435d9947d921a6f2d86c",
   "metadata": {
    "scrolled": false
   },
   "outputs": [
    {
     "name": "stdout",
     "output_type": "stream",
     "text": [
      "LinearRegression()\n",
      "Train: 0.13475684885464279\n",
      "Test: 0.35548817608677064\n",
      "\n",
      "\n",
      "Lasso()\n",
      "Train: 0.13455202485883244\n",
      "Test: 0.35168154706248755\n",
      "\n",
      "\n",
      "RandomForestRegressor()\n",
      "Train: 0.9089575756702972\n",
      "Test: 0.2533723264186919\n",
      "\n",
      "\n"
     ]
    },
    {
     "name": "stderr",
     "output_type": "stream",
     "text": [
      "/opt/homebrew/Caskroom/miniconda/base/envs/ironhack_2/lib/python3.8/site-packages/sklearn/linear_model/_stochastic_gradient.py:696: ConvergenceWarning: Maximum number of iteration reached before convergence. Consider increasing max_iter to improve the fit.\n",
      "  warnings.warn(\n"
     ]
    },
    {
     "name": "stdout",
     "output_type": "stream",
     "text": [
      "SGDClassifier()\n",
      "Train: 0.0031064670996893535\n",
      "Test: 0.003194888178913738\n",
      "\n",
      "\n",
      "GaussianNB()\n",
      "Train: 0.04207850889579215\n",
      "Test: 0.04472843450479233\n",
      "\n",
      "\n",
      "MultinomialNB()\n",
      "Train: 0.045467382095453264\n",
      "Test: 0.003194888178913738\n",
      "\n",
      "\n",
      "ComplementNB()\n",
      "Train: 0.031347077096865295\n",
      "Test: 0.03514376996805112\n",
      "\n",
      "\n"
     ]
    }
   ],
   "source": [
    "modelos=[LinReg(), Lasso(),RFR(),SGDC(),GNB(),MNB(),CNB()]\n",
    "\n",
    "for m in modelos:\n",
    "    prueba_modelo(m)"
   ]
  },
  {
   "cell_type": "code",
   "execution_count": 74,
   "id": "f1338a8c68854d90bf46a62c79f93c2b",
   "metadata": {},
   "outputs": [],
   "source": [
    "#y_pred_lr.shape"
   ]
  },
  {
   "cell_type": "markdown",
   "id": "094afd58e2854aa89cdeb552f38cd0e8",
   "metadata": {},
   "source": [
    "### 6. Guardar modelo:\n",
    "\n",
    "\n",
    "Value shape 1389:"
   ]
  },
  {
   "cell_type": "markdown",
   "id": "1b65a42c",
   "metadata": {},
   "source": [
    "**Predicction variable by Model:**"
   ]
  },
  {
   "cell_type": "code",
   "execution_count": 75,
   "id": "7bb3c69a",
   "metadata": {},
   "outputs": [],
   "source": [
    "y_pred=modelo_RFR.predict(df_test)"
   ]
  },
  {
   "cell_type": "code",
   "execution_count": 76,
   "id": "18405a74",
   "metadata": {},
   "outputs": [
    {
     "data": {
      "text/plain": [
       "(1389,)"
      ]
     },
     "execution_count": 76,
     "metadata": {},
     "output_type": "execute_result"
    }
   ],
   "source": [
    "y_pred.shape"
   ]
  },
  {
   "cell_type": "markdown",
   "id": "abbfea0d2cc14752b8ce54638714a257",
   "metadata": {},
   "source": [
    "Here we place the "
   ]
  },
  {
   "cell_type": "code",
   "execution_count": 77,
   "id": "8ece86f626034290a199144bd8022aaa",
   "metadata": {},
   "outputs": [
    {
     "data": {
      "text/plain": [
       "(1389, 2)"
      ]
     },
     "execution_count": 77,
     "metadata": {},
     "output_type": "execute_result"
    }
   ],
   "source": [
    "sample_df_10=pd.DataFrame()\n",
    "\n",
    "\n",
    "sample_df_10['id']=[str(i) for i in range(len(y_pred))]\n",
    "sample_df_10['price']=y_pred\n",
    "\n",
    "sample_df_10.shape"
   ]
  },
  {
   "cell_type": "code",
   "execution_count": 78,
   "id": "b6be66bd0a54470cbaad8c23e610eb31",
   "metadata": {},
   "outputs": [
    {
     "data": {
      "text/html": [
       "<div>\n",
       "<style scoped>\n",
       "    .dataframe tbody tr th:only-of-type {\n",
       "        vertical-align: middle;\n",
       "    }\n",
       "\n",
       "    .dataframe tbody tr th {\n",
       "        vertical-align: top;\n",
       "    }\n",
       "\n",
       "    .dataframe thead th {\n",
       "        text-align: right;\n",
       "    }\n",
       "</style>\n",
       "<table border=\"1\" class=\"dataframe\">\n",
       "  <thead>\n",
       "    <tr style=\"text-align: right;\">\n",
       "      <th></th>\n",
       "      <th>id</th>\n",
       "      <th>price</th>\n",
       "    </tr>\n",
       "  </thead>\n",
       "  <tbody>\n",
       "    <tr>\n",
       "      <th>0</th>\n",
       "      <td>0</td>\n",
       "      <td>81.680000</td>\n",
       "    </tr>\n",
       "    <tr>\n",
       "      <th>1</th>\n",
       "      <td>1</td>\n",
       "      <td>104.348631</td>\n",
       "    </tr>\n",
       "    <tr>\n",
       "      <th>2</th>\n",
       "      <td>2</td>\n",
       "      <td>105.305000</td>\n",
       "    </tr>\n",
       "    <tr>\n",
       "      <th>3</th>\n",
       "      <td>3</td>\n",
       "      <td>130.120000</td>\n",
       "    </tr>\n",
       "    <tr>\n",
       "      <th>4</th>\n",
       "      <td>4</td>\n",
       "      <td>170.870000</td>\n",
       "    </tr>\n",
       "  </tbody>\n",
       "</table>\n",
       "</div>"
      ],
      "text/plain": [
       "  id       price\n",
       "0  0   81.680000\n",
       "1  1  104.348631\n",
       "2  2  105.305000\n",
       "3  3  130.120000\n",
       "4  4  170.870000"
      ]
     },
     "execution_count": 78,
     "metadata": {},
     "output_type": "execute_result"
    }
   ],
   "source": [
    "sample_df_10.head()"
   ]
  },
  {
   "cell_type": "code",
   "execution_count": 79,
   "id": "4ed5e7606ae146a6911d616236f69bf2",
   "metadata": {},
   "outputs": [],
   "source": [
    "sample_df_10.to_csv('data/sample_df_10.csv',index=False)"
   ]
  },
  {
   "cell_type": "code",
   "execution_count": 80,
   "id": "13404cc5",
   "metadata": {},
   "outputs": [
    {
     "data": {
      "text/plain": [
       "(1389,)"
      ]
     },
     "execution_count": 80,
     "metadata": {},
     "output_type": "execute_result"
    }
   ],
   "source": [
    "y_pred.shape"
   ]
  },
  {
   "cell_type": "markdown",
   "id": "eb46db39e08d46809af56d2d20b4119b",
   "metadata": {},
   "source": [
    "### SUBMISSIONS:\n",
    "\n",
    "\n",
    "Submition 5:\n",
    "\n",
    "    *LinearRegression()\n",
    "    Train: 0.14651660992370874\n",
    "    Test: 0.3820126818795656\n",
    "\n",
    "R2_Kaggle = 100.87018\n",
    "\n",
    "Submition 7:\n",
    "\n",
    "    *RandomForestRegressor()\n",
    "    Train: 0.9611092937754674\n",
    "    Test: 0.6794674859190988\n",
    "    \n",
    "R2_Kaggle = 97.74893\n",
    "\n",
    "Submition 8: (Thisone ot LinReg)\n",
    "\n",
    "    *RandomForestRegressor()\n",
    "    Train: 0.9613236998741297\n",
    "    Test: 0.6987391193036354\n",
    "  \n",
    "R2_Kaggle = 93.99070\n"
   ]
  },
  {
   "cell_type": "code",
   "execution_count": null,
   "id": "6f4c2d870549489bac89ed99f4283850",
   "metadata": {},
   "outputs": [],
   "source": []
  }
 ],
 "metadata": {
  "kernelspec": {
   "display_name": "Python3 (ironhack_2)",
   "language": "python",
   "name": "condaenv"
  },
  "language_info": {
   "codemirror_mode": {
    "name": "ipython",
    "version": 3
   },
   "file_extension": ".py",
   "mimetype": "text/x-python",
   "name": "python",
   "nbconvert_exporter": "python",
   "pygments_lexer": "ipython3",
   "version": "3.8.11"
  }
 },
 "nbformat": 4,
 "nbformat_minor": 5
}
