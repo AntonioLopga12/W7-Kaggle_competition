{
 "cells": [
  {
   "cell_type": "markdown",
   "id": "1a7689c0",
   "metadata": {},
   "source": [
    "**New File:**\n",
    "\n",
    "- Definir funcion general, meter en carpetas:\n",
    "- Quedarme con las columnas potenciales, aun sean muchas.\n",
    "- Limpiarlas bien\n",
    "- Transformar los datos para que los Modelos interpreten mejor los datos\n",
    "    - En las columnas que sea convenientes convertir los datos por nivel de importancia, ej, 0 menos-1medio-2mayor\n",
    "    - Hay que normalizar?\n",
    "    - Hay que estandarizar?\n",
    "- Hacer un arbol de decision, para que nos digan niveles de importancia de las diferentes caracteristicas.\n",
    "    https://scikit-learn.org/stable/auto_examples/ensemble/plot_forest_importances.html\n",
    "- Hacer un heatplot\n",
    "- preparar los modelos, sin parametros especificos\n",
    "- Preparar 2 modelos modificandop algunos parametros.\n"
   ]
  },
  {
   "cell_type": "code",
   "execution_count": 1,
   "id": "0f673326",
   "metadata": {},
   "outputs": [],
   "source": [
    "import time                                                 # para tiempo\n",
    "inicio=time.time()                                          # momento inicial\n",
    "\n",
    "import pandas as pd                                         # dataframe\n",
    "import numpy as np                                          # numerical python, algebra lineal\n",
    "pd.set_option('display.max_columns', None)\n",
    "import matplotlib.pyplot as plt                             # plots, graficos\n",
    "import seaborn as sns                                       # plots\n",
    "\n",
    "import warnings                                             # avisos\n",
    "warnings.filterwarnings('ignore', category=RuntimeWarning)"
   ]
  },
  {
   "cell_type": "code",
   "execution_count": 2,
   "id": "2fb8a715",
   "metadata": {},
   "outputs": [],
   "source": [
    "from sklearn.model_selection import train_test_split as tts"
   ]
  },
  {
   "cell_type": "code",
   "execution_count": 3,
   "id": "ed0f40e0",
   "metadata": {},
   "outputs": [],
   "source": [
    "from sklearn.linear_model import LinearRegression as LinReg\n",
    "from sklearn.ensemble import RandomForestRegressor as RFR\n",
    "from sklearn.linear_model import SGDClassifier as SGDC"
   ]
  },
  {
   "cell_type": "code",
   "execution_count": 4,
   "id": "2aa71462",
   "metadata": {},
   "outputs": [],
   "source": [
    "from sklearn.metrics import mean_squared_error as mse"
   ]
  },
  {
   "cell_type": "markdown",
   "id": "3d56497a",
   "metadata": {},
   "source": [
    "**Funciones**\n"
   ]
  },
  {
   "cell_type": "code",
   "execution_count": 6,
   "id": "2685079d",
   "metadata": {},
   "outputs": [],
   "source": [
    "def trash_d(df):\n",
    "    df_col = df.columns\n",
    "    trash = []\n",
    "    for i in df_col:\n",
    "        if 'url' in i:\n",
    "\n",
    "            trash.append(i)\n",
    "        elif 'id' in i:\n",
    "\n",
    "            trash.append(i)\n",
    "        elif 'name' in i:\n",
    "\n",
    "            trash.append(i)\n",
    "        elif 'scrape' in i:\n",
    "\n",
    "            trash.append(i)\n",
    "        elif 'license' in i: #is it relevant??\n",
    "\n",
    "            trash.append(i)\n",
    "        elif 'latitude' in i:\n",
    "\n",
    "            trash.append(i)\n",
    "        elif 'longitude' in i:\n",
    "\n",
    "            trash.append(i)\n",
    "\n",
    "    print(trash)\n",
    "    return df.drop(trash,axis=1,inplace=True)"
   ]
  },
  {
   "cell_type": "code",
   "execution_count": 7,
   "id": "012ac38c",
   "metadata": {},
   "outputs": [],
   "source": [
    "def delete_nan(df):\n",
    "    data_1 = df.loc[:, df.isnull().mean() >= .5]\n",
    "    print(data_1.columns)\n",
    "    return df.drop(data_1,axis=1,inplace=True)"
   ]
  },
  {
   "cell_type": "code",
   "execution_count": 70,
   "id": "023afdd7",
   "metadata": {},
   "outputs": [],
   "source": [
    "def bin_corr_col(x):\n",
    "                                        \n",
    "    corr_matrix = x.corr().abs()# Create correlation matrix\n",
    "                                        \n",
    "    upper = corr_matrix.where(np.triu(np.ones(corr_matrix.shape), k=1).astype(bool)) # Select upper triangle of correlation matrix\n",
    "    \n",
    "    to_drop = [column for column in upper.columns if any(upper[column] > 0.70)]# Find features with correlation greater than 0.90\n",
    "    print(to_drop)\n",
    "\n",
    "    return x.drop(to_drop, axis=1, inplace=True) # Drop features"
   ]
  },
  {
   "cell_type": "code",
   "execution_count": 71,
   "id": "e31de436",
   "metadata": {},
   "outputs": [],
   "source": [
    "def fill_nan(df):\n",
    "    \n",
    "    for i in df.columns:\n",
    "        \n",
    "        df.fillna(round(df[i].mean(),3), inplace=True)\n",
    "\n",
    "    print(df.isna().sum())"
   ]
  },
  {
   "cell_type": "code",
   "execution_count": 72,
   "id": "07bcda4b",
   "metadata": {},
   "outputs": [],
   "source": [
    "import re\n",
    "\n",
    "patron='[0-9]+'\n",
    "\n",
    "def limpieza_ba(x):\n",
    "    n_ba=0\n",
    "    \n",
    "    try:\n",
    "        n_ba=int(re.findall(patron, x)[0])\n",
    "    except:\n",
    "        n_ba=0\n",
    "        \n",
    "    return n_ba"
   ]
  },
  {
   "cell_type": "code",
   "execution_count": 73,
   "id": "b321b631",
   "metadata": {},
   "outputs": [],
   "source": [
    "def prueba_modelo(modelo):\n",
    "\n",
    "    modelo.fit(X_train, y_train)\n",
    "\n",
    "    y_pred=modelo.predict(X_test)\n",
    "\n",
    "    train_score=modelo.score(X_train, y_train)  \n",
    "    test_score=modelo.score(X_test, y_test)\n",
    "    \n",
    "    print(modelo)\n",
    "    print('Train:', train_score)\n",
    "    print('Test:', test_score) \n",
    "    print('\\n')"
   ]
  },
  {
   "cell_type": "code",
   "execution_count": 74,
   "id": "66a150b8",
   "metadata": {},
   "outputs": [],
   "source": [
    "def review_scores(df):\n",
    "    df_NAN_1 = df.copy()\n",
    "    df_NAN_2=df_NAN_1[['review_scores_rating','review_scores_checkin','review_scores_location']]\n",
    "    df_NAN_3 = df_NAN_2.apply(fill_nan)\n",
    "    df.assign(RER=df_NAN_3.review_scores_rating.values,\n",
    "              RSC=df_NAN_3.review_scores_checkin.values,\n",
    "              RSL=df_NAN_3.review_scores_location.values)\n",
    "    \n",
    "    "
   ]
  },
  {
   "cell_type": "markdown",
   "id": "6eaae90d",
   "metadata": {},
   "source": [
    "## 1.Train CSV:\n",
    "\n",
    "**Import Train Data:**"
   ]
  },
  {
   "cell_type": "code",
   "execution_count": 75,
   "id": "f46eace3",
   "metadata": {},
   "outputs": [],
   "source": [
    "df_train = pd.read_csv('data/train.csv')"
   ]
  },
  {
   "cell_type": "code",
   "execution_count": 76,
   "id": "02ea5435",
   "metadata": {},
   "outputs": [],
   "source": [
    "df_TN = df_train._get_numeric_data()"
   ]
  },
  {
   "cell_type": "code",
   "execution_count": 77,
   "id": "f64faf39",
   "metadata": {
    "scrolled": true
   },
   "outputs": [
    {
     "name": "stdout",
     "output_type": "stream",
     "text": [
      "['id', 'scrape_id', 'host_id', 'latitude', 'longitude']\n"
     ]
    }
   ],
   "source": [
    "trash_d(df_TN)"
   ]
  },
  {
   "cell_type": "code",
   "execution_count": 78,
   "id": "3ef2efa1",
   "metadata": {},
   "outputs": [
    {
     "name": "stdout",
     "output_type": "stream",
     "text": [
      "Index(['neighbourhood_group_cleansed', 'bathrooms', 'calendar_updated'], dtype='object')\n"
     ]
    }
   ],
   "source": [
    "delete_nan(df_TN)"
   ]
  },
  {
   "cell_type": "markdown",
   "id": "0fc6ad26",
   "metadata": {},
   "source": [
    "### 70% de correlacion:"
   ]
  },
  {
   "cell_type": "code",
   "execution_count": 79,
   "id": "921c1b75",
   "metadata": {},
   "outputs": [
    {
     "name": "stdout",
     "output_type": "stream",
     "text": [
      "['host_total_listings_count', 'bedrooms', 'beds', 'minimum_minimum_nights', 'maximum_minimum_nights', 'minimum_nights_avg_ntm', 'maximum_nights_avg_ntm', 'availability_60', 'availability_90', 'availability_365', 'number_of_reviews_l30d', 'review_scores_accuracy', 'review_scores_cleanliness', 'review_scores_communication', 'review_scores_value', 'reviews_per_month']\n"
     ]
    }
   ],
   "source": [
    "bin_corr_col(df_TN)"
   ]
  },
  {
   "cell_type": "code",
   "execution_count": 80,
   "id": "8be3642c",
   "metadata": {
    "scrolled": true
   },
   "outputs": [],
   "source": [
    "#sns.heatmap(df_TN.corr());"
   ]
  },
  {
   "cell_type": "markdown",
   "id": "663dc226",
   "metadata": {},
   "source": [
    "### Tratamiento de los Nan VALUES rows"
   ]
  },
  {
   "cell_type": "markdown",
   "id": "78542735",
   "metadata": {},
   "source": [
    "### Review Score Mean - Nan"
   ]
  },
  {
   "cell_type": "code",
   "execution_count": 81,
   "id": "824c03f9",
   "metadata": {},
   "outputs": [],
   "source": [
    "df_NAN_1 = df_TN[['review_scores_rating','review_scores_checkin','review_scores_location']]\n"
   ]
  },
  {
   "cell_type": "code",
   "execution_count": 82,
   "id": "c5f7b2c6",
   "metadata": {},
   "outputs": [
    {
     "name": "stdout",
     "output_type": "stream",
     "text": [
      "review_scores_rating      0\n",
      "review_scores_checkin     0\n",
      "review_scores_location    0\n",
      "dtype: int64\n"
     ]
    },
    {
     "name": "stderr",
     "output_type": "stream",
     "text": [
      "/var/folders/xt/vx2zkv116hb1jvz92s1nlr2r0000gn/T/ipykernel_52588/4126439838.py:5: SettingWithCopyWarning: \n",
      "A value is trying to be set on a copy of a slice from a DataFrame\n",
      "\n",
      "See the caveats in the documentation: https://pandas.pydata.org/pandas-docs/stable/user_guide/indexing.html#returning-a-view-versus-a-copy\n",
      "  df.fillna(round(df[i].mean(),3), inplace=True)\n"
     ]
    }
   ],
   "source": [
    "fill_nan(df_NAN_1)"
   ]
  },
  {
   "cell_type": "code",
   "execution_count": 83,
   "id": "23f80ed6",
   "metadata": {
    "scrolled": true
   },
   "outputs": [],
   "source": [
    "df_TN = df_TN.assign(RER=df_NAN_1.review_scores_rating.values,\n",
    "              RSC=df_NAN_1.review_scores_checkin.values,\n",
    "              RSL=df_NAN_1.review_scores_location.values)"
   ]
  },
  {
   "cell_type": "code",
   "execution_count": 84,
   "id": "f320a6f3",
   "metadata": {},
   "outputs": [],
   "source": [
    "cols_del = ['review_scores_rating','review_scores_checkin','review_scores_location']\n",
    "df_TN.drop(cols_del, axis=1, inplace=True)"
   ]
  },
  {
   "cell_type": "code",
   "execution_count": 85,
   "id": "d245e944",
   "metadata": {
    "scrolled": true
   },
   "outputs": [
    {
     "data": {
      "text/plain": [
       "host_listings_count                             0\n",
       "accommodates                                    0\n",
       "price                                           0\n",
       "minimum_nights                                  0\n",
       "maximum_nights                                  0\n",
       "minimum_maximum_nights                          1\n",
       "maximum_maximum_nights                          1\n",
       "availability_30                                 0\n",
       "number_of_reviews                               0\n",
       "number_of_reviews_ltm                           0\n",
       "calculated_host_listings_count                  0\n",
       "calculated_host_listings_count_entire_homes     0\n",
       "calculated_host_listings_count_private_rooms    0\n",
       "calculated_host_listings_count_shared_rooms     0\n",
       "RER                                             0\n",
       "RSC                                             0\n",
       "RSL                                             0\n",
       "dtype: int64"
      ]
     },
     "execution_count": 85,
     "metadata": {},
     "output_type": "execute_result"
    }
   ],
   "source": [
    "df_TN.isna().sum()"
   ]
  },
  {
   "cell_type": "code",
   "execution_count": 86,
   "id": "e312f2df",
   "metadata": {},
   "outputs": [],
   "source": [
    "col_del_2 =['minimum_maximum_nights','maximum_maximum_nights']"
   ]
  },
  {
   "cell_type": "code",
   "execution_count": 87,
   "id": "8d80449a",
   "metadata": {},
   "outputs": [],
   "source": [
    "df_TN.drop(col_del_2, axis=1, inplace=True)"
   ]
  },
  {
   "cell_type": "code",
   "execution_count": 88,
   "id": "bba67dee",
   "metadata": {
    "scrolled": true
   },
   "outputs": [
    {
     "data": {
      "text/plain": [
       "host_listings_count                             0\n",
       "accommodates                                    0\n",
       "price                                           0\n",
       "minimum_nights                                  0\n",
       "maximum_nights                                  0\n",
       "availability_30                                 0\n",
       "number_of_reviews                               0\n",
       "number_of_reviews_ltm                           0\n",
       "calculated_host_listings_count                  0\n",
       "calculated_host_listings_count_entire_homes     0\n",
       "calculated_host_listings_count_private_rooms    0\n",
       "calculated_host_listings_count_shared_rooms     0\n",
       "RER                                             0\n",
       "RSC                                             0\n",
       "RSL                                             0\n",
       "dtype: int64"
      ]
     },
     "execution_count": 88,
     "metadata": {},
     "output_type": "execute_result"
    }
   ],
   "source": [
    "df_TN.isna().sum()"
   ]
  },
  {
   "cell_type": "code",
   "execution_count": 89,
   "id": "b5cee7f0",
   "metadata": {
    "scrolled": true
   },
   "outputs": [
    {
     "data": {
      "text/html": [
       "<div>\n",
       "<style scoped>\n",
       "    .dataframe tbody tr th:only-of-type {\n",
       "        vertical-align: middle;\n",
       "    }\n",
       "\n",
       "    .dataframe tbody tr th {\n",
       "        vertical-align: top;\n",
       "    }\n",
       "\n",
       "    .dataframe thead th {\n",
       "        text-align: right;\n",
       "    }\n",
       "</style>\n",
       "<table border=\"1\" class=\"dataframe\">\n",
       "  <thead>\n",
       "    <tr style=\"text-align: right;\">\n",
       "      <th></th>\n",
       "      <th>host_listings_count</th>\n",
       "      <th>accommodates</th>\n",
       "      <th>price</th>\n",
       "      <th>minimum_nights</th>\n",
       "      <th>maximum_nights</th>\n",
       "      <th>availability_30</th>\n",
       "      <th>number_of_reviews</th>\n",
       "      <th>number_of_reviews_ltm</th>\n",
       "      <th>calculated_host_listings_count</th>\n",
       "      <th>calculated_host_listings_count_entire_homes</th>\n",
       "      <th>calculated_host_listings_count_private_rooms</th>\n",
       "      <th>calculated_host_listings_count_shared_rooms</th>\n",
       "      <th>RER</th>\n",
       "      <th>RSC</th>\n",
       "      <th>RSL</th>\n",
       "    </tr>\n",
       "  </thead>\n",
       "  <tbody>\n",
       "    <tr>\n",
       "      <th>0</th>\n",
       "      <td>13</td>\n",
       "      <td>3</td>\n",
       "      <td>87.0</td>\n",
       "      <td>2</td>\n",
       "      <td>1125</td>\n",
       "      <td>0</td>\n",
       "      <td>81</td>\n",
       "      <td>0</td>\n",
       "      <td>10</td>\n",
       "      <td>0</td>\n",
       "      <td>10</td>\n",
       "      <td>0</td>\n",
       "      <td>4.62</td>\n",
       "      <td>4.57</td>\n",
       "      <td>4.69</td>\n",
       "    </tr>\n",
       "    <tr>\n",
       "      <th>1</th>\n",
       "      <td>0</td>\n",
       "      <td>4</td>\n",
       "      <td>250.0</td>\n",
       "      <td>2</td>\n",
       "      <td>1125</td>\n",
       "      <td>3</td>\n",
       "      <td>9</td>\n",
       "      <td>4</td>\n",
       "      <td>1</td>\n",
       "      <td>1</td>\n",
       "      <td>0</td>\n",
       "      <td>0</td>\n",
       "      <td>5.00</td>\n",
       "      <td>4.89</td>\n",
       "      <td>5.00</td>\n",
       "    </tr>\n",
       "    <tr>\n",
       "      <th>2</th>\n",
       "      <td>20</td>\n",
       "      <td>2</td>\n",
       "      <td>151.0</td>\n",
       "      <td>1</td>\n",
       "      <td>1125</td>\n",
       "      <td>25</td>\n",
       "      <td>47</td>\n",
       "      <td>3</td>\n",
       "      <td>20</td>\n",
       "      <td>4</td>\n",
       "      <td>0</td>\n",
       "      <td>0</td>\n",
       "      <td>4.79</td>\n",
       "      <td>4.62</td>\n",
       "      <td>4.87</td>\n",
       "    </tr>\n",
       "  </tbody>\n",
       "</table>\n",
       "</div>"
      ],
      "text/plain": [
       "   host_listings_count  accommodates  price  minimum_nights  maximum_nights  \\\n",
       "0                   13             3   87.0               2            1125   \n",
       "1                    0             4  250.0               2            1125   \n",
       "2                   20             2  151.0               1            1125   \n",
       "\n",
       "   availability_30  number_of_reviews  number_of_reviews_ltm  \\\n",
       "0                0                 81                      0   \n",
       "1                3                  9                      4   \n",
       "2               25                 47                      3   \n",
       "\n",
       "   calculated_host_listings_count  \\\n",
       "0                              10   \n",
       "1                               1   \n",
       "2                              20   \n",
       "\n",
       "   calculated_host_listings_count_entire_homes  \\\n",
       "0                                            0   \n",
       "1                                            1   \n",
       "2                                            4   \n",
       "\n",
       "   calculated_host_listings_count_private_rooms  \\\n",
       "0                                            10   \n",
       "1                                             0   \n",
       "2                                             0   \n",
       "\n",
       "   calculated_host_listings_count_shared_rooms   RER   RSC   RSL  \n",
       "0                                            0  4.62  4.57  4.69  \n",
       "1                                            0  5.00  4.89  5.00  \n",
       "2                                            0  4.79  4.62  4.87  "
      ]
     },
     "execution_count": 89,
     "metadata": {},
     "output_type": "execute_result"
    }
   ],
   "source": [
    "df_TN.head(3)"
   ]
  },
  {
   "cell_type": "code",
   "execution_count": 90,
   "id": "51ea4a47",
   "metadata": {
    "scrolled": true
   },
   "outputs": [
    {
     "data": {
      "image/png": "[encoded data removed]",
      "text/plain": [
       "<Figure size 432x288 with 2 Axes>"
      ]
     },
     "metadata": {
      "needs_background": "light"
     },
     "output_type": "display_data"
    }
   ],
   "source": [
    "sns.heatmap(df_TN.corr());"
   ]
  },
  {
   "cell_type": "code",
   "execution_count": 91,
   "id": "cf849114",
   "metadata": {},
   "outputs": [],
   "source": [
    "#df_TN.fillna(1,inplace=True)"
   ]
  },
  {
   "cell_type": "markdown",
   "id": "806fd7e1",
   "metadata": {},
   "source": [
    "### Definicion de Modelo con Train: \n",
    "\n",
    "- De aqui sacamos la variabl modelo, para hacer la prediccion con el TEST!!\n",
    "\n",
    "### * Con LinReg"
   ]
  },
  {
   "cell_type": "code",
   "execution_count": 92,
   "id": "2227649e",
   "metadata": {},
   "outputs": [],
   "source": [
    "X_train, X_test, y_train, y_test = tts(df_TN.drop('price',axis=1), \n",
    "                                               df_TN.price)"
   ]
  },
  {
   "cell_type": "code",
   "execution_count": 93,
   "id": "30fb7246",
   "metadata": {},
   "outputs": [
    {
     "data": {
      "text/plain": [
       "LinearRegression()"
      ]
     },
     "execution_count": 93,
     "metadata": {},
     "output_type": "execute_result"
    }
   ],
   "source": [
    "modelo=LinReg()\n",
    "\n",
    "modelo.fit(X_train, y_train)"
   ]
  },
  {
   "cell_type": "code",
   "execution_count": 94,
   "id": "e2df170c",
   "metadata": {},
   "outputs": [],
   "source": [
    "### 1.3.1 R2"
   ]
  },
  {
   "cell_type": "code",
   "execution_count": 95,
   "id": "5df6b62a",
   "metadata": {
    "scrolled": true
   },
   "outputs": [
    {
     "data": {
      "text/plain": [
       "0.09490737744439459"
      ]
     },
     "execution_count": 95,
     "metadata": {},
     "output_type": "execute_result"
    }
   ],
   "source": [
    "modelo.score(X_test, y_test)# R2 cuanto mas cercano a 1 mejor "
   ]
  },
  {
   "cell_type": "code",
   "execution_count": 96,
   "id": "2cb43efb",
   "metadata": {},
   "outputs": [
    {
     "data": {
      "text/plain": [
       "(1042,)"
      ]
     },
     "execution_count": 96,
     "metadata": {},
     "output_type": "execute_result"
    }
   ],
   "source": [
    "y_pred=modelo.predict(X_test)\n",
    "y_pred.shape"
   ]
  },
  {
   "cell_type": "markdown",
   "id": "16734b2a",
   "metadata": {},
   "source": [
    "### 1.3.2 MSE (Mean Squared Error)"
   ]
  },
  {
   "cell_type": "code",
   "execution_count": 97,
   "id": "ab10ea14",
   "metadata": {
    "scrolled": true
   },
   "outputs": [
    {
     "data": {
      "text/plain": [
       "212.38122134286493"
      ]
     },
     "execution_count": 97,
     "metadata": {},
     "output_type": "execute_result"
    }
   ],
   "source": [
    "mse(y_pred, y_test, squared=False)"
   ]
  },
  {
   "cell_type": "markdown",
   "id": "825d43b7",
   "metadata": {},
   "source": [
    "### Feature importances with a forest of trees"
   ]
  },
  {
   "cell_type": "code",
   "execution_count": 98,
   "id": "8bf4f5ad",
   "metadata": {},
   "outputs": [],
   "source": [
    "X, y = make_classification(\n",
    "    n_samples=1000,\n",
    "    n_features=11,\n",
    "    n_informative=3,\n",
    "    n_redundant=0,\n",
    "    n_repeated=0,\n",
    "    n_classes=2,\n",
    "    random_state=0,\n",
    "    shuffle=False,)\n",
    "X_train, X_test, y_train, y_test = train_test_split(X, y, stratify=y, random_state=42)"
   ]
  },
  {
   "cell_type": "code",
   "execution_count": 99,
   "id": "dd3602e3",
   "metadata": {},
   "outputs": [
    {
     "data": {
      "text/plain": [
       "RandomForestClassifier(random_state=0)"
      ]
     },
     "execution_count": 99,
     "metadata": {},
     "output_type": "execute_result"
    }
   ],
   "source": [
    "from sklearn.ensemble import RandomForestClassifier\n",
    "\n",
    "feature_names = [f\"feature {i}\" for i in range(X.shape[1])]\n",
    "forest = RandomForestClassifier(random_state=0)\n",
    "forest.fit(X_train, y_train)"
   ]
  },
  {
   "cell_type": "code",
   "execution_count": 100,
   "id": "3b686bbf",
   "metadata": {},
   "outputs": [
    {
     "name": "stdout",
     "output_type": "stream",
     "text": [
      "Elapsed time to compute the importances: 0.010 seconds\n"
     ]
    }
   ],
   "source": [
    "start_time = time.time()\n",
    "importances = forest.feature_importances_\n",
    "std = np.std([tree.feature_importances_ for tree in forest.estimators_], axis=0)\n",
    "elapsed_time = time.time() - start_time\n",
    "\n",
    "print(f\"Elapsed time to compute the importances: {elapsed_time:.3f} seconds\")"
   ]
  },
  {
   "cell_type": "code",
   "execution_count": 101,
   "id": "0e206699",
   "metadata": {
    "scrolled": false
   },
   "outputs": [
    {
     "data": {
      "image/png": "[encoded data removed]",
      "text/plain": [
       "<Figure size 432x288 with 1 Axes>"
      ]
     },
     "metadata": {
      "needs_background": "light"
     },
     "output_type": "display_data"
    }
   ],
   "source": [
    "forest_importances = pd.Series(importances, index=feature_names)\n",
    "\n",
    "fig, ax = plt.subplots()\n",
    "forest_importances.plot.bar(yerr=std, ax=ax)\n",
    "ax.set_title(\"Feature importances using MDI\")\n",
    "ax.set_ylabel(\"Mean decrease in impurity\")\n",
    "fig.tight_layout()"
   ]
  },
  {
   "cell_type": "code",
   "execution_count": 102,
   "id": "edcd24f6",
   "metadata": {
    "scrolled": true
   },
   "outputs": [
    {
     "data": {
      "text/html": [
       "<div>\n",
       "<style scoped>\n",
       "    .dataframe tbody tr th:only-of-type {\n",
       "        vertical-align: middle;\n",
       "    }\n",
       "\n",
       "    .dataframe tbody tr th {\n",
       "        vertical-align: top;\n",
       "    }\n",
       "\n",
       "    .dataframe thead th {\n",
       "        text-align: right;\n",
       "    }\n",
       "</style>\n",
       "<table border=\"1\" class=\"dataframe\">\n",
       "  <thead>\n",
       "    <tr style=\"text-align: right;\">\n",
       "      <th></th>\n",
       "      <th>host_listings_count</th>\n",
       "      <th>accommodates</th>\n",
       "      <th>price</th>\n",
       "      <th>minimum_nights</th>\n",
       "      <th>maximum_nights</th>\n",
       "      <th>availability_30</th>\n",
       "      <th>number_of_reviews</th>\n",
       "      <th>number_of_reviews_ltm</th>\n",
       "      <th>calculated_host_listings_count</th>\n",
       "      <th>calculated_host_listings_count_entire_homes</th>\n",
       "      <th>calculated_host_listings_count_private_rooms</th>\n",
       "      <th>calculated_host_listings_count_shared_rooms</th>\n",
       "      <th>RER</th>\n",
       "      <th>RSC</th>\n",
       "      <th>RSL</th>\n",
       "    </tr>\n",
       "  </thead>\n",
       "  <tbody>\n",
       "    <tr>\n",
       "      <th>0</th>\n",
       "      <td>13</td>\n",
       "      <td>3</td>\n",
       "      <td>87.0</td>\n",
       "      <td>2</td>\n",
       "      <td>1125</td>\n",
       "      <td>0</td>\n",
       "      <td>81</td>\n",
       "      <td>0</td>\n",
       "      <td>10</td>\n",
       "      <td>0</td>\n",
       "      <td>10</td>\n",
       "      <td>0</td>\n",
       "      <td>4.62</td>\n",
       "      <td>4.57</td>\n",
       "      <td>4.69</td>\n",
       "    </tr>\n",
       "    <tr>\n",
       "      <th>1</th>\n",
       "      <td>0</td>\n",
       "      <td>4</td>\n",
       "      <td>250.0</td>\n",
       "      <td>2</td>\n",
       "      <td>1125</td>\n",
       "      <td>3</td>\n",
       "      <td>9</td>\n",
       "      <td>4</td>\n",
       "      <td>1</td>\n",
       "      <td>1</td>\n",
       "      <td>0</td>\n",
       "      <td>0</td>\n",
       "      <td>5.00</td>\n",
       "      <td>4.89</td>\n",
       "      <td>5.00</td>\n",
       "    </tr>\n",
       "    <tr>\n",
       "      <th>2</th>\n",
       "      <td>20</td>\n",
       "      <td>2</td>\n",
       "      <td>151.0</td>\n",
       "      <td>1</td>\n",
       "      <td>1125</td>\n",
       "      <td>25</td>\n",
       "      <td>47</td>\n",
       "      <td>3</td>\n",
       "      <td>20</td>\n",
       "      <td>4</td>\n",
       "      <td>0</td>\n",
       "      <td>0</td>\n",
       "      <td>4.79</td>\n",
       "      <td>4.62</td>\n",
       "      <td>4.87</td>\n",
       "    </tr>\n",
       "    <tr>\n",
       "      <th>3</th>\n",
       "      <td>1</td>\n",
       "      <td>2</td>\n",
       "      <td>139.0</td>\n",
       "      <td>2</td>\n",
       "      <td>30</td>\n",
       "      <td>0</td>\n",
       "      <td>10</td>\n",
       "      <td>3</td>\n",
       "      <td>1</td>\n",
       "      <td>1</td>\n",
       "      <td>0</td>\n",
       "      <td>0</td>\n",
       "      <td>5.00</td>\n",
       "      <td>5.00</td>\n",
       "      <td>4.90</td>\n",
       "    </tr>\n",
       "    <tr>\n",
       "      <th>4</th>\n",
       "      <td>1</td>\n",
       "      <td>2</td>\n",
       "      <td>95.0</td>\n",
       "      <td>2</td>\n",
       "      <td>7</td>\n",
       "      <td>18</td>\n",
       "      <td>166</td>\n",
       "      <td>1</td>\n",
       "      <td>1</td>\n",
       "      <td>0</td>\n",
       "      <td>1</td>\n",
       "      <td>0</td>\n",
       "      <td>4.67</td>\n",
       "      <td>4.95</td>\n",
       "      <td>4.49</td>\n",
       "    </tr>\n",
       "  </tbody>\n",
       "</table>\n",
       "</div>"
      ],
      "text/plain": [
       "   host_listings_count  accommodates  price  minimum_nights  maximum_nights  \\\n",
       "0                   13             3   87.0               2            1125   \n",
       "1                    0             4  250.0               2            1125   \n",
       "2                   20             2  151.0               1            1125   \n",
       "3                    1             2  139.0               2              30   \n",
       "4                    1             2   95.0               2               7   \n",
       "\n",
       "   availability_30  number_of_reviews  number_of_reviews_ltm  \\\n",
       "0                0                 81                      0   \n",
       "1                3                  9                      4   \n",
       "2               25                 47                      3   \n",
       "3                0                 10                      3   \n",
       "4               18                166                      1   \n",
       "\n",
       "   calculated_host_listings_count  \\\n",
       "0                              10   \n",
       "1                               1   \n",
       "2                              20   \n",
       "3                               1   \n",
       "4                               1   \n",
       "\n",
       "   calculated_host_listings_count_entire_homes  \\\n",
       "0                                            0   \n",
       "1                                            1   \n",
       "2                                            4   \n",
       "3                                            1   \n",
       "4                                            0   \n",
       "\n",
       "   calculated_host_listings_count_private_rooms  \\\n",
       "0                                            10   \n",
       "1                                             0   \n",
       "2                                             0   \n",
       "3                                             0   \n",
       "4                                             1   \n",
       "\n",
       "   calculated_host_listings_count_shared_rooms   RER   RSC   RSL  \n",
       "0                                            0  4.62  4.57  4.69  \n",
       "1                                            0  5.00  4.89  5.00  \n",
       "2                                            0  4.79  4.62  4.87  \n",
       "3                                            0  5.00  5.00  4.90  \n",
       "4                                            0  4.67  4.95  4.49  "
      ]
     },
     "execution_count": 102,
     "metadata": {},
     "output_type": "execute_result"
    }
   ],
   "source": [
    "df_TN.head()"
   ]
  },
  {
   "cell_type": "markdown",
   "id": "d3e7d765",
   "metadata": {},
   "source": [
    "**OBSERVACIONES:**\n",
    "\n",
    "* 'accommodates','number_of_reviews','maximum_nights','minimum_nights','host_listings_count','price'\n",
    "- 0.25277297410351574\n",
    "*  * 'accommodates','number_of_reviews','maximum_nights','minimum_nights','host_listings_count','price','availability_30'\n",
    "-ecm - 108\n",
    "\n",
    "\n",
    "columnas objetivo:\n",
    "\n",
    "- number_of_reviews\n",
    "- bathrooms\n",
    "- host_listings_count\n",
    "- minimum_nights\n",
    "- maximum_nights\n",
    "- number_of_reviews\n",
    "- accommodates\n",
    "- Price\n",
    "['accommodates','number_of_reviews','maximum_nights','minimum_nights','host_listings_count','price']\n",
    "\n",
    "- property_type\t\n",
    "- room_type\n",
    "- property_type_Other\n",
    "\n"
   ]
  },
  {
   "cell_type": "code",
   "execution_count": 170,
   "id": "780b2a5d",
   "metadata": {},
   "outputs": [],
   "source": [
    "df_TN_1 = df_TN[['accommodates','number_of_reviews','maximum_nights','minimum_nights','host_listings_count','price','availability_30']]"
   ]
  },
  {
   "cell_type": "code",
   "execution_count": 171,
   "id": "95ec9aed",
   "metadata": {},
   "outputs": [],
   "source": [
    "#df_TN_1['bathrooms']= df_train.bathrooms_text.apply(limpieza_ba)"
   ]
  },
  {
   "cell_type": "code",
   "execution_count": 172,
   "id": "155b9037",
   "metadata": {
    "scrolled": true
   },
   "outputs": [
    {
     "data": {
      "text/html": [
       "<div>\n",
       "<style scoped>\n",
       "    .dataframe tbody tr th:only-of-type {\n",
       "        vertical-align: middle;\n",
       "    }\n",
       "\n",
       "    .dataframe tbody tr th {\n",
       "        vertical-align: top;\n",
       "    }\n",
       "\n",
       "    .dataframe thead th {\n",
       "        text-align: right;\n",
       "    }\n",
       "</style>\n",
       "<table border=\"1\" class=\"dataframe\">\n",
       "  <thead>\n",
       "    <tr style=\"text-align: right;\">\n",
       "      <th></th>\n",
       "      <th>accommodates</th>\n",
       "      <th>number_of_reviews</th>\n",
       "      <th>maximum_nights</th>\n",
       "      <th>minimum_nights</th>\n",
       "      <th>host_listings_count</th>\n",
       "      <th>price</th>\n",
       "      <th>availability_30</th>\n",
       "    </tr>\n",
       "  </thead>\n",
       "  <tbody>\n",
       "    <tr>\n",
       "      <th>0</th>\n",
       "      <td>3</td>\n",
       "      <td>81</td>\n",
       "      <td>1125</td>\n",
       "      <td>2</td>\n",
       "      <td>13</td>\n",
       "      <td>87.0</td>\n",
       "      <td>0</td>\n",
       "    </tr>\n",
       "    <tr>\n",
       "      <th>1</th>\n",
       "      <td>4</td>\n",
       "      <td>9</td>\n",
       "      <td>1125</td>\n",
       "      <td>2</td>\n",
       "      <td>0</td>\n",
       "      <td>250.0</td>\n",
       "      <td>3</td>\n",
       "    </tr>\n",
       "    <tr>\n",
       "      <th>2</th>\n",
       "      <td>2</td>\n",
       "      <td>47</td>\n",
       "      <td>1125</td>\n",
       "      <td>1</td>\n",
       "      <td>20</td>\n",
       "      <td>151.0</td>\n",
       "      <td>25</td>\n",
       "    </tr>\n",
       "    <tr>\n",
       "      <th>3</th>\n",
       "      <td>2</td>\n",
       "      <td>10</td>\n",
       "      <td>30</td>\n",
       "      <td>2</td>\n",
       "      <td>1</td>\n",
       "      <td>139.0</td>\n",
       "      <td>0</td>\n",
       "    </tr>\n",
       "    <tr>\n",
       "      <th>4</th>\n",
       "      <td>2</td>\n",
       "      <td>166</td>\n",
       "      <td>7</td>\n",
       "      <td>2</td>\n",
       "      <td>1</td>\n",
       "      <td>95.0</td>\n",
       "      <td>18</td>\n",
       "    </tr>\n",
       "  </tbody>\n",
       "</table>\n",
       "</div>"
      ],
      "text/plain": [
       "   accommodates  number_of_reviews  maximum_nights  minimum_nights  \\\n",
       "0             3                 81            1125               2   \n",
       "1             4                  9            1125               2   \n",
       "2             2                 47            1125               1   \n",
       "3             2                 10              30               2   \n",
       "4             2                166               7               2   \n",
       "\n",
       "   host_listings_count  price  availability_30  \n",
       "0                   13   87.0                0  \n",
       "1                    0  250.0                3  \n",
       "2                   20  151.0               25  \n",
       "3                    1  139.0                0  \n",
       "4                    1   95.0               18  "
      ]
     },
     "execution_count": 172,
     "metadata": {},
     "output_type": "execute_result"
    }
   ],
   "source": [
    "df_TN_1.head()"
   ]
  },
  {
   "cell_type": "code",
   "execution_count": 173,
   "id": "d4c671b4",
   "metadata": {},
   "outputs": [
    {
     "data": {
      "image/png": "[encoded data removed]",
      "text/plain": [
       "<Figure size 432x288 with 2 Axes>"
      ]
     },
     "metadata": {
      "needs_background": "light"
     },
     "output_type": "display_data"
    }
   ],
   "source": [
    "sns.heatmap(df_TN_1.corr());"
   ]
  },
  {
   "cell_type": "markdown",
   "id": "623ed87f",
   "metadata": {},
   "source": [
    "### Definicion de Modelo con Train: \n",
    "\n",
    "- De aqui sacamos la variabl modelo, para hacer la prediccion con el TEST!!\n",
    "\n",
    "### * Con LinReg"
   ]
  },
  {
   "cell_type": "code",
   "execution_count": 174,
   "id": "3069f5cc",
   "metadata": {},
   "outputs": [],
   "source": [
    "X_train, X_test, y_train, y_test = tts(df_TN_1.drop('price',axis=1), \n",
    "                                               df_TN_1.price)"
   ]
  },
  {
   "cell_type": "code",
   "execution_count": 175,
   "id": "4c1b2268",
   "metadata": {},
   "outputs": [
    {
     "data": {
      "text/plain": [
       "LinearRegression()"
      ]
     },
     "execution_count": 175,
     "metadata": {},
     "output_type": "execute_result"
    }
   ],
   "source": [
    "modelo=LinReg()\n",
    "\n",
    "modelo.fit(X_train, y_train)"
   ]
  },
  {
   "cell_type": "code",
   "execution_count": 176,
   "id": "0c1081ca",
   "metadata": {},
   "outputs": [],
   "source": [
    "### 1.3.1 R2"
   ]
  },
  {
   "cell_type": "code",
   "execution_count": 177,
   "id": "071b790d",
   "metadata": {
    "scrolled": true
   },
   "outputs": [
    {
     "data": {
      "text/plain": [
       "0.34911011397702374"
      ]
     },
     "execution_count": 177,
     "metadata": {},
     "output_type": "execute_result"
    }
   ],
   "source": [
    "modelo.score(X_test, y_test)# R2 cuanto mas cercano a 1 mejor "
   ]
  },
  {
   "cell_type": "code",
   "execution_count": 178,
   "id": "84c6cab3",
   "metadata": {},
   "outputs": [
    {
     "data": {
      "text/plain": [
       "(1042,)"
      ]
     },
     "execution_count": 178,
     "metadata": {},
     "output_type": "execute_result"
    }
   ],
   "source": [
    "y_pred=modelo.predict(X_test)\n",
    "y_pred.shape"
   ]
  },
  {
   "cell_type": "markdown",
   "id": "9a4a45da",
   "metadata": {},
   "source": [
    "### 1.3.2 MSE (Mean Squared Error)"
   ]
  },
  {
   "cell_type": "code",
   "execution_count": 179,
   "id": "59b89eb7",
   "metadata": {
    "scrolled": true
   },
   "outputs": [
    {
     "data": {
      "text/plain": [
       "91.91566841255616"
      ]
     },
     "execution_count": 179,
     "metadata": {},
     "output_type": "execute_result"
    }
   ],
   "source": [
    "mse(y_pred, y_test, squared=False)"
   ]
  },
  {
   "cell_type": "markdown",
   "id": "fa840f9f",
   "metadata": {},
   "source": [
    "### Feature importances with a forest of trees"
   ]
  },
  {
   "cell_type": "code",
   "execution_count": 113,
   "id": "add23692",
   "metadata": {},
   "outputs": [],
   "source": [
    "X, y = make_classification(\n",
    "    n_samples=100,\n",
    "    n_features=6,\n",
    "    n_informative=3,\n",
    "    n_redundant=0,\n",
    "    n_repeated=0,\n",
    "    n_classes=2,\n",
    "    random_state=0,\n",
    "    shuffle=False,)\n",
    "X_train, X_test, y_train, y_test = train_test_split(X, y, stratify=y, random_state=42)"
   ]
  },
  {
   "cell_type": "code",
   "execution_count": 114,
   "id": "04edaf84",
   "metadata": {},
   "outputs": [
    {
     "data": {
      "text/plain": [
       "RandomForestClassifier(random_state=0)"
      ]
     },
     "execution_count": 114,
     "metadata": {},
     "output_type": "execute_result"
    }
   ],
   "source": [
    "\n",
    "\n",
    "feature_names = [f\"feature {i}\" for i in range(X.shape[1])]\n",
    "forest = RandomForestClassifier(random_state=0)\n",
    "forest.fit(X_train, y_train)"
   ]
  },
  {
   "cell_type": "code",
   "execution_count": 115,
   "id": "f7d4d8a9",
   "metadata": {},
   "outputs": [
    {
     "name": "stdout",
     "output_type": "stream",
     "text": [
      "Elapsed time to compute the importances: 0.073 seconds\n"
     ]
    }
   ],
   "source": [
    "start_time = time.time()\n",
    "importances = forest.feature_importances_\n",
    "std = np.std([tree.feature_importances_ for tree in forest.estimators_], axis=0)\n",
    "elapsed_time = time.time() - start_time\n",
    "\n",
    "print(f\"Elapsed time to compute the importances: {elapsed_time:.3f} seconds\")"
   ]
  },
  {
   "cell_type": "code",
   "execution_count": 116,
   "id": "ca350d35",
   "metadata": {
    "scrolled": true
   },
   "outputs": [
    {
     "data": {
      "image/png": "[encoded data removed]",
      "text/plain": [
       "<Figure size 432x288 with 1 Axes>"
      ]
     },
     "metadata": {
      "needs_background": "light"
     },
     "output_type": "display_data"
    }
   ],
   "source": [
    "forest_importances = pd.Series(importances, index=feature_names)\n",
    "\n",
    "fig, ax = plt.subplots()\n",
    "forest_importances.plot.bar(yerr=std, ax=ax)\n",
    "ax.set_title(\"Feature importances using MDI\")\n",
    "ax.set_ylabel(\"Mean decrease in impurity\")\n",
    "fig.tight_layout()"
   ]
  },
  {
   "cell_type": "code",
   "execution_count": null,
   "id": "eac9809c",
   "metadata": {},
   "outputs": [],
   "source": []
  },
  {
   "cell_type": "markdown",
   "id": "71d33656",
   "metadata": {},
   "source": [
    "### 2. Modelo Train Data:"
   ]
  },
  {
   "cell_type": "code",
   "execution_count": 117,
   "id": "7bcb76cf",
   "metadata": {},
   "outputs": [],
   "source": [
    "X=df_TN_1.drop('price', axis=1)\n",
    "y=df_TN_1.price"
   ]
  },
  {
   "cell_type": "code",
   "execution_count": 142,
   "id": "af5b487b",
   "metadata": {},
   "outputs": [],
   "source": [
    "X_train, X_test, y_train, y_test = tts(X, y, \n",
    "                                       test_size=0.40, random_state=42)"
   ]
  },
  {
   "cell_type": "code",
   "execution_count": 143,
   "id": "cd22a8e3",
   "metadata": {
    "scrolled": false
   },
   "outputs": [
    {
     "name": "stdout",
     "output_type": "stream",
     "text": [
      "LinearRegression()\n",
      "Train: 0.13190210547574577\n",
      "Test: 0.10135270745850111\n",
      "\n",
      "\n",
      "SGDClassifier()\n",
      "Train: 0.01\n",
      "Test: 0.004799040191961607\n",
      "\n",
      "\n",
      "RandomForestRegressor()\n",
      "Train: 0.7908084363802863\n",
      "Test: -0.1732900220308322\n",
      "\n",
      "\n"
     ]
    }
   ],
   "source": [
    "modelos=[LinReg(),SGDC(),RFR()]\n",
    "\n",
    "for m in modelos:\n",
    "    prueba_modelo(m)"
   ]
  },
  {
   "cell_type": "markdown",
   "id": "2c1f9836",
   "metadata": {},
   "source": [
    "**RANDOM FOREST REGRESSOR**"
   ]
  },
  {
   "cell_type": "code",
   "execution_count": 138,
   "id": "7720f474",
   "metadata": {},
   "outputs": [
    {
     "data": {
      "text/plain": [
       "RandomForestRegressor()"
      ]
     },
     "execution_count": 138,
     "metadata": {},
     "output_type": "execute_result"
    }
   ],
   "source": [
    "modelo_RFR = RFR()\n",
    "\n",
    "modelo_RFR.fit(X_train, y_train)\n"
   ]
  },
  {
   "cell_type": "code",
   "execution_count": 139,
   "id": "e30c0410",
   "metadata": {},
   "outputs": [
    {
     "data": {
      "text/plain": [
       "-0.45849131458419334"
      ]
     },
     "execution_count": 139,
     "metadata": {},
     "output_type": "execute_result"
    }
   ],
   "source": [
    "modelo_RFR.score(X_test, y_test)"
   ]
  },
  {
   "cell_type": "code",
   "execution_count": 140,
   "id": "d4501099",
   "metadata": {},
   "outputs": [],
   "source": [
    "y_pred=modelo_RFR.predict(X_test)"
   ]
  },
  {
   "cell_type": "code",
   "execution_count": 141,
   "id": "d96bcc7b",
   "metadata": {},
   "outputs": [
    {
     "data": {
      "text/plain": [
       "219.85968221627692"
      ]
     },
     "execution_count": 141,
     "metadata": {},
     "output_type": "execute_result"
    }
   ],
   "source": [
    "mse(y_pred, y_test, squared=False)"
   ]
  },
  {
   "cell_type": "markdown",
   "id": "3ae8a8c6",
   "metadata": {},
   "source": [
    "## NO TOCAR!!!"
   ]
  },
  {
   "cell_type": "code",
   "execution_count": null,
   "id": "07c68cd8",
   "metadata": {},
   "outputs": [],
   "source": [
    "'''n_estimators = [1, 2, 4, 8, 16, 32, 64, 100, 200]\n",
    "for estimator in n_estimators:\n",
    "    modelo = RFR(n_estimators=estimator, n_jobs=-1)\n",
    "    modelo.fit(X_train, y_train)\n",
    "    train_pred = rf.predict(X_train)'''\n",
    "    \n",
    "      "
   ]
  },
  {
   "cell_type": "markdown",
   "id": "9a8a4264",
   "metadata": {},
   "source": [
    "* RFR Parameters\n",
    "\n",
    "bootstrap=True,\n",
    "max_depth=None, max_features='auto', max_leaf_nodes=None, min_samples_leaf=1,\n",
    "min_samples_split=2, min_weight_fraction_leaf=0.0,\n",
    "n_estimators=10, n_jobs=1, oob_score=False, random_state=None,\n",
    "verbose=0, warm_start=False"
   ]
  },
  {
   "cell_type": "markdown",
   "id": "19a17a01",
   "metadata": {},
   "source": [
    "## NO TOCAR!!!"
   ]
  },
  {
   "cell_type": "markdown",
   "id": "ea004a81",
   "metadata": {},
   "source": [
    "## Observaciones:"
   ]
  },
  {
   "cell_type": "markdown",
   "id": "79355f54",
   "metadata": {},
   "source": [
    "Observaciones: \n",
    "\n",
    "Prueba_1:\n",
    "- get numeric\n",
    "- trash_d()\n",
    "- delete_nan()\n",
    "- df_test.assign\n",
    "\n",
    "**Result:**\n",
    "\n",
    "    *LinearRegression()\n",
    "    Train: 0.37710208858587135\n",
    "    Test: 0.43879805502855285\n",
    "    \n",
    "    *RandomForestRegressor()\n",
    "    Train: 0.9121256146108578\n",
    "    Test: 0.45649570390552463\n",
    "    \n",
    "    *SGDClassifier()\n",
    "    Train: 0.01098901098901099\n",
    "    Test: 0.0038910505836575876"
   ]
  },
  {
   "cell_type": "markdown",
   "id": "1b84da66",
   "metadata": {},
   "source": [
    "## 2. Test CSV:"
   ]
  },
  {
   "cell_type": "code",
   "execution_count": 180,
   "id": "8d4b6166",
   "metadata": {},
   "outputs": [],
   "source": [
    "df_ts=pd.read_csv('data/test.csv')"
   ]
  },
  {
   "cell_type": "code",
   "execution_count": 181,
   "id": "3f79c130",
   "metadata": {},
   "outputs": [],
   "source": [
    "df_test= df_ts._get_numeric_data()"
   ]
  },
  {
   "cell_type": "code",
   "execution_count": 182,
   "id": "924a7a80",
   "metadata": {
    "scrolled": true
   },
   "outputs": [
    {
     "name": "stdout",
     "output_type": "stream",
     "text": [
      "['id', 'scrape_id', 'host_id', 'latitude', 'longitude']\n"
     ]
    }
   ],
   "source": [
    "trash_d(df_test)"
   ]
  },
  {
   "cell_type": "code",
   "execution_count": 183,
   "id": "31ab530b",
   "metadata": {
    "scrolled": false
   },
   "outputs": [
    {
     "name": "stdout",
     "output_type": "stream",
     "text": [
      "Index(['neighbourhood_group_cleansed', 'bathrooms', 'calendar_updated'], dtype='object')\n"
     ]
    }
   ],
   "source": [
    "delete_nan(df_test)"
   ]
  },
  {
   "cell_type": "markdown",
   "id": "6cf10210",
   "metadata": {},
   "source": [
    "### 70% de correlacion:"
   ]
  },
  {
   "cell_type": "code",
   "execution_count": 186,
   "id": "804faff0",
   "metadata": {},
   "outputs": [
    {
     "name": "stdout",
     "output_type": "stream",
     "text": [
      "['host_total_listings_count', 'beds', 'minimum_minimum_nights', 'maximum_minimum_nights', 'minimum_nights_avg_ntm', 'maximum_nights_avg_ntm', 'availability_60', 'availability_90', 'availability_365', 'number_of_reviews_l30d', 'review_scores_accuracy']\n"
     ]
    }
   ],
   "source": [
    "bin_corr_col(df_test)"
   ]
  },
  {
   "cell_type": "code",
   "execution_count": 187,
   "id": "9e23cb33",
   "metadata": {
    "scrolled": true
   },
   "outputs": [],
   "source": [
    "#sns.heatmap(df_TN.corr());"
   ]
  },
  {
   "cell_type": "markdown",
   "id": "33c70fa0",
   "metadata": {},
   "source": [
    "### Tratamiento de los Nan VALUES rows"
   ]
  },
  {
   "cell_type": "markdown",
   "id": "629155b0",
   "metadata": {},
   "source": [
    "### Review Score Mean - Nan"
   ]
  },
  {
   "cell_type": "code",
   "execution_count": 188,
   "id": "5d0c4eff",
   "metadata": {},
   "outputs": [],
   "source": [
    "df_NAN_1 = df_ts[['review_scores_rating','review_scores_checkin','review_scores_location']]\n"
   ]
  },
  {
   "cell_type": "code",
   "execution_count": 189,
   "id": "ab658a5c",
   "metadata": {},
   "outputs": [
    {
     "name": "stdout",
     "output_type": "stream",
     "text": [
      "review_scores_rating      0\n",
      "review_scores_checkin     0\n",
      "review_scores_location    0\n",
      "dtype: int64\n"
     ]
    },
    {
     "name": "stderr",
     "output_type": "stream",
     "text": [
      "/var/folders/xt/vx2zkv116hb1jvz92s1nlr2r0000gn/T/ipykernel_52588/4126439838.py:5: SettingWithCopyWarning: \n",
      "A value is trying to be set on a copy of a slice from a DataFrame\n",
      "\n",
      "See the caveats in the documentation: https://pandas.pydata.org/pandas-docs/stable/user_guide/indexing.html#returning-a-view-versus-a-copy\n",
      "  df.fillna(round(df[i].mean(),3), inplace=True)\n"
     ]
    }
   ],
   "source": [
    "fill_nan(df_NAN_1)"
   ]
  },
  {
   "cell_type": "code",
   "execution_count": 190,
   "id": "3aaf10d7",
   "metadata": {
    "scrolled": true
   },
   "outputs": [],
   "source": [
    "df_test = df_test.assign(RER=df_NAN_1.review_scores_rating.values,\n",
    "              RSC=df_NAN_1.review_scores_checkin.values,\n",
    "              RSL=df_NAN_1.review_scores_location.values)"
   ]
  },
  {
   "cell_type": "code",
   "execution_count": 191,
   "id": "2da693bb",
   "metadata": {},
   "outputs": [],
   "source": [
    "cols_del = ['review_scores_rating','review_scores_checkin','review_scores_location','review_scores_cleanliness','review_scores_communication','review_scores_value','bedrooms','reviews_per_month']\n",
    "df_test.drop(cols_del, axis=1, inplace=True)"
   ]
  },
  {
   "cell_type": "code",
   "execution_count": 192,
   "id": "876413e5",
   "metadata": {
    "scrolled": true
   },
   "outputs": [
    {
     "data": {
      "text/plain": [
       "host_listings_count                             0\n",
       "accommodates                                    0\n",
       "minimum_nights                                  0\n",
       "maximum_nights                                  0\n",
       "minimum_maximum_nights                          0\n",
       "maximum_maximum_nights                          0\n",
       "availability_30                                 0\n",
       "number_of_reviews                               0\n",
       "number_of_reviews_ltm                           0\n",
       "calculated_host_listings_count                  0\n",
       "calculated_host_listings_count_entire_homes     0\n",
       "calculated_host_listings_count_private_rooms    0\n",
       "calculated_host_listings_count_shared_rooms     0\n",
       "RER                                             0\n",
       "RSC                                             0\n",
       "RSL                                             0\n",
       "dtype: int64"
      ]
     },
     "execution_count": 192,
     "metadata": {},
     "output_type": "execute_result"
    }
   ],
   "source": [
    "df_test.isna().sum()"
   ]
  },
  {
   "cell_type": "code",
   "execution_count": 193,
   "id": "4a5e59bd",
   "metadata": {},
   "outputs": [],
   "source": [
    "col_del_2 =['minimum_maximum_nights','maximum_maximum_nights']"
   ]
  },
  {
   "cell_type": "code",
   "execution_count": 194,
   "id": "4f024ed8",
   "metadata": {},
   "outputs": [],
   "source": [
    "df_test.drop(col_del_2, axis=1, inplace=True)"
   ]
  },
  {
   "cell_type": "code",
   "execution_count": 196,
   "id": "56bd06ab",
   "metadata": {},
   "outputs": [
    {
     "data": {
      "text/plain": [
       "(1389, 14)"
      ]
     },
     "execution_count": 196,
     "metadata": {},
     "output_type": "execute_result"
    }
   ],
   "source": [
    "df_test.shape"
   ]
  },
  {
   "cell_type": "code",
   "execution_count": 197,
   "id": "9cd23e53",
   "metadata": {
    "scrolled": true
   },
   "outputs": [
    {
     "data": {
      "text/plain": [
       "host_listings_count                             0\n",
       "accommodates                                    0\n",
       "price                                           0\n",
       "minimum_nights                                  0\n",
       "maximum_nights                                  0\n",
       "availability_30                                 0\n",
       "number_of_reviews                               0\n",
       "number_of_reviews_ltm                           0\n",
       "calculated_host_listings_count                  0\n",
       "calculated_host_listings_count_entire_homes     0\n",
       "calculated_host_listings_count_private_rooms    0\n",
       "calculated_host_listings_count_shared_rooms     0\n",
       "RER                                             0\n",
       "RSC                                             0\n",
       "RSL                                             0\n",
       "dtype: int64"
      ]
     },
     "execution_count": 197,
     "metadata": {},
     "output_type": "execute_result"
    }
   ],
   "source": [
    "df_TN.isna().sum()"
   ]
  },
  {
   "cell_type": "code",
   "execution_count": 195,
   "id": "5faee7c1",
   "metadata": {
    "scrolled": true
   },
   "outputs": [
    {
     "data": {
      "text/plain": [
       "host_listings_count                             0\n",
       "accommodates                                    0\n",
       "minimum_nights                                  0\n",
       "maximum_nights                                  0\n",
       "availability_30                                 0\n",
       "number_of_reviews                               0\n",
       "number_of_reviews_ltm                           0\n",
       "calculated_host_listings_count                  0\n",
       "calculated_host_listings_count_entire_homes     0\n",
       "calculated_host_listings_count_private_rooms    0\n",
       "calculated_host_listings_count_shared_rooms     0\n",
       "RER                                             0\n",
       "RSC                                             0\n",
       "RSL                                             0\n",
       "dtype: int64"
      ]
     },
     "execution_count": 195,
     "metadata": {},
     "output_type": "execute_result"
    }
   ],
   "source": [
    "df_test.isna().sum()"
   ]
  },
  {
   "cell_type": "code",
   "execution_count": 198,
   "id": "9c29bb73",
   "metadata": {},
   "outputs": [
    {
     "data": {
      "text/html": [
       "<div>\n",
       "<style scoped>\n",
       "    .dataframe tbody tr th:only-of-type {\n",
       "        vertical-align: middle;\n",
       "    }\n",
       "\n",
       "    .dataframe tbody tr th {\n",
       "        vertical-align: top;\n",
       "    }\n",
       "\n",
       "    .dataframe thead th {\n",
       "        text-align: right;\n",
       "    }\n",
       "</style>\n",
       "<table border=\"1\" class=\"dataframe\">\n",
       "  <thead>\n",
       "    <tr style=\"text-align: right;\">\n",
       "      <th></th>\n",
       "      <th>host_listings_count</th>\n",
       "      <th>accommodates</th>\n",
       "      <th>minimum_nights</th>\n",
       "      <th>maximum_nights</th>\n",
       "      <th>availability_30</th>\n",
       "      <th>number_of_reviews</th>\n",
       "      <th>number_of_reviews_ltm</th>\n",
       "      <th>calculated_host_listings_count</th>\n",
       "      <th>calculated_host_listings_count_entire_homes</th>\n",
       "      <th>calculated_host_listings_count_private_rooms</th>\n",
       "      <th>calculated_host_listings_count_shared_rooms</th>\n",
       "      <th>RER</th>\n",
       "      <th>RSC</th>\n",
       "      <th>RSL</th>\n",
       "    </tr>\n",
       "  </thead>\n",
       "  <tbody>\n",
       "    <tr>\n",
       "      <th>0</th>\n",
       "      <td>1</td>\n",
       "      <td>1</td>\n",
       "      <td>2</td>\n",
       "      <td>1125</td>\n",
       "      <td>29</td>\n",
       "      <td>2</td>\n",
       "      <td>2</td>\n",
       "      <td>1</td>\n",
       "      <td>0</td>\n",
       "      <td>1</td>\n",
       "      <td>0</td>\n",
       "      <td>5.000</td>\n",
       "      <td>5.000</td>\n",
       "      <td>5.000</td>\n",
       "    </tr>\n",
       "    <tr>\n",
       "      <th>1</th>\n",
       "      <td>0</td>\n",
       "      <td>2</td>\n",
       "      <td>1</td>\n",
       "      <td>365</td>\n",
       "      <td>0</td>\n",
       "      <td>0</td>\n",
       "      <td>0</td>\n",
       "      <td>12</td>\n",
       "      <td>0</td>\n",
       "      <td>10</td>\n",
       "      <td>2</td>\n",
       "      <td>4.787</td>\n",
       "      <td>4.787</td>\n",
       "      <td>4.787</td>\n",
       "    </tr>\n",
       "    <tr>\n",
       "      <th>2</th>\n",
       "      <td>1</td>\n",
       "      <td>2</td>\n",
       "      <td>5</td>\n",
       "      <td>1125</td>\n",
       "      <td>0</td>\n",
       "      <td>10</td>\n",
       "      <td>0</td>\n",
       "      <td>1</td>\n",
       "      <td>1</td>\n",
       "      <td>0</td>\n",
       "      <td>0</td>\n",
       "      <td>4.780</td>\n",
       "      <td>4.780</td>\n",
       "      <td>4.330</td>\n",
       "    </tr>\n",
       "    <tr>\n",
       "      <th>3</th>\n",
       "      <td>2</td>\n",
       "      <td>2</td>\n",
       "      <td>3</td>\n",
       "      <td>1125</td>\n",
       "      <td>0</td>\n",
       "      <td>41</td>\n",
       "      <td>0</td>\n",
       "      <td>2</td>\n",
       "      <td>0</td>\n",
       "      <td>2</td>\n",
       "      <td>0</td>\n",
       "      <td>4.610</td>\n",
       "      <td>4.830</td>\n",
       "      <td>4.950</td>\n",
       "    </tr>\n",
       "    <tr>\n",
       "      <th>4</th>\n",
       "      <td>0</td>\n",
       "      <td>2</td>\n",
       "      <td>2</td>\n",
       "      <td>5</td>\n",
       "      <td>0</td>\n",
       "      <td>0</td>\n",
       "      <td>0</td>\n",
       "      <td>1</td>\n",
       "      <td>1</td>\n",
       "      <td>0</td>\n",
       "      <td>0</td>\n",
       "      <td>4.787</td>\n",
       "      <td>4.787</td>\n",
       "      <td>4.787</td>\n",
       "    </tr>\n",
       "  </tbody>\n",
       "</table>\n",
       "</div>"
      ],
      "text/plain": [
       "   host_listings_count  accommodates  minimum_nights  maximum_nights  \\\n",
       "0                    1             1               2            1125   \n",
       "1                    0             2               1             365   \n",
       "2                    1             2               5            1125   \n",
       "3                    2             2               3            1125   \n",
       "4                    0             2               2               5   \n",
       "\n",
       "   availability_30  number_of_reviews  number_of_reviews_ltm  \\\n",
       "0               29                  2                      2   \n",
       "1                0                  0                      0   \n",
       "2                0                 10                      0   \n",
       "3                0                 41                      0   \n",
       "4                0                  0                      0   \n",
       "\n",
       "   calculated_host_listings_count  \\\n",
       "0                               1   \n",
       "1                              12   \n",
       "2                               1   \n",
       "3                               2   \n",
       "4                               1   \n",
       "\n",
       "   calculated_host_listings_count_entire_homes  \\\n",
       "0                                            0   \n",
       "1                                            0   \n",
       "2                                            1   \n",
       "3                                            0   \n",
       "4                                            1   \n",
       "\n",
       "   calculated_host_listings_count_private_rooms  \\\n",
       "0                                             1   \n",
       "1                                            10   \n",
       "2                                             0   \n",
       "3                                             2   \n",
       "4                                             0   \n",
       "\n",
       "   calculated_host_listings_count_shared_rooms    RER    RSC    RSL  \n",
       "0                                            0  5.000  5.000  5.000  \n",
       "1                                            2  4.787  4.787  4.787  \n",
       "2                                            0  4.780  4.780  4.330  \n",
       "3                                            0  4.610  4.830  4.950  \n",
       "4                                            0  4.787  4.787  4.787  "
      ]
     },
     "execution_count": 198,
     "metadata": {},
     "output_type": "execute_result"
    }
   ],
   "source": [
    "df_test.head()"
   ]
  },
  {
   "cell_type": "code",
   "execution_count": 200,
   "id": "3b086d01",
   "metadata": {},
   "outputs": [],
   "source": [
    "df_test_1= df_test[['accommodates','number_of_reviews','maximum_nights','minimum_nights','host_listings_count','availability_30']]"
   ]
  },
  {
   "cell_type": "code",
   "execution_count": 208,
   "id": "b02d9ab7",
   "metadata": {},
   "outputs": [
    {
     "data": {
      "text/plain": [
       "(1389, 6)"
      ]
     },
     "execution_count": 208,
     "metadata": {},
     "output_type": "execute_result"
    }
   ],
   "source": [
    "df_test_1.shape"
   ]
  },
  {
   "cell_type": "markdown",
   "id": "6d1b74ac",
   "metadata": {},
   "source": [
    "### Prediction on Test DF"
   ]
  },
  {
   "cell_type": "markdown",
   "id": "a95d67e7",
   "metadata": {},
   "source": [
    "Here we place the **Test DF** into the model we have trained. \n",
    "\n"
   ]
  },
  {
   "cell_type": "code",
   "execution_count": 216,
   "id": "65176701",
   "metadata": {},
   "outputs": [],
   "source": [
    "y_pred=modelo.predict(df_test_1)"
   ]
  },
  {
   "cell_type": "code",
   "execution_count": 217,
   "id": "0d399775",
   "metadata": {},
   "outputs": [
    {
     "data": {
      "text/plain": [
       "(1389,)"
      ]
     },
     "execution_count": 217,
     "metadata": {},
     "output_type": "execute_result"
    }
   ],
   "source": [
    "y_pred.shape"
   ]
  },
  {
   "cell_type": "code",
   "execution_count": 211,
   "id": "ba71ca4a",
   "metadata": {},
   "outputs": [
    {
     "data": {
      "text/plain": [
       "'Train : 0.10271213762064946 Test: 0.34911011397702374'"
      ]
     },
     "execution_count": 211,
     "metadata": {},
     "output_type": "execute_result"
    }
   ],
   "source": [
    "f\"Train : {modelo.score(X_train, y_train)} Test: {modelo.score(X_test, y_test)}\"\n"
   ]
  },
  {
   "cell_type": "code",
   "execution_count": 212,
   "id": "6fa501b6",
   "metadata": {},
   "outputs": [
    {
     "data": {
      "text/plain": [
       "LinearRegression()"
      ]
     },
     "execution_count": 212,
     "metadata": {},
     "output_type": "execute_result"
    }
   ],
   "source": [
    "modelo.fit(X_train, y_train)"
   ]
  },
  {
   "cell_type": "code",
   "execution_count": 214,
   "id": "bd90d031",
   "metadata": {},
   "outputs": [
    {
     "name": "stdout",
     "output_type": "stream",
     "text": [
      "LinearRegression()\n",
      "Train: 0.10271213762064946\n",
      "Test: 0.34911011397702374\n",
      "\n",
      "\n"
     ]
    }
   ],
   "source": [
    "train_score=modelo.score(X_train, y_train)  \n",
    "test_score=modelo.score(X_test, y_test)\n",
    "    \n",
    "print(modelo)\n",
    "print('Train:', train_score)\n",
    "print('Test:', test_score) \n",
    "print('\\n')"
   ]
  },
  {
   "cell_type": "code",
   "execution_count": 215,
   "id": "05657fcf",
   "metadata": {},
   "outputs": [
    {
     "data": {
      "text/plain": [
       "(1042,)"
      ]
     },
     "execution_count": 215,
     "metadata": {},
     "output_type": "execute_result"
    }
   ],
   "source": [
    "y_pred.shape"
   ]
  },
  {
   "cell_type": "code",
   "execution_count": null,
   "id": "cda47764",
   "metadata": {},
   "outputs": [],
   "source": []
  },
  {
   "cell_type": "markdown",
   "id": "582f1bf4",
   "metadata": {},
   "source": [
    "### Guardar modelo:"
   ]
  },
  {
   "cell_type": "markdown",
   "id": "06a8257e",
   "metadata": {},
   "source": [
    "Here we place the "
   ]
  },
  {
   "cell_type": "code",
   "execution_count": 218,
   "id": "4e1b8ad2",
   "metadata": {},
   "outputs": [
    {
     "data": {
      "text/plain": [
       "(1389, 2)"
      ]
     },
     "execution_count": 218,
     "metadata": {},
     "output_type": "execute_result"
    }
   ],
   "source": [
    "sample_df_3=pd.DataFrame()\n",
    "\n",
    "\n",
    "sample_df_3['id']=[str(i) for i in range(len(y_pred))]\n",
    "sample_df_3['price']=y_pred\n",
    "\n",
    "sample_df_3.shape"
   ]
  },
  {
   "cell_type": "code",
   "execution_count": 219,
   "id": "6545c1c6",
   "metadata": {},
   "outputs": [
    {
     "data": {
      "text/html": [
       "<div>\n",
       "<style scoped>\n",
       "    .dataframe tbody tr th:only-of-type {\n",
       "        vertical-align: middle;\n",
       "    }\n",
       "\n",
       "    .dataframe tbody tr th {\n",
       "        vertical-align: top;\n",
       "    }\n",
       "\n",
       "    .dataframe thead th {\n",
       "        text-align: right;\n",
       "    }\n",
       "</style>\n",
       "<table border=\"1\" class=\"dataframe\">\n",
       "  <thead>\n",
       "    <tr style=\"text-align: right;\">\n",
       "      <th></th>\n",
       "      <th>id</th>\n",
       "      <th>price</th>\n",
       "    </tr>\n",
       "  </thead>\n",
       "  <tbody>\n",
       "    <tr>\n",
       "      <th>0</th>\n",
       "      <td>0</td>\n",
       "      <td>158.817011</td>\n",
       "    </tr>\n",
       "    <tr>\n",
       "      <th>1</th>\n",
       "      <td>1</td>\n",
       "      <td>127.889195</td>\n",
       "    </tr>\n",
       "    <tr>\n",
       "      <th>2</th>\n",
       "      <td>2</td>\n",
       "      <td>126.755619</td>\n",
       "    </tr>\n",
       "    <tr>\n",
       "      <th>3</th>\n",
       "      <td>3</td>\n",
       "      <td>119.562027</td>\n",
       "    </tr>\n",
       "    <tr>\n",
       "      <th>4</th>\n",
       "      <td>4</td>\n",
       "      <td>126.998981</td>\n",
       "    </tr>\n",
       "  </tbody>\n",
       "</table>\n",
       "</div>"
      ],
      "text/plain": [
       "  id       price\n",
       "0  0  158.817011\n",
       "1  1  127.889195\n",
       "2  2  126.755619\n",
       "3  3  119.562027\n",
       "4  4  126.998981"
      ]
     },
     "execution_count": 219,
     "metadata": {},
     "output_type": "execute_result"
    }
   ],
   "source": [
    "sample_df_3.head()"
   ]
  },
  {
   "cell_type": "code",
   "execution_count": 220,
   "id": "f5b3d7c4",
   "metadata": {},
   "outputs": [],
   "source": [
    "sample_df_3.to_csv('data/sample_df_3.csv',index=False)"
   ]
  },
  {
   "cell_type": "code",
   "execution_count": null,
   "id": "4a8927e0",
   "metadata": {},
   "outputs": [],
   "source": []
  }
 ],
 "metadata": {
  "kernelspec": {
   "display_name": "Python3 (ironhack_2)",
   "language": "python",
   "name": "condaenv"
  },
  "language_info": {
   "codemirror_mode": {
    "name": "ipython",
    "version": 3
   },
   "file_extension": ".py",
   "mimetype": "text/x-python",
   "name": "python",
   "nbconvert_exporter": "python",
   "pygments_lexer": "ipython3",
   "version": "3.8.11"
  }
 },
 "nbformat": 4,
 "nbformat_minor": 5
}
