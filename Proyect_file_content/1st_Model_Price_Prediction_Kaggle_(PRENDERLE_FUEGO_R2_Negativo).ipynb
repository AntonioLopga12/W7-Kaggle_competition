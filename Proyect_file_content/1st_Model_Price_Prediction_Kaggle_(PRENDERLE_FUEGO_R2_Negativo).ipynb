{
 "cells": [
  {
   "cell_type": "markdown",
   "id": "f77308fb",
   "metadata": {},
   "source": [
    "### Understanding and cleaning Data:"
   ]
  },
  {
   "cell_type": "markdown",
   "id": "0dbb3f60",
   "metadata": {},
   "source": [
    "**Tools:**"
   ]
  },
  {
   "cell_type": "code",
   "execution_count": 1,
   "id": "5fb2ac93",
   "metadata": {},
   "outputs": [],
   "source": [
    "import time                                                 # para tiempo\n",
    "inicio=time.time()                                          # momento inicial\n",
    "\n",
    "   \n",
    "import pandas as pd                                         # dataframe\n",
    "import numpy as np                                          # numerical python, algebra lineal\n",
    "\n",
    "import matplotlib.pyplot as plt                             # plots, graficos\n",
    "import seaborn as sns                                       # plots\n",
    "\n",
    "#from sklearn.metrics import confusion_matrix                # metricas, matriz de confusion\n",
    "#from scipy.optimize import minimize                         # minimizar, opt\n",
    "\n",
    "\n",
    "import warnings                                             # avisos\n",
    "warnings.filterwarnings('ignore', category=RuntimeWarning)"
   ]
  },
  {
   "cell_type": "code",
   "execution_count": 2,
   "id": "c837f793",
   "metadata": {},
   "outputs": [],
   "source": [
    "from sklearn.model_selection import train_test_split as tts\n",
    "from sklearn.decomposition import PCA\n",
    "\n",
    "from sklearn.svm import SVR\n",
    "from sklearn.ensemble import RandomForestRegressor as RFR\n",
    "from sklearn.metrics import mean_squared_error as mse\n",
    "from sklearn.linear_model import SGDClassifier as SGDC\n",
    "from sklearn.naive_bayes import GaussianNB as GNB\n",
    "from sklearn.naive_bayes import MultinomialNB as MNB\n",
    "from sklearn.naive_bayes import ComplementNB as CNB"
   ]
  },
  {
   "cell_type": "code",
   "execution_count": 3,
   "id": "79bfc779",
   "metadata": {},
   "outputs": [],
   "source": [
    "from sklearn.linear_model import *\n",
    "from sklearn.linear_model import LinearRegression as LinReg"
   ]
  },
  {
   "cell_type": "markdown",
   "id": "7a7c9f40",
   "metadata": {},
   "source": [
    "from sklearn.linear_model import LinearRegression as LinReg\n",
    "from sklearn.linear_model import Lasso\n",
    "from sklearn.linear_model import Ridge\n",
    "from sklearn.linear_model import ElasticNet"
   ]
  },
  {
   "cell_type": "code",
   "execution_count": 4,
   "id": "3d99c49e",
   "metadata": {},
   "outputs": [],
   "source": [
    "def highnull(x):\n",
    "    return x.isnull().mean() * 100\n",
    "    "
   ]
  },
  {
   "cell_type": "markdown",
   "id": "4edbd358",
   "metadata": {},
   "source": [
    "### Limpieza de Nans"
   ]
  },
  {
   "cell_type": "code",
   "execution_count": 5,
   "id": "af89a4eb",
   "metadata": {},
   "outputs": [],
   "source": [
    "#data.dropna(thresh=len(data)//2,axis=1, inplace=True)\n",
    "#trash_1 = list(data.loc[:, data.isna().sum() >= 1000])\n",
    "def delete_nan(df):\n",
    "    data_1 = df.loc[:, df.isnull().mean() >= .5]\n",
    "    print(data_1.columns)\n",
    "    return df.drop(data_1,axis=1,inplace=True)"
   ]
  },
  {
   "cell_type": "markdown",
   "id": "414889cc",
   "metadata": {},
   "source": [
    "### Limpieza de columnas:"
   ]
  },
  {
   "cell_type": "code",
   "execution_count": 6,
   "id": "0f9d0494",
   "metadata": {},
   "outputs": [],
   "source": [
    "def trash_d(df):\n",
    "    df_col = df.columns\n",
    "    trash = []\n",
    "    for i in df_col:\n",
    "        if 'url' in i:\n",
    "\n",
    "            trash.append(i)\n",
    "        elif 'id' in i:\n",
    "\n",
    "            trash.append(i)\n",
    "        elif 'name' in i:\n",
    "\n",
    "            trash.append(i)\n",
    "        elif 'scrape' in i:\n",
    "\n",
    "            trash.append(i)\n",
    "        elif 'license' in i: #is it relevant??\n",
    "\n",
    "            trash.append(i)\n",
    "        elif 'latitude' in i:\n",
    "\n",
    "            trash.append(i)\n",
    "        elif 'longitude' in i:\n",
    "\n",
    "            trash.append(i)\n",
    "\n",
    "    print(trash)\n",
    "    return df.drop(trash,axis=1,inplace=True)\n",
    "       "
   ]
  },
  {
   "cell_type": "markdown",
   "id": "a2e7d842",
   "metadata": {},
   "source": [
    "### Analizar la correlacion entre las columnas y eliminar las que tienen corr > 90%"
   ]
  },
  {
   "cell_type": "code",
   "execution_count": 7,
   "id": "dfcd3fef",
   "metadata": {},
   "outputs": [],
   "source": [
    "def bin_corr_col(x):\n",
    "                                        \n",
    "    corr_matrix = x.corr().abs()# Create correlation matrix\n",
    "                                        \n",
    "    upper = corr_matrix.where(np.triu(np.ones(corr_matrix.shape), k=1).astype(bool)) # Select upper triangle of correlation matrix\n",
    "    \n",
    "    to_drop = [column for column in upper.columns if any(upper[column] > 0.90)]# Find features with correlation greater than 0.90\n",
    "\n",
    "    return x.drop(to_drop, axis=1, inplace=True) # Drop features"
   ]
  },
  {
   "cell_type": "markdown",
   "id": "a9fe7258",
   "metadata": {},
   "source": [
    "### Funcion para limpiar columna de 'Bathroom text'"
   ]
  },
  {
   "cell_type": "code",
   "execution_count": 8,
   "id": "55f805aa",
   "metadata": {
    "scrolled": false
   },
   "outputs": [],
   "source": [
    "import re\n",
    "\n",
    "patron='[0-9]+'\n",
    "\n",
    "def limpieza_ba(x):\n",
    "    n_ba=0\n",
    "    \n",
    "    try:\n",
    "        n_ba=int(re.findall(patron, x)[0])\n",
    "    except:\n",
    "        n_ba=0\n",
    "        \n",
    "    return n_ba"
   ]
  },
  {
   "cell_type": "markdown",
   "id": "2c5400f3",
   "metadata": {},
   "source": [
    "### Rellenamos los Nan:\n",
    "**1. Probado con '0': Con**\n",
    "        * Fill Nan con '0' en la Primera configuracion, no tan mal resultado, MSE (ERROR CUADRATICO MEDIO), entre un 90-100?? (comprobar)\n",
    "        \n",
    "**2. Probamos con la media:**\n",
    "\n",
    "El resultado no es muy bueno, baja mucho el R2:\n",
    "\n",
    "    *LinearRegression()\n",
    "    Train: 0.12894611727789396\n",
    "    Test: 0.01727127223742142\n",
    "\n",
    "\n",
    "    *Lasso()\n",
    "    Train: 0.12811313569267202\n",
    "    Test: 0.025081710551917435\n",
    "\n",
    "\n",
    "    *ElasticNet()\n",
    "    Train: 0.04618899858216652\n",
    "    Test: 0.014876397066942215\n",
    "\n",
    "\n",
    "    *SVR()\n",
    "    Train: -0.07422589078257924\n",
    "    Test: -0.032186379563503564\n",
    "\n",
    "\n",
    "    *RandomForestRegressor()\n",
    "    Train: 0.7739665525976065\n",
    "    Test: 0.0062841148035271965\n",
    "\n",
    "\n",
    "    *SGDClassifier()\n",
    "    Train: 0.01201923076923077\n",
    "    Test: 0.007198080511863503\n",
    "\n",
    "\n",
    "    *GaussianNB()\n",
    "    Train: 0.31009615384615385\n",
    "    Test: 0.00959744068248467\n",
    "\n",
    "\n",
    "    *MultinomialNB()\n",
    "    Train: 0.08173076923076923\n",
    "    Test: 0.018661690215942415\n",
    "\n",
    "\n",
    "    *ComplementNB()\n",
    "    Train: 0.038461538461538464\n",
    "    Test: 0.022394028259130897\n",
    "\n",
    "**3. Volvemos a probar con fill Nan '0':**\n",
    "\n",
    "Anque en algunos modelos mejora en el Train, en el Test solo empeora y aumenta el overfiting.\n",
    "\n",
    "    *LinearRegression()\n",
    "    Train: 0.13040583567123631\n",
    "    Test: 0.016851720953881655\n",
    "\n",
    "\n",
    "    *Lasso()\n",
    "    Train: 0.1296826051474378\n",
    "    Test: 0.024902425964481112\n",
    "\n",
    "\n",
    "    *ElasticNet()\n",
    "    Train: 0.04788916546070876\n",
    "    Test: 0.016609313108287616\n",
    "\n",
    "\n",
    "    *SVR()\n",
    "    Train: -0.07422560937966005\n",
    "    Test: -0.032186302713010706\n",
    "\n",
    "\n",
    "    *RandomForestRegressor()\n",
    "    Train: 0.7822522061872766\n",
    "    Test: -0.00020344848606912436\n",
    "\n",
    "\n",
    "    *SGDClassifier()\n",
    "    Train: 0.007211538461538462\n",
    "    Test: 0.0018661690215942416\n",
    "\n",
    "\n",
    "    *GaussianNB()\n",
    "    Train: 0.3076923076923077\n",
    "    Test: 0.008531058384430818\n",
    "\n",
    "\n",
    "    *MultinomialNB()\n",
    "    Train: 0.09375\n",
    "    Test: 0.018661690215942415\n",
    "\n",
    "\n",
    "    *ComplementNB()\n",
    "    Train: 0.038461538461538464\n",
    "    Test: 0.022127432684617435\n",
    "\n",
    "**4. Volvemos a rellenar los valores Nan con 0, y volvemos a analizar los datos:**"
   ]
  },
  {
   "cell_type": "code",
   "execution_count": 9,
   "id": "d4f8b48c",
   "metadata": {
    "scrolled": false
   },
   "outputs": [],
   "source": [
    "def fill_nan(df):\n",
    "    \n",
    "    for i in df.columns:\n",
    "        \n",
    "        df.fillna(0, axis=0, inplace=True)\n",
    "\n",
    "    print(df.isna().sum())"
   ]
  },
  {
   "cell_type": "markdown",
   "id": "29b11abd",
   "metadata": {},
   "source": [
    "### Funcion para entrenar Modelo:"
   ]
  },
  {
   "cell_type": "code",
   "execution_count": 10,
   "id": "94ce3aa6",
   "metadata": {},
   "outputs": [],
   "source": [
    "def prueba_modelo(modelo):\n",
    "\n",
    "    modelo.fit(X_train, y_train)\n",
    "\n",
    "    y_pred=modelo.predict(X_test)\n",
    "\n",
    "    train_score=modelo.score(X_train, y_train)  \n",
    "    test_score=modelo.score(X_test, y_test)\n",
    "    \n",
    "    print(modelo)\n",
    "    print('Train:', train_score)\n",
    "    print('Test:', test_score) \n",
    "    print('\\n')"
   ]
  },
  {
   "cell_type": "markdown",
   "id": "907aaa64",
   "metadata": {},
   "source": [
    "**General Function**"
   ]
  },
  {
   "cell_type": "code",
   "execution_count": 11,
   "id": "a2da50c5",
   "metadata": {},
   "outputs": [],
   "source": [
    "def general_function(df):\n",
    "    \n",
    "    df_num = df.copy()\n",
    "    \n",
    "    df_num_1 = df_num._get_numeric_data()\n",
    "    \n",
    "    #Delete columns with 50% or more Nan values.\n",
    "    #df_num_2 = df_num_1.apply(delete_nan)\n",
    "    \n",
    "    #Delete trash columns.\n",
    "    df_num_2 = df_num_1.apply(trash_d)\n",
    "    \n",
    "    #Delete columns with higher correlation of 90%\n",
    "    df_num_3 = df_num_2.apply(bin_corr_col)\n",
    "    \n",
    "    sns.heatmap(df_num_3.corr());\n",
    "    \n",
    "    return df_num_3   "
   ]
  },
  {
   "cell_type": "markdown",
   "id": "2db84325",
   "metadata": {},
   "source": [
    "## Resultados subidos a Kaggle:"
   ]
  },
  {
   "cell_type": "markdown",
   "id": "e71e9d8e",
   "metadata": {},
   "source": [
    "### 1er Modelo, con RFR, Filtrado, \n",
    "* get numeric, \n",
    "* simple trash,\n",
    "* basic corr 90%\n",
    "* Nos da mse de 90"
   ]
  },
  {
   "cell_type": "markdown",
   "id": "41744f5b",
   "metadata": {},
   "source": [
    "## 1.Train CSV:"
   ]
  },
  {
   "cell_type": "markdown",
   "id": "ae960ff7",
   "metadata": {},
   "source": [
    "**Import Train Data** "
   ]
  },
  {
   "cell_type": "code",
   "execution_count": 12,
   "id": "c6bf74bc",
   "metadata": {},
   "outputs": [],
   "source": [
    "df_train = pd.read_csv('data/train.csv')"
   ]
  },
  {
   "cell_type": "code",
   "execution_count": 13,
   "id": "32d8d0e8",
   "metadata": {},
   "outputs": [],
   "source": [
    "df_TN = df_train._get_numeric_data()"
   ]
  },
  {
   "cell_type": "markdown",
   "id": "576ebf15",
   "metadata": {},
   "source": [
    "### 1.1 Train DF: Aplicamos funciones:"
   ]
  },
  {
   "cell_type": "code",
   "execution_count": 14,
   "id": "e94c2480",
   "metadata": {},
   "outputs": [
    {
     "name": "stdout",
     "output_type": "stream",
     "text": [
      "['id', 'scrape_id', 'host_id', 'latitude', 'longitude']\n"
     ]
    }
   ],
   "source": [
    "trash_d(df_TN)"
   ]
  },
  {
   "cell_type": "code",
   "execution_count": 15,
   "id": "1e390cdb",
   "metadata": {
    "scrolled": true
   },
   "outputs": [
    {
     "name": "stdout",
     "output_type": "stream",
     "text": [
      "Index(['neighbourhood_group_cleansed', 'bathrooms', 'calendar_updated'], dtype='object')\n"
     ]
    }
   ],
   "source": [
    "delete_nan(df_TN)\n"
   ]
  },
  {
   "cell_type": "code",
   "execution_count": 16,
   "id": "e77abb74",
   "metadata": {},
   "outputs": [],
   "source": [
    "bin_corr_col(df_TN)"
   ]
  },
  {
   "cell_type": "markdown",
   "id": "410d65f7",
   "metadata": {},
   "source": [
    "### 1.2 Train DF:  Add Bathroom numeric column "
   ]
  },
  {
   "cell_type": "code",
   "execution_count": 17,
   "id": "87d02af2",
   "metadata": {},
   "outputs": [],
   "source": [
    "df_TN['bathrooms']= df_train.bathrooms_text.apply(limpieza_ba)"
   ]
  },
  {
   "cell_type": "code",
   "execution_count": 18,
   "id": "170fa1d6",
   "metadata": {
    "scrolled": true
   },
   "outputs": [
    {
     "data": {
      "text/plain": [
       "Index(['host_listings_count', 'accommodates', 'bedrooms', 'beds', 'price',\n",
       "       'minimum_nights', 'maximum_nights', 'minimum_maximum_nights',\n",
       "       'maximum_maximum_nights', 'availability_30', 'availability_365',\n",
       "       'number_of_reviews', 'number_of_reviews_ltm', 'number_of_reviews_l30d',\n",
       "       'review_scores_rating', 'review_scores_accuracy',\n",
       "       'review_scores_cleanliness', 'review_scores_checkin',\n",
       "       'review_scores_communication', 'review_scores_location',\n",
       "       'review_scores_value', 'calculated_host_listings_count',\n",
       "       'calculated_host_listings_count_entire_homes',\n",
       "       'calculated_host_listings_count_private_rooms',\n",
       "       'calculated_host_listings_count_shared_rooms', 'reviews_per_month',\n",
       "       'bathrooms'],\n",
       "      dtype='object')"
      ]
     },
     "execution_count": 18,
     "metadata": {},
     "output_type": "execute_result"
    }
   ],
   "source": [
    "df_TN.columns"
   ]
  },
  {
   "cell_type": "markdown",
   "id": "1012fc2e",
   "metadata": {},
   "source": [
    "### 1.3 Train DF: Eliminamos columnas: (en proceso de afinar)"
   ]
  },
  {
   "cell_type": "code",
   "execution_count": 19,
   "id": "64f78c68",
   "metadata": {},
   "outputs": [],
   "source": [
    "### All this columns a have a variance ratio very far from one, i will delet them, and add, the bathroom column\n",
    "columns_1 = ['beds','minimum_maximum_nights',\n",
    "       'maximum_maximum_nights', 'availability_30', 'availability_365',\n",
    "       'number_of_reviews', 'number_of_reviews_ltm', 'number_of_reviews_l30d','review_scores_accuracy',\n",
    "       'review_scores_cleanliness', 'review_scores_checkin',\n",
    "       'review_scores_communication', 'review_scores_location',\n",
    "       'review_scores_value', 'calculated_host_listings_count',\n",
    "       'calculated_host_listings_count_entire_homes',\n",
    "       'calculated_host_listings_count_private_rooms',\n",
    "       'calculated_host_listings_count_shared_rooms', 'reviews_per_month']"
   ]
  },
  {
   "cell_type": "code",
   "execution_count": 20,
   "id": "ac1a038a",
   "metadata": {},
   "outputs": [],
   "source": [
    "df_TN.drop(columns_1, axis=1, inplace=True)"
   ]
  },
  {
   "cell_type": "code",
   "execution_count": 21,
   "id": "2bf1db1b",
   "metadata": {
    "scrolled": true
   },
   "outputs": [
    {
     "data": {
      "text/plain": [
       "[]"
      ]
     },
     "execution_count": 21,
     "metadata": {},
     "output_type": "execute_result"
    }
   ],
   "source": [
    "corr_matrix = df_TN.corr().abs()# Create correlation matrix\n",
    "upper = corr_matrix.where(np.triu(np.ones(corr_matrix.shape), k=1).astype(bool)) # Select upper triangle of correlation matrix\n",
    "to_drop = [column for column in upper.columns if any(upper[column] > 0.80)]# Find features with correlation greater than 0.90\n",
    "to_drop\n",
    "    #return x.drop(to_drop, axis=1, inplace=True)"
   ]
  },
  {
   "cell_type": "code",
   "execution_count": 22,
   "id": "c89d4ac2",
   "metadata": {},
   "outputs": [
    {
     "data": {
      "text/plain": [
       "Index(['host_listings_count', 'accommodates', 'bedrooms', 'price',\n",
       "       'minimum_nights', 'maximum_nights', 'review_scores_rating',\n",
       "       'bathrooms'],\n",
       "      dtype='object')"
      ]
     },
     "execution_count": 22,
     "metadata": {},
     "output_type": "execute_result"
    }
   ],
   "source": [
    "df_TN.columns"
   ]
  },
  {
   "cell_type": "markdown",
   "id": "729cc9dd",
   "metadata": {},
   "source": [
    "### 1.4 Test DF: Hacer Fillna with mean... try"
   ]
  },
  {
   "cell_type": "code",
   "execution_count": 23,
   "id": "5d3902a5",
   "metadata": {},
   "outputs": [
    {
     "name": "stdout",
     "output_type": "stream",
     "text": [
      "host_listings_count     0\n",
      "accommodates            0\n",
      "bedrooms                0\n",
      "price                   0\n",
      "minimum_nights          0\n",
      "maximum_nights          0\n",
      "review_scores_rating    0\n",
      "bathrooms               0\n",
      "dtype: int64\n"
     ]
    }
   ],
   "source": [
    "fill_nan(df_TN)"
   ]
  },
  {
   "cell_type": "markdown",
   "id": "d7d6fe1a",
   "metadata": {},
   "source": [
    "### 1.5 Train DF:  Have a look to the correlation of the columns;"
   ]
  },
  {
   "cell_type": "markdown",
   "id": "a4acad99",
   "metadata": {},
   "source": [
    "* "
   ]
  },
  {
   "cell_type": "code",
   "execution_count": 24,
   "id": "e2f10f3d",
   "metadata": {
    "scrolled": true
   },
   "outputs": [
    {
     "data": {
      "image/png": "[encoded data removed]",
      "text/plain": [
       "<Figure size 432x288 with 2 Axes>"
      ]
     },
     "metadata": {
      "needs_background": "light"
     },
     "output_type": "display_data"
    }
   ],
   "source": [
    "sns.heatmap(df_TN.corr());"
   ]
  },
  {
   "cell_type": "markdown",
   "id": "6f852279",
   "metadata": {},
   "source": [
    "## 1.5 Train DF: OBSERVACIONES DE LA correlacion entre las columas:"
   ]
  },
  {
   "cell_type": "markdown",
   "id": "77343dd0",
   "metadata": {},
   "source": [
    "**Registro de Modificaciones de columnas por su coorelacion:**\n",
    "\n",
    "\n",
    "\n",
    "Actualmente contamos con las siguites columnas: \n",
    "- host_listings_count\n",
    "- accommodates\n",
    "- bedrooms \n",
    "- price\n",
    "- minimum_nights\n",
    "- maximum_nights\n",
    "- review_scores_rating\n",
    "- bathrooms\n",
    "\n",
    "\n",
    "       *LinearRegression()\n",
    "    Train: 0.4175408429965264\n",
    "    Test: 0.0852930320088775\n",
    "\n",
    "       *Lasso()\n",
    "    Train: 0.41677703057289106\n",
    "    Test: 0.09269214425155403\n",
    "\n",
    "\n",
    "       *ElasticNet()\n",
    "    Train: 0.39286894455853005\n",
    "    Test: 0.10849503516950687\n",
    "\n",
    "\n",
    "       *SVR()\n",
    "    Train: -0.07420733292675563\n",
    "    Test: -0.03217854177482837\n",
    "\n",
    "\n",
    "       *RandomForestRegressor()\n",
    "    Train: 0.8859091190996429\n",
    "    Test: 0.07693120479600035\n",
    "\n",
    "\n",
    "*Observamos que las columnas de acomodates & bedrooms estan muy relacionadas con bathrooms, esto nos puede estar generando el over fitting que tenemos:* \n",
    "\n",
    "**En cierto modo tiene sentido que estas dos variables esten relacionadas pues una casa con varios cueros de baños, sera iuna cas con mas cuartos y por ende mas camas, en resultado sera mas cara, todo esto puede ser representado por el numero de cuartos de baños que tenga una casa.**\n",
    "\n",
    "**Eliminamos:**\n",
    "\n",
    "- accommodates\n",
    "- bedrooms"
   ]
  },
  {
   "cell_type": "markdown",
   "id": "323b1549",
   "metadata": {},
   "source": [
    "### 1.6 Train DF: Eliminar Columnas con Corr: (AFINANDO):\n",
    "\n",
    "**observaciones:**\n",
    "\n",
    "*"
   ]
  },
  {
   "cell_type": "code",
   "execution_count": 25,
   "id": "aceb57f7",
   "metadata": {},
   "outputs": [],
   "source": [
    "testeo =['accommodates','bedrooms']"
   ]
  },
  {
   "cell_type": "code",
   "execution_count": 26,
   "id": "43bb5dbc",
   "metadata": {},
   "outputs": [],
   "source": [
    "df_TN.drop(testeo, axis=1, inplace=True)"
   ]
  },
  {
   "cell_type": "code",
   "execution_count": 27,
   "id": "a16ffcd3",
   "metadata": {},
   "outputs": [
    {
     "data": {
      "image/png": "[encoded data removed]",
      "text/plain": [
       "<Figure size 432x288 with 2 Axes>"
      ]
     },
     "metadata": {
      "needs_background": "light"
     },
     "output_type": "display_data"
    }
   ],
   "source": [
    "sns.heatmap(df_TN.corr());"
   ]
  },
  {
   "cell_type": "code",
   "execution_count": 28,
   "id": "a9de65a0",
   "metadata": {},
   "outputs": [],
   "source": [
    "# x.drop(to_drop, axis=1, inplace=True)"
   ]
  },
  {
   "cell_type": "code",
   "execution_count": 29,
   "id": "7fd25caf",
   "metadata": {},
   "outputs": [
    {
     "data": {
      "text/html": [
       "<div>\n",
       "<style scoped>\n",
       "    .dataframe tbody tr th:only-of-type {\n",
       "        vertical-align: middle;\n",
       "    }\n",
       "\n",
       "    .dataframe tbody tr th {\n",
       "        vertical-align: top;\n",
       "    }\n",
       "\n",
       "    .dataframe thead th {\n",
       "        text-align: right;\n",
       "    }\n",
       "</style>\n",
       "<table border=\"1\" class=\"dataframe\">\n",
       "  <thead>\n",
       "    <tr style=\"text-align: right;\">\n",
       "      <th></th>\n",
       "      <th>host_listings_count</th>\n",
       "      <th>price</th>\n",
       "      <th>minimum_nights</th>\n",
       "      <th>maximum_nights</th>\n",
       "      <th>review_scores_rating</th>\n",
       "      <th>bathrooms</th>\n",
       "    </tr>\n",
       "  </thead>\n",
       "  <tbody>\n",
       "    <tr>\n",
       "      <th>0</th>\n",
       "      <td>13</td>\n",
       "      <td>87.0</td>\n",
       "      <td>2</td>\n",
       "      <td>1125</td>\n",
       "      <td>4.62</td>\n",
       "      <td>1</td>\n",
       "    </tr>\n",
       "    <tr>\n",
       "      <th>1</th>\n",
       "      <td>0</td>\n",
       "      <td>250.0</td>\n",
       "      <td>2</td>\n",
       "      <td>1125</td>\n",
       "      <td>5.00</td>\n",
       "      <td>1</td>\n",
       "    </tr>\n",
       "    <tr>\n",
       "      <th>2</th>\n",
       "      <td>20</td>\n",
       "      <td>151.0</td>\n",
       "      <td>1</td>\n",
       "      <td>1125</td>\n",
       "      <td>4.79</td>\n",
       "      <td>1</td>\n",
       "    </tr>\n",
       "    <tr>\n",
       "      <th>3</th>\n",
       "      <td>1</td>\n",
       "      <td>139.0</td>\n",
       "      <td>2</td>\n",
       "      <td>30</td>\n",
       "      <td>5.00</td>\n",
       "      <td>1</td>\n",
       "    </tr>\n",
       "    <tr>\n",
       "      <th>4</th>\n",
       "      <td>1</td>\n",
       "      <td>95.0</td>\n",
       "      <td>2</td>\n",
       "      <td>7</td>\n",
       "      <td>4.67</td>\n",
       "      <td>1</td>\n",
       "    </tr>\n",
       "  </tbody>\n",
       "</table>\n",
       "</div>"
      ],
      "text/plain": [
       "   host_listings_count  price  minimum_nights  maximum_nights  \\\n",
       "0                   13   87.0               2            1125   \n",
       "1                    0  250.0               2            1125   \n",
       "2                   20  151.0               1            1125   \n",
       "3                    1  139.0               2              30   \n",
       "4                    1   95.0               2               7   \n",
       "\n",
       "   review_scores_rating  bathrooms  \n",
       "0                  4.62          1  \n",
       "1                  5.00          1  \n",
       "2                  4.79          1  \n",
       "3                  5.00          1  \n",
       "4                  4.67          1  "
      ]
     },
     "execution_count": 29,
     "metadata": {},
     "output_type": "execute_result"
    }
   ],
   "source": [
    "df_TN.head()"
   ]
  },
  {
   "cell_type": "code",
   "execution_count": 30,
   "id": "f8b8d0d8",
   "metadata": {},
   "outputs": [
    {
     "data": {
      "text/plain": [
       "(4167, 6)"
      ]
     },
     "execution_count": 30,
     "metadata": {},
     "output_type": "execute_result"
    }
   ],
   "source": [
    "df_TN.shape"
   ]
  },
  {
   "cell_type": "code",
   "execution_count": 31,
   "id": "c7e36f4e",
   "metadata": {},
   "outputs": [],
   "source": [
    "#df_TN.drop(columns_1, axis=1, inplace=True)"
   ]
  },
  {
   "cell_type": "markdown",
   "id": "2d3a0999",
   "metadata": {},
   "source": [
    "### 1.7 Aplicamos PCA"
   ]
  },
  {
   "cell_type": "markdown",
   "id": "9a38bc70",
   "metadata": {},
   "source": [
    "## 2. Test CSV:"
   ]
  },
  {
   "cell_type": "markdown",
   "id": "104b0f30",
   "metadata": {},
   "source": [
    "**Import Test Data**"
   ]
  },
  {
   "cell_type": "code",
   "execution_count": 32,
   "id": "610c78c0",
   "metadata": {},
   "outputs": [
    {
     "data": {
      "text/plain": [
       "(1389, 73)"
      ]
     },
     "execution_count": 32,
     "metadata": {},
     "output_type": "execute_result"
    }
   ],
   "source": [
    "new_data=pd.read_csv('data/test.csv')\n",
    "new_data.shape"
   ]
  },
  {
   "cell_type": "code",
   "execution_count": 33,
   "id": "a7c5d97a",
   "metadata": {},
   "outputs": [],
   "source": [
    "df_test = new_data._get_numeric_data()"
   ]
  },
  {
   "cell_type": "markdown",
   "id": "2aec906b",
   "metadata": {},
   "source": [
    "### 2.1 Test DF: Aplicamos Funciones"
   ]
  },
  {
   "cell_type": "code",
   "execution_count": 34,
   "id": "030b3bc1",
   "metadata": {},
   "outputs": [
    {
     "name": "stdout",
     "output_type": "stream",
     "text": [
      "['id', 'scrape_id', 'host_id', 'latitude', 'longitude']\n"
     ]
    }
   ],
   "source": [
    "trash_d(df_test)\n"
   ]
  },
  {
   "cell_type": "code",
   "execution_count": 35,
   "id": "b990469d",
   "metadata": {},
   "outputs": [
    {
     "name": "stdout",
     "output_type": "stream",
     "text": [
      "Index(['neighbourhood_group_cleansed', 'bathrooms', 'calendar_updated'], dtype='object')\n"
     ]
    }
   ],
   "source": [
    "delete_nan(df_test)"
   ]
  },
  {
   "cell_type": "code",
   "execution_count": 36,
   "id": "29a2e32d",
   "metadata": {},
   "outputs": [],
   "source": [
    "bin_corr_col(df_test)"
   ]
  },
  {
   "cell_type": "code",
   "execution_count": 37,
   "id": "543a9a03",
   "metadata": {},
   "outputs": [
    {
     "name": "stdout",
     "output_type": "stream",
     "text": [
      "host_listings_count                             0\n",
      "accommodates                                    0\n",
      "bedrooms                                        0\n",
      "beds                                            0\n",
      "minimum_nights                                  0\n",
      "maximum_nights                                  0\n",
      "minimum_maximum_nights                          0\n",
      "maximum_maximum_nights                          0\n",
      "availability_30                                 0\n",
      "availability_365                                0\n",
      "number_of_reviews                               0\n",
      "number_of_reviews_ltm                           0\n",
      "number_of_reviews_l30d                          0\n",
      "review_scores_rating                            0\n",
      "review_scores_accuracy                          0\n",
      "review_scores_cleanliness                       0\n",
      "review_scores_checkin                           0\n",
      "review_scores_communication                     0\n",
      "review_scores_location                          0\n",
      "review_scores_value                             0\n",
      "calculated_host_listings_count                  0\n",
      "calculated_host_listings_count_entire_homes     0\n",
      "calculated_host_listings_count_private_rooms    0\n",
      "calculated_host_listings_count_shared_rooms     0\n",
      "reviews_per_month                               0\n",
      "dtype: int64\n"
     ]
    }
   ],
   "source": [
    "fill_nan(df_test)"
   ]
  },
  {
   "cell_type": "code",
   "execution_count": 38,
   "id": "3ddac8cc",
   "metadata": {
    "scrolled": true
   },
   "outputs": [
    {
     "data": {
      "text/plain": [
       "(1389, 25)"
      ]
     },
     "execution_count": 38,
     "metadata": {},
     "output_type": "execute_result"
    }
   ],
   "source": [
    "df_test.shape"
   ]
  },
  {
   "cell_type": "markdown",
   "id": "ff36b093",
   "metadata": {},
   "source": [
    "### 2.2 Test DF: Add Bathroom numeric column "
   ]
  },
  {
   "cell_type": "code",
   "execution_count": 39,
   "id": "79bc5b02",
   "metadata": {},
   "outputs": [],
   "source": [
    "df_test['bathrooms']= new_data.bathrooms_text.apply(limpieza_ba)"
   ]
  },
  {
   "cell_type": "code",
   "execution_count": 40,
   "id": "8f92bbc1",
   "metadata": {},
   "outputs": [
    {
     "data": {
      "text/plain": [
       "host_listings_count                             0\n",
       "accommodates                                    0\n",
       "bedrooms                                        0\n",
       "beds                                            0\n",
       "minimum_nights                                  0\n",
       "maximum_nights                                  0\n",
       "minimum_maximum_nights                          0\n",
       "maximum_maximum_nights                          0\n",
       "availability_30                                 0\n",
       "availability_365                                0\n",
       "number_of_reviews                               0\n",
       "number_of_reviews_ltm                           0\n",
       "number_of_reviews_l30d                          0\n",
       "review_scores_rating                            0\n",
       "review_scores_accuracy                          0\n",
       "review_scores_cleanliness                       0\n",
       "review_scores_checkin                           0\n",
       "review_scores_communication                     0\n",
       "review_scores_location                          0\n",
       "review_scores_value                             0\n",
       "calculated_host_listings_count                  0\n",
       "calculated_host_listings_count_entire_homes     0\n",
       "calculated_host_listings_count_private_rooms    0\n",
       "calculated_host_listings_count_shared_rooms     0\n",
       "reviews_per_month                               0\n",
       "bathrooms                                       0\n",
       "dtype: int64"
      ]
     },
     "execution_count": 40,
     "metadata": {},
     "output_type": "execute_result"
    }
   ],
   "source": [
    "df_test.isna().sum()"
   ]
  },
  {
   "cell_type": "markdown",
   "id": "841e2c63",
   "metadata": {},
   "source": [
    "### 2.3 Test DF: Eliminamos columnas: (en proceso de afinar)"
   ]
  },
  {
   "cell_type": "code",
   "execution_count": 41,
   "id": "72b6b852",
   "metadata": {},
   "outputs": [],
   "source": [
    "df_test.drop(columns_1, axis=1, inplace=True)"
   ]
  },
  {
   "cell_type": "markdown",
   "id": "55bb7f59",
   "metadata": {},
   "source": [
    "### 2.4 Test DF: Hacer Fillna with mean... try"
   ]
  },
  {
   "cell_type": "code",
   "execution_count": 42,
   "id": "9bfce574",
   "metadata": {},
   "outputs": [
    {
     "name": "stdout",
     "output_type": "stream",
     "text": [
      "host_listings_count     0\n",
      "accommodates            0\n",
      "bedrooms                0\n",
      "minimum_nights          0\n",
      "maximum_nights          0\n",
      "review_scores_rating    0\n",
      "bathrooms               0\n",
      "dtype: int64\n"
     ]
    }
   ],
   "source": [
    "fill_nan(df_test)"
   ]
  },
  {
   "cell_type": "code",
   "execution_count": 43,
   "id": "943a3a88",
   "metadata": {
    "scrolled": true
   },
   "outputs": [
    {
     "data": {
      "text/plain": [
       "[]"
      ]
     },
     "execution_count": 43,
     "metadata": {},
     "output_type": "execute_result"
    }
   ],
   "source": [
    "corr_matrix = df_test.corr().abs()# Create correlation matrix\n",
    "upper = corr_matrix.where(np.triu(np.ones(corr_matrix.shape), k=1).astype(bool)) # Select upper triangle of correlation matrix\n",
    "to_drop = [column for column in upper.columns if any(upper[column] > 0.80)]# Find features with correlation greater than 0.90\n",
    "to_drop\n",
    "    #return x.drop(to_drop, axis=1, inplace=True)"
   ]
  },
  {
   "cell_type": "markdown",
   "id": "1654f052",
   "metadata": {},
   "source": [
    "### 2.5 Test DF: Have a look to the correlation of the columns;"
   ]
  },
  {
   "cell_type": "code",
   "execution_count": 44,
   "id": "fe3dac0e",
   "metadata": {
    "scrolled": false
   },
   "outputs": [
    {
     "data": {
      "image/png": "[encoded data removed]",
      "text/plain": [
       "<Figure size 432x288 with 2 Axes>"
      ]
     },
     "metadata": {
      "needs_background": "light"
     },
     "output_type": "display_data"
    }
   ],
   "source": [
    "sns.heatmap(df_test.corr());"
   ]
  },
  {
   "cell_type": "code",
   "execution_count": 45,
   "id": "7a9c48b0",
   "metadata": {},
   "outputs": [],
   "source": [
    "df_test.drop(testeo, axis=1, inplace=True)"
   ]
  },
  {
   "cell_type": "code",
   "execution_count": 46,
   "id": "7e04a450",
   "metadata": {
    "scrolled": true
   },
   "outputs": [
    {
     "data": {
      "image/png": "[encoded data removed]",
      "text/plain": [
       "<Figure size 432x288 with 2 Axes>"
      ]
     },
     "metadata": {
      "needs_background": "light"
     },
     "output_type": "display_data"
    }
   ],
   "source": [
    "sns.heatmap(df_test.corr());"
   ]
  },
  {
   "cell_type": "markdown",
   "id": "9883595c",
   "metadata": {},
   "source": [
    "## 3. PCA: \n",
    "* PCA, Dividir modelo (X-y), \n"
   ]
  },
  {
   "cell_type": "markdown",
   "id": "bb389560",
   "metadata": {},
   "source": [
    "### PCA "
   ]
  },
  {
   "cell_type": "code",
   "execution_count": 47,
   "id": "d0a582de",
   "metadata": {},
   "outputs": [
    {
     "data": {
      "text/plain": [
       "PCA()"
      ]
     },
     "execution_count": 47,
     "metadata": {},
     "output_type": "execute_result"
    }
   ],
   "source": [
    "pca=PCA()\n",
    "\n",
    "pca.fit(df_TN)"
   ]
  },
  {
   "cell_type": "code",
   "execution_count": 48,
   "id": "e396c356",
   "metadata": {},
   "outputs": [
    {
     "data": {
      "text/plain": [
       "array([8.92390736e-01, 1.05297216e-01, 1.62668915e-03, 6.78462574e-04,\n",
       "       6.39961855e-06, 4.96073902e-07])"
      ]
     },
     "execution_count": 48,
     "metadata": {},
     "output_type": "execute_result"
    }
   ],
   "source": [
    "pca.explained_variance_ratio_ # Mas cercano a cero\n",
    "# "
   ]
  },
  {
   "cell_type": "code",
   "execution_count": 49,
   "id": "a0e0c9b1",
   "metadata": {},
   "outputs": [
    {
     "data": {
      "text/plain": [
       "1.0"
      ]
     },
     "execution_count": 49,
     "metadata": {},
     "output_type": "execute_result"
    }
   ],
   "source": [
    "sum(pca.explained_variance_ratio_)"
   ]
  },
  {
   "cell_type": "code",
   "execution_count": 50,
   "id": "90cffb7b",
   "metadata": {
    "scrolled": true
   },
   "outputs": [
    {
     "data": {
      "text/plain": [
       "(4167, 6)"
      ]
     },
     "execution_count": 50,
     "metadata": {},
     "output_type": "execute_result"
    }
   ],
   "source": [
    "df_TN.shape"
   ]
  },
  {
   "cell_type": "markdown",
   "id": "3996511c",
   "metadata": {},
   "source": [
    "## 4. Listamos las columnas de los Data frames Train & Test"
   ]
  },
  {
   "cell_type": "code",
   "execution_count": 51,
   "id": "f47ef09d",
   "metadata": {},
   "outputs": [
    {
     "data": {
      "text/plain": [
       "((1389, 5), (4167, 6))"
      ]
     },
     "execution_count": 51,
     "metadata": {},
     "output_type": "execute_result"
    }
   ],
   "source": [
    "df_test.shape,df_TN.shape"
   ]
  },
  {
   "cell_type": "markdown",
   "id": "75577bc0",
   "metadata": {},
   "source": [
    "#### Train Data frame  (NUESTRO)"
   ]
  },
  {
   "cell_type": "code",
   "execution_count": 52,
   "id": "0e1ca36e",
   "metadata": {},
   "outputs": [
    {
     "data": {
      "text/plain": [
       "host_listings_count     0\n",
       "price                   0\n",
       "minimum_nights          0\n",
       "maximum_nights          0\n",
       "review_scores_rating    0\n",
       "bathrooms               0\n",
       "dtype: int64"
      ]
     },
     "execution_count": 52,
     "metadata": {},
     "output_type": "execute_result"
    }
   ],
   "source": [
    "df_TN.isna().sum()"
   ]
  },
  {
   "cell_type": "markdown",
   "id": "8191c85d",
   "metadata": {},
   "source": [
    "#### Test de Data Frame"
   ]
  },
  {
   "cell_type": "code",
   "execution_count": 53,
   "id": "3e578cba",
   "metadata": {
    "scrolled": true
   },
   "outputs": [
    {
     "data": {
      "text/plain": [
       "host_listings_count     0\n",
       "minimum_nights          0\n",
       "maximum_nights          0\n",
       "review_scores_rating    0\n",
       "bathrooms               0\n",
       "dtype: int64"
      ]
     },
     "execution_count": 53,
     "metadata": {},
     "output_type": "execute_result"
    }
   ],
   "source": [
    "df_test.isna().sum()"
   ]
  },
  {
   "cell_type": "markdown",
   "id": "cecf968a",
   "metadata": {},
   "source": [
    "## 5. Entrenamos Modelos:"
   ]
  },
  {
   "cell_type": "markdown",
   "id": "085a8a14",
   "metadata": {},
   "source": [
    "### 5.1 Dividimos el Data Frame en X & y"
   ]
  },
  {
   "cell_type": "code",
   "execution_count": 54,
   "id": "038f8d1d",
   "metadata": {},
   "outputs": [],
   "source": [
    "X=df_TN.drop('price', axis=1)\n",
    "y=df_TN.price"
   ]
  },
  {
   "cell_type": "markdown",
   "id": "01c3f2d8",
   "metadata": {},
   "source": [
    "Probado con 0.9 mAL \n",
    "probado con 0.15 ? "
   ]
  },
  {
   "cell_type": "code",
   "execution_count": 55,
   "id": "04dd1475",
   "metadata": {},
   "outputs": [],
   "source": [
    "X_train, X_test, y_train, y_test = tts(X, y, test_size=0.15, random_state=42)"
   ]
  },
  {
   "cell_type": "markdown",
   "id": "10af6d14",
   "metadata": {},
   "source": [
    "### 5.2 Entrenamos modelos:"
   ]
  },
  {
   "cell_type": "markdown",
   "id": "19dcc49a",
   "metadata": {},
   "source": [
    "### Cuales de estos modelos son realemnte relevantes para la prediccion de Precio (Hacer busqueda en internet)"
   ]
  },
  {
   "cell_type": "code",
   "execution_count": 56,
   "id": "e97d037d",
   "metadata": {},
   "outputs": [],
   "source": [
    "def prueba_modelo(modelo):\n",
    "\n",
    "    modelo.fit(X_train, y_train)\n",
    "\n",
    "    y_pred=modelo.predict(X_test)\n",
    "\n",
    "    train_score=modelo.score(X_train, y_train)  \n",
    "    test_score=modelo.score(X_test, y_test)\n",
    "    \n",
    "    print(modelo)\n",
    "    print('Train:', train_score)\n",
    "    print('Test:', test_score) \n",
    "    print('\\n')\n"
   ]
  },
  {
   "cell_type": "markdown",
   "id": "cd1cea89",
   "metadata": {},
   "source": [
    "Un R2 negativo **FUEGO AL PROCESO**, no sirve la seleccion de caracteristicas no es la correcta.\n",
    "\n",
    "    *RandomForestRegressor()\n",
    "    Train: 0.6546076726525671\n",
    "    Test: -2.5553085963590485\n"
   ]
  },
  {
   "cell_type": "code",
   "execution_count": 57,
   "id": "12950997",
   "metadata": {
    "scrolled": true
   },
   "outputs": [
    {
     "name": "stdout",
     "output_type": "stream",
     "text": [
      "LinearRegression()\n",
      "Train: 0.05049164691721775\n",
      "Test: 0.12941395395101973\n",
      "\n",
      "\n",
      "Lasso()\n",
      "Train: 0.05031217364467355\n",
      "Test: 0.12720541695822507\n",
      "\n",
      "\n",
      "ElasticNet()\n",
      "Train: 0.026118955742512773\n",
      "Test: 0.05010493778477254\n",
      "\n",
      "\n",
      "SVR()\n",
      "Train: -0.02814854586297799\n",
      "Test: -0.05561995462896929\n",
      "\n",
      "\n",
      "RandomForestRegressor()\n",
      "Train: 0.6546076726525671\n",
      "Test: -2.5553085963590485\n",
      "\n",
      "\n",
      "SGDClassifier()\n",
      "Train: 0.01327308669867269\n",
      "Test: 0.004792332268370607\n",
      "\n",
      "\n",
      "GaussianNB()\n",
      "Train: 0.057046032194295396\n",
      "Test: 0.001597444089456869\n",
      "\n",
      "\n",
      "MultinomialNB()\n",
      "Train: 0.02005083309799492\n",
      "Test: 0.004792332268370607\n",
      "\n",
      "\n",
      "ComplementNB()\n",
      "Train: 0.01383789889861621\n",
      "Test: 0.01597444089456869\n",
      "\n",
      "\n"
     ]
    }
   ],
   "source": [
    "modelos=[LinReg(), Lasso(), ElasticNet(), SVR(),RFR(),SGDC(),GNB(),MNB(),CNB()]\n",
    "\n",
    "for m in modelos:\n",
    "    prueba_modelo(m)"
   ]
  },
  {
   "cell_type": "code",
   "execution_count": null,
   "id": "bea4adf9",
   "metadata": {},
   "outputs": [],
   "source": []
  },
  {
   "cell_type": "code",
   "execution_count": null,
   "id": "b4927ad6",
   "metadata": {},
   "outputs": [],
   "source": []
  },
  {
   "cell_type": "code",
   "execution_count": null,
   "id": "e21927b3",
   "metadata": {},
   "outputs": [],
   "source": []
  },
  {
   "cell_type": "code",
   "execution_count": null,
   "id": "fd618cae",
   "metadata": {},
   "outputs": [],
   "source": []
  },
  {
   "cell_type": "code",
   "execution_count": null,
   "id": "82bc3edf",
   "metadata": {},
   "outputs": [],
   "source": []
  },
  {
   "cell_type": "code",
   "execution_count": null,
   "id": "436149c3",
   "metadata": {},
   "outputs": [],
   "source": []
  },
  {
   "cell_type": "code",
   "execution_count": null,
   "id": "eed1c6bd",
   "metadata": {},
   "outputs": [],
   "source": []
  },
  {
   "cell_type": "code",
   "execution_count": null,
   "id": "3e86582c",
   "metadata": {},
   "outputs": [],
   "source": []
  },
  {
   "cell_type": "code",
   "execution_count": null,
   "id": "3604e5b0",
   "metadata": {},
   "outputs": [],
   "source": []
  },
  {
   "cell_type": "code",
   "execution_count": null,
   "id": "96a88973",
   "metadata": {},
   "outputs": [],
   "source": []
  },
  {
   "cell_type": "code",
   "execution_count": null,
   "id": "0d30e9e7",
   "metadata": {},
   "outputs": [],
   "source": []
  },
  {
   "cell_type": "code",
   "execution_count": null,
   "id": "76d39b64",
   "metadata": {},
   "outputs": [],
   "source": []
  },
  {
   "cell_type": "code",
   "execution_count": null,
   "id": "cd5bf85b",
   "metadata": {},
   "outputs": [],
   "source": []
  },
  {
   "cell_type": "code",
   "execution_count": 58,
   "id": "03346e16",
   "metadata": {},
   "outputs": [],
   "source": [
    "def regre(modelo):\n",
    "    \n",
    "    modelo.fit(X_train_d, y_train_d)\n",
    "    \n",
    "    train_score=modelo.score(X_train_d, y_train_d)  # R2\n",
    "    test_score=modelo.score(X_test_d, y_test_d)\n",
    "    \n",
    "    print(modelo)\n",
    "    print('Train R2:', train_score)\n",
    "    print('Test R2:', test_score)\n",
    "    \n",
    "    return modelo"
   ]
  },
  {
   "cell_type": "markdown",
   "id": "af54bd23",
   "metadata": {},
   "source": [
    "**OJO!! Definicion de modelo unicamente con Train**"
   ]
  },
  {
   "cell_type": "code",
   "execution_count": 59,
   "id": "0b98f520",
   "metadata": {},
   "outputs": [],
   "source": [
    "X_train_d, X_test_d, y_train_d, y_test_d = tts(df_TN.drop('price',axis=1), \n",
    "                                               df_TN.price)"
   ]
  },
  {
   "cell_type": "code",
   "execution_count": 60,
   "id": "3b11e487",
   "metadata": {},
   "outputs": [
    {
     "data": {
      "text/html": [
       "<div>\n",
       "<style scoped>\n",
       "    .dataframe tbody tr th:only-of-type {\n",
       "        vertical-align: middle;\n",
       "    }\n",
       "\n",
       "    .dataframe tbody tr th {\n",
       "        vertical-align: top;\n",
       "    }\n",
       "\n",
       "    .dataframe thead th {\n",
       "        text-align: right;\n",
       "    }\n",
       "</style>\n",
       "<table border=\"1\" class=\"dataframe\">\n",
       "  <thead>\n",
       "    <tr style=\"text-align: right;\">\n",
       "      <th></th>\n",
       "      <th>host_listings_count</th>\n",
       "      <th>price</th>\n",
       "      <th>minimum_nights</th>\n",
       "      <th>maximum_nights</th>\n",
       "      <th>review_scores_rating</th>\n",
       "      <th>bathrooms</th>\n",
       "    </tr>\n",
       "  </thead>\n",
       "  <tbody>\n",
       "    <tr>\n",
       "      <th>0</th>\n",
       "      <td>13</td>\n",
       "      <td>87.0</td>\n",
       "      <td>2</td>\n",
       "      <td>1125</td>\n",
       "      <td>4.62</td>\n",
       "      <td>1</td>\n",
       "    </tr>\n",
       "    <tr>\n",
       "      <th>1</th>\n",
       "      <td>0</td>\n",
       "      <td>250.0</td>\n",
       "      <td>2</td>\n",
       "      <td>1125</td>\n",
       "      <td>5.00</td>\n",
       "      <td>1</td>\n",
       "    </tr>\n",
       "  </tbody>\n",
       "</table>\n",
       "</div>"
      ],
      "text/plain": [
       "   host_listings_count  price  minimum_nights  maximum_nights  \\\n",
       "0                   13   87.0               2            1125   \n",
       "1                    0  250.0               2            1125   \n",
       "\n",
       "   review_scores_rating  bathrooms  \n",
       "0                  4.62          1  \n",
       "1                  5.00          1  "
      ]
     },
     "execution_count": 60,
     "metadata": {},
     "output_type": "execute_result"
    }
   ],
   "source": [
    "df_TN.head(2)"
   ]
  },
  {
   "cell_type": "code",
   "execution_count": 61,
   "id": "9f764d7e",
   "metadata": {},
   "outputs": [
    {
     "ename": "NameError",
     "evalue": "name 'modelo' is not defined",
     "output_type": "error",
     "traceback": [
      "\u001b[0;31m---------------------------------------------------------------------------\u001b[0m",
      "\u001b[0;31mNameError\u001b[0m                                 Traceback (most recent call last)",
      "\u001b[0;32m/var/folders/xt/vx2zkv116hb1jvz92s1nlr2r0000gn/T/ipykernel_44052/3588432432.py\u001b[0m in \u001b[0;36m<module>\u001b[0;34m\u001b[0m\n\u001b[0;32m----> 1\u001b[0;31m \u001b[0mregre\u001b[0m\u001b[0;34m(\u001b[0m\u001b[0mmodelo\u001b[0m\u001b[0;34m)\u001b[0m\u001b[0;34m\u001b[0m\u001b[0;34m\u001b[0m\u001b[0m\n\u001b[0m",
      "\u001b[0;31mNameError\u001b[0m: name 'modelo' is not defined"
     ]
    }
   ],
   "source": [
    "regre(modelo)"
   ]
  },
  {
   "cell_type": "code",
   "execution_count": null,
   "id": "84da813f",
   "metadata": {},
   "outputs": [],
   "source": []
  },
  {
   "cell_type": "markdown",
   "id": "1f6296f9",
   "metadata": {},
   "source": [
    "### Definicion y activcion del modelo:"
   ]
  },
  {
   "cell_type": "code",
   "execution_count": null,
   "id": "4df3a1a3",
   "metadata": {
    "scrolled": false
   },
   "outputs": [],
   "source": [
    "modelo=RFR()\n",
    "\n",
    "modelo.fit(X_train, y_train)"
   ]
  },
  {
   "cell_type": "markdown",
   "id": "6678d8c6",
   "metadata": {},
   "source": [
    "### R2"
   ]
  },
  {
   "cell_type": "code",
   "execution_count": null,
   "id": "d14b54ec",
   "metadata": {},
   "outputs": [],
   "source": [
    "modelo.score(X_test, y_test)# R2 cuanto mas cercano a 1 mejor "
   ]
  },
  {
   "cell_type": "code",
   "execution_count": null,
   "id": "5d790622",
   "metadata": {},
   "outputs": [],
   "source": [
    "y_pred=modelo.predict(X_test)"
   ]
  },
  {
   "cell_type": "markdown",
   "id": "111d169b",
   "metadata": {},
   "source": [
    "#### MSE (ERROR CUADRATICO MEDIO) 1 No confiar & 0.85746 Muy bien & 0.24343445 Regular"
   ]
  },
  {
   "cell_type": "code",
   "execution_count": null,
   "id": "78117230",
   "metadata": {},
   "outputs": [],
   "source": [
    "mse(y_pred, y_test, squared=False)"
   ]
  },
  {
   "cell_type": "markdown",
   "id": "f427703e",
   "metadata": {},
   "source": [
    "## 5. Model Testing in Test Data"
   ]
  },
  {
   "cell_type": "markdown",
   "id": "53b3c88e",
   "metadata": {},
   "source": [
    "**Using RFR on Test Data**"
   ]
  },
  {
   "cell_type": "code",
   "execution_count": null,
   "id": "0c380d29",
   "metadata": {},
   "outputs": [],
   "source": [
    "y_pred=modelo.predict(df_test)"
   ]
  },
  {
   "cell_type": "code",
   "execution_count": null,
   "id": "a3223580",
   "metadata": {
    "scrolled": true
   },
   "outputs": [],
   "source": [
    "y_pred.shape"
   ]
  },
  {
   "cell_type": "code",
   "execution_count": null,
   "id": "9cc17fc9",
   "metadata": {
    "scrolled": true
   },
   "outputs": [],
   "source": [
    "f\"Train : {modelo.score(X_train, y_train)} Test: {modelo.score(X_test, y_test)}\"\n"
   ]
  },
  {
   "cell_type": "markdown",
   "id": "b0286dbd",
   "metadata": {},
   "source": [
    "## Importante!!"
   ]
  },
  {
   "cell_type": "markdown",
   "id": "5f4ff93d",
   "metadata": {},
   "source": [
    "### Hacer funcion de este proceso para generar DF con las dos columnas de todos los modelos:"
   ]
  },
  {
   "cell_type": "code",
   "execution_count": null,
   "id": "b3092dec",
   "metadata": {},
   "outputs": [],
   "source": [
    "sample_df=pd.DataFrame()\n",
    "\n",
    "\n",
    "sample_df['id']=[str(i) for i in range(len(y_pred))]\n",
    "sample_df['price']=y_pred\n",
    "\n",
    "sample_df.shape"
   ]
  },
  {
   "cell_type": "code",
   "execution_count": null,
   "id": "98d36a32",
   "metadata": {
    "scrolled": false
   },
   "outputs": [],
   "source": [
    "sample_df.head()"
   ]
  },
  {
   "cell_type": "markdown",
   "id": "bd4a8ae8",
   "metadata": {},
   "source": [
    "### Guardar modelo para subir ala competicion de Kaggle: (Hacer solo si se mejora el anterior resultado)"
   ]
  },
  {
   "cell_type": "code",
   "execution_count": null,
   "id": "189bbf9a",
   "metadata": {},
   "outputs": [],
   "source": [
    "#sample_df.to_csv('data/sample_df.csv',index=False)"
   ]
  },
  {
   "cell_type": "markdown",
   "id": "38722e4b",
   "metadata": {},
   "source": [
    "### Guardar los modelos en un Diccionario: (Tengo que afinarlo)"
   ]
  },
  {
   "cell_type": "markdown",
   "id": "ee9361f4",
   "metadata": {},
   "source": [
    "modelos=[LinReg(), Lasso(), ElasticNet(), SVR(),RFR(),SGDC(),GNB(),MNB(),CNB()]\n",
    "* dict_fit = {}\n",
    "    * for k,v in enumerate(modelos):\n",
    "        dict_fit[k]=prueba_modelo(v)"
   ]
  },
  {
   "cell_type": "markdown",
   "id": "161748a4",
   "metadata": {},
   "source": [
    "### PREGUNTA: XQ ,ME SALE NONE EN VALUE KEYS???"
   ]
  },
  {
   "cell_type": "code",
   "execution_count": null,
   "id": "14699919",
   "metadata": {},
   "outputs": [],
   "source": [
    "#dict_fit"
   ]
  }
 ],
 "metadata": {
  "kernelspec": {
   "display_name": "Python3 (ironhack_2)",
   "language": "python",
   "name": "condaenv"
  },
  "language_info": {
   "codemirror_mode": {
    "name": "ipython",
    "version": 3
   },
   "file_extension": ".py",
   "mimetype": "text/x-python",
   "name": "python",
   "nbconvert_exporter": "python",
   "pygments_lexer": "ipython3",
   "version": "3.8.11"
  }
 },
 "nbformat": 4,
 "nbformat_minor": 5
}
